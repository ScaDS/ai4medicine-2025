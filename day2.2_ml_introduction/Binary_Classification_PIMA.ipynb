{
 "cells": [
  {
   "cell_type": "markdown",
   "id": "b5481b4d-4ee2-4b33-b041-aca23b295bb3",
   "metadata": {},
   "source": [
    "# Binary Classification of the PIMA Indians Diabetes Dataset\n",
    "---\n",
    "\n",
    "This notebook demonstrates a **machine learning workflow** for binary classification:  \n",
    "predicting whether a patient has diabetes based on clinical features.  \n",
    "\n",
    "**Key challenges**: class imbalance and moderate dataset size\n",
    "\n",
    "---\n",
    "\n",
    "## Steps in this notebook\n",
    "\n",
    "1. **Load the dataset**\n",
    "   - Import data and perform initial exploration  \n",
    "<br>\n",
    "2. **Preprocess the data**  \n",
    "   - Train/test split  \n",
    "   - Standard scaling of numeric features  \n",
    "<br>\n",
    "3. **Train a baseline model**  \n",
    "   - Logistic Regression  \n",
    "<br>\n",
    "4. **Evaluate model performance**  \n",
    "   - Confusion matrix, sensitivity, specificity, accuracy  \n",
    "   - ROC curve and AUROC  \n",
    "   - Precision–Recall curve and Average Precision (for imbalanced data)  \n",
    "<br>\n",
    "5. **Explore decision thresholds**  \n",
    "   - Threshold analysis to select an optimal operating point  \n",
    "<br>\n",
    "6. **Make predictions**  \n",
    "   - Example prediction with clinical input features  \n",
    "\n",
    "---\n",
    "\n",
    "## Dataset\n",
    "- **Pima Indians Diabetes Dataset (UCI classic)**: each row represents a patient with clinical measurements such as age, BMI, blood pressure, glucose, insulin, pregnancies, and a binary outcome (`1 = diabetes`, `0 = no diabetes`).  \n",
    "- Source: [Kaggle – Pima Indians Diabetes Database (2016)](https://www.kaggle.com/datasets/uciml/pima-indians-diabetes-database)  \n"
   ]
  },
  {
   "cell_type": "markdown",
   "id": "580dedde-81ee-4f66-9a0c-1712e06fa0ef",
   "metadata": {},
   "source": [
    "## Import libraries"
   ]
  },
  {
   "cell_type": "code",
   "execution_count": 1,
   "id": "84488f6f-b3ff-40eb-be0b-5fdc0c0203ff",
   "metadata": {},
   "outputs": [],
   "source": [
    "import pandas as pd\n",
    "import numpy as np\n",
    "\n",
    "from sklearn.model_selection import train_test_split\n",
    "from sklearn.preprocessing import StandardScaler\n",
    "from sklearn.linear_model import LogisticRegression\n",
    "from sklearn.metrics import (\n",
    "    classification_report, confusion_matrix, accuracy_score, precision_score, recall_score, \n",
    "    roc_curve, roc_auc_score, precision_recall_curve, average_precision_score\n",
    ")\n",
    "import seaborn as sns\n",
    "import matplotlib.pyplot as plt"
   ]
  },
  {
   "cell_type": "markdown",
   "id": "04178f9b-13d8-4253-8f58-139c6dcf9b79",
   "metadata": {},
   "source": [
    "## 1. Load the dataset"
   ]
  },
  {
   "cell_type": "code",
   "execution_count": 2,
   "id": "c9d4b0c5-10c3-4472-9f7e-6d48d85dabdd",
   "metadata": {},
   "outputs": [],
   "source": [
    "file_path = \"./PIMA_Indians_Diabetes.csv\"\n",
    "data = pd.read_csv(file_path)"
   ]
  },
  {
   "cell_type": "code",
   "execution_count": 3,
   "id": "57283f4d-068b-4283-8990-7114ccc7083e",
   "metadata": {},
   "outputs": [
    {
     "name": "stdout",
     "output_type": "stream",
     "text": [
      "Dataset dimensions: (768, 9)\n",
      "\n"
     ]
    },
    {
     "data": {
      "text/html": [
       "<div>\n",
       "<style scoped>\n",
       "    .dataframe tbody tr th:only-of-type {\n",
       "        vertical-align: middle;\n",
       "    }\n",
       "\n",
       "    .dataframe tbody tr th {\n",
       "        vertical-align: top;\n",
       "    }\n",
       "\n",
       "    .dataframe thead th {\n",
       "        text-align: right;\n",
       "    }\n",
       "</style>\n",
       "<table border=\"1\" class=\"dataframe\">\n",
       "  <thead>\n",
       "    <tr style=\"text-align: right;\">\n",
       "      <th></th>\n",
       "      <th>Age</th>\n",
       "      <th>BMI</th>\n",
       "      <th>BloodPressure</th>\n",
       "      <th>Glucose</th>\n",
       "      <th>Insulin</th>\n",
       "      <th>SkinThickness</th>\n",
       "      <th>Pregnancies</th>\n",
       "      <th>DiabetesPedigree</th>\n",
       "      <th>Outcome</th>\n",
       "    </tr>\n",
       "  </thead>\n",
       "  <tbody>\n",
       "    <tr>\n",
       "      <th>0</th>\n",
       "      <td>50</td>\n",
       "      <td>33.6</td>\n",
       "      <td>72</td>\n",
       "      <td>148</td>\n",
       "      <td>0</td>\n",
       "      <td>35</td>\n",
       "      <td>6</td>\n",
       "      <td>0.627</td>\n",
       "      <td>1</td>\n",
       "    </tr>\n",
       "    <tr>\n",
       "      <th>1</th>\n",
       "      <td>31</td>\n",
       "      <td>26.6</td>\n",
       "      <td>66</td>\n",
       "      <td>85</td>\n",
       "      <td>0</td>\n",
       "      <td>29</td>\n",
       "      <td>1</td>\n",
       "      <td>0.351</td>\n",
       "      <td>0</td>\n",
       "    </tr>\n",
       "    <tr>\n",
       "      <th>2</th>\n",
       "      <td>32</td>\n",
       "      <td>23.3</td>\n",
       "      <td>64</td>\n",
       "      <td>183</td>\n",
       "      <td>0</td>\n",
       "      <td>0</td>\n",
       "      <td>8</td>\n",
       "      <td>0.672</td>\n",
       "      <td>1</td>\n",
       "    </tr>\n",
       "    <tr>\n",
       "      <th>3</th>\n",
       "      <td>21</td>\n",
       "      <td>28.1</td>\n",
       "      <td>66</td>\n",
       "      <td>89</td>\n",
       "      <td>94</td>\n",
       "      <td>23</td>\n",
       "      <td>1</td>\n",
       "      <td>0.167</td>\n",
       "      <td>0</td>\n",
       "    </tr>\n",
       "    <tr>\n",
       "      <th>4</th>\n",
       "      <td>33</td>\n",
       "      <td>43.1</td>\n",
       "      <td>40</td>\n",
       "      <td>137</td>\n",
       "      <td>168</td>\n",
       "      <td>35</td>\n",
       "      <td>0</td>\n",
       "      <td>2.288</td>\n",
       "      <td>1</td>\n",
       "    </tr>\n",
       "  </tbody>\n",
       "</table>\n",
       "</div>"
      ],
      "text/plain": [
       "   Age   BMI  BloodPressure  Glucose  Insulin  SkinThickness  Pregnancies  \\\n",
       "0   50  33.6             72      148        0             35            6   \n",
       "1   31  26.6             66       85        0             29            1   \n",
       "2   32  23.3             64      183        0              0            8   \n",
       "3   21  28.1             66       89       94             23            1   \n",
       "4   33  43.1             40      137      168             35            0   \n",
       "\n",
       "   DiabetesPedigree  Outcome  \n",
       "0             0.627        1  \n",
       "1             0.351        0  \n",
       "2             0.672        1  \n",
       "3             0.167        0  \n",
       "4             2.288        1  "
      ]
     },
     "execution_count": 3,
     "metadata": {},
     "output_type": "execute_result"
    }
   ],
   "source": [
    "print(f\"Dataset dimensions: {data.shape}\\n\")\n",
    "data.head()"
   ]
  },
  {
   "cell_type": "markdown",
   "id": "0a670e7b-02bc-40f2-ac61-4fc27f11aa4f",
   "metadata": {},
   "source": [
    "## 2. Preprocessing the data"
   ]
  },
  {
   "cell_type": "markdown",
   "id": "c6ac76cb-d41b-4dfe-a33a-9ccc91f99244",
   "metadata": {},
   "source": [
    "### Split into features (X) and target (y)"
   ]
  },
  {
   "cell_type": "code",
   "execution_count": 4,
   "id": "37381dde-9485-4387-971d-dffb770d0287",
   "metadata": {},
   "outputs": [],
   "source": [
    "X = data.drop(\"Outcome\", axis=1)\n",
    "y = data[\"Outcome\"]"
   ]
  },
  {
   "cell_type": "markdown",
   "id": "904a3f8e-fd44-438a-9150-37e7a1da2aaf",
   "metadata": {},
   "source": [
    "### Create training and test sets with stratification to preserve class balance"
   ]
  },
  {
   "cell_type": "code",
   "execution_count": 5,
   "id": "4edc0ca0-d76d-4a0a-b1bd-e84979db3e3f",
   "metadata": {},
   "outputs": [],
   "source": [
    "X_train, X_test, y_train, y_test = train_test_split(\n",
    "    X, y, test_size=0.2, random_state=21, stratify=y\n",
    ")"
   ]
  },
  {
   "cell_type": "markdown",
   "id": "48dd3fb7-2da6-4ea3-9ad4-0c8fe7859444",
   "metadata": {},
   "source": [
    "### Standardize features to improve model performance"
   ]
  },
  {
   "cell_type": "code",
   "execution_count": 6,
   "id": "f1312406-6b14-413d-9c2d-05df1ad6d6fc",
   "metadata": {},
   "outputs": [],
   "source": [
    "scaler = StandardScaler()\n",
    "X_train_scaled = scaler.fit_transform(X_train)\n",
    "X_test_scaled = scaler.transform(X_test)"
   ]
  },
  {
   "cell_type": "markdown",
   "id": "aed26a44-45a5-439a-aacb-fb92fe8e705e",
   "metadata": {},
   "source": [
    "## 3. Train a baseline ML model"
   ]
  },
  {
   "cell_type": "markdown",
   "id": "4ead98fc-4061-4568-80e7-83c59a08860e",
   "metadata": {},
   "source": [
    "### Logistic Regression is a good baseline for binary classification"
   ]
  },
  {
   "cell_type": "code",
   "execution_count": 7,
   "id": "f7492782-f531-4bd0-afde-f0daf8219478",
   "metadata": {},
   "outputs": [
    {
     "data": {
      "text/html": [
       "<style>#sk-container-id-1 {\n",
       "  /* Definition of color scheme common for light and dark mode */\n",
       "  --sklearn-color-text: #000;\n",
       "  --sklearn-color-text-muted: #666;\n",
       "  --sklearn-color-line: gray;\n",
       "  /* Definition of color scheme for unfitted estimators */\n",
       "  --sklearn-color-unfitted-level-0: #fff5e6;\n",
       "  --sklearn-color-unfitted-level-1: #f6e4d2;\n",
       "  --sklearn-color-unfitted-level-2: #ffe0b3;\n",
       "  --sklearn-color-unfitted-level-3: chocolate;\n",
       "  /* Definition of color scheme for fitted estimators */\n",
       "  --sklearn-color-fitted-level-0: #f0f8ff;\n",
       "  --sklearn-color-fitted-level-1: #d4ebff;\n",
       "  --sklearn-color-fitted-level-2: #b3dbfd;\n",
       "  --sklearn-color-fitted-level-3: cornflowerblue;\n",
       "\n",
       "  /* Specific color for light theme */\n",
       "  --sklearn-color-text-on-default-background: var(--sg-text-color, var(--theme-code-foreground, var(--jp-content-font-color1, black)));\n",
       "  --sklearn-color-background: var(--sg-background-color, var(--theme-background, var(--jp-layout-color0, white)));\n",
       "  --sklearn-color-border-box: var(--sg-text-color, var(--theme-code-foreground, var(--jp-content-font-color1, black)));\n",
       "  --sklearn-color-icon: #696969;\n",
       "\n",
       "  @media (prefers-color-scheme: dark) {\n",
       "    /* Redefinition of color scheme for dark theme */\n",
       "    --sklearn-color-text-on-default-background: var(--sg-text-color, var(--theme-code-foreground, var(--jp-content-font-color1, white)));\n",
       "    --sklearn-color-background: var(--sg-background-color, var(--theme-background, var(--jp-layout-color0, #111)));\n",
       "    --sklearn-color-border-box: var(--sg-text-color, var(--theme-code-foreground, var(--jp-content-font-color1, white)));\n",
       "    --sklearn-color-icon: #878787;\n",
       "  }\n",
       "}\n",
       "\n",
       "#sk-container-id-1 {\n",
       "  color: var(--sklearn-color-text);\n",
       "}\n",
       "\n",
       "#sk-container-id-1 pre {\n",
       "  padding: 0;\n",
       "}\n",
       "\n",
       "#sk-container-id-1 input.sk-hidden--visually {\n",
       "  border: 0;\n",
       "  clip: rect(1px 1px 1px 1px);\n",
       "  clip: rect(1px, 1px, 1px, 1px);\n",
       "  height: 1px;\n",
       "  margin: -1px;\n",
       "  overflow: hidden;\n",
       "  padding: 0;\n",
       "  position: absolute;\n",
       "  width: 1px;\n",
       "}\n",
       "\n",
       "#sk-container-id-1 div.sk-dashed-wrapped {\n",
       "  border: 1px dashed var(--sklearn-color-line);\n",
       "  margin: 0 0.4em 0.5em 0.4em;\n",
       "  box-sizing: border-box;\n",
       "  padding-bottom: 0.4em;\n",
       "  background-color: var(--sklearn-color-background);\n",
       "}\n",
       "\n",
       "#sk-container-id-1 div.sk-container {\n",
       "  /* jupyter's `normalize.less` sets `[hidden] { display: none; }`\n",
       "     but bootstrap.min.css set `[hidden] { display: none !important; }`\n",
       "     so we also need the `!important` here to be able to override the\n",
       "     default hidden behavior on the sphinx rendered scikit-learn.org.\n",
       "     See: https://github.com/scikit-learn/scikit-learn/issues/21755 */\n",
       "  display: inline-block !important;\n",
       "  position: relative;\n",
       "}\n",
       "\n",
       "#sk-container-id-1 div.sk-text-repr-fallback {\n",
       "  display: none;\n",
       "}\n",
       "\n",
       "div.sk-parallel-item,\n",
       "div.sk-serial,\n",
       "div.sk-item {\n",
       "  /* draw centered vertical line to link estimators */\n",
       "  background-image: linear-gradient(var(--sklearn-color-text-on-default-background), var(--sklearn-color-text-on-default-background));\n",
       "  background-size: 2px 100%;\n",
       "  background-repeat: no-repeat;\n",
       "  background-position: center center;\n",
       "}\n",
       "\n",
       "/* Parallel-specific style estimator block */\n",
       "\n",
       "#sk-container-id-1 div.sk-parallel-item::after {\n",
       "  content: \"\";\n",
       "  width: 100%;\n",
       "  border-bottom: 2px solid var(--sklearn-color-text-on-default-background);\n",
       "  flex-grow: 1;\n",
       "}\n",
       "\n",
       "#sk-container-id-1 div.sk-parallel {\n",
       "  display: flex;\n",
       "  align-items: stretch;\n",
       "  justify-content: center;\n",
       "  background-color: var(--sklearn-color-background);\n",
       "  position: relative;\n",
       "}\n",
       "\n",
       "#sk-container-id-1 div.sk-parallel-item {\n",
       "  display: flex;\n",
       "  flex-direction: column;\n",
       "}\n",
       "\n",
       "#sk-container-id-1 div.sk-parallel-item:first-child::after {\n",
       "  align-self: flex-end;\n",
       "  width: 50%;\n",
       "}\n",
       "\n",
       "#sk-container-id-1 div.sk-parallel-item:last-child::after {\n",
       "  align-self: flex-start;\n",
       "  width: 50%;\n",
       "}\n",
       "\n",
       "#sk-container-id-1 div.sk-parallel-item:only-child::after {\n",
       "  width: 0;\n",
       "}\n",
       "\n",
       "/* Serial-specific style estimator block */\n",
       "\n",
       "#sk-container-id-1 div.sk-serial {\n",
       "  display: flex;\n",
       "  flex-direction: column;\n",
       "  align-items: center;\n",
       "  background-color: var(--sklearn-color-background);\n",
       "  padding-right: 1em;\n",
       "  padding-left: 1em;\n",
       "}\n",
       "\n",
       "\n",
       "/* Toggleable style: style used for estimator/Pipeline/ColumnTransformer box that is\n",
       "clickable and can be expanded/collapsed.\n",
       "- Pipeline and ColumnTransformer use this feature and define the default style\n",
       "- Estimators will overwrite some part of the style using the `sk-estimator` class\n",
       "*/\n",
       "\n",
       "/* Pipeline and ColumnTransformer style (default) */\n",
       "\n",
       "#sk-container-id-1 div.sk-toggleable {\n",
       "  /* Default theme specific background. It is overwritten whether we have a\n",
       "  specific estimator or a Pipeline/ColumnTransformer */\n",
       "  background-color: var(--sklearn-color-background);\n",
       "}\n",
       "\n",
       "/* Toggleable label */\n",
       "#sk-container-id-1 label.sk-toggleable__label {\n",
       "  cursor: pointer;\n",
       "  display: flex;\n",
       "  width: 100%;\n",
       "  margin-bottom: 0;\n",
       "  padding: 0.5em;\n",
       "  box-sizing: border-box;\n",
       "  text-align: center;\n",
       "  align-items: start;\n",
       "  justify-content: space-between;\n",
       "  gap: 0.5em;\n",
       "}\n",
       "\n",
       "#sk-container-id-1 label.sk-toggleable__label .caption {\n",
       "  font-size: 0.6rem;\n",
       "  font-weight: lighter;\n",
       "  color: var(--sklearn-color-text-muted);\n",
       "}\n",
       "\n",
       "#sk-container-id-1 label.sk-toggleable__label-arrow:before {\n",
       "  /* Arrow on the left of the label */\n",
       "  content: \"▸\";\n",
       "  float: left;\n",
       "  margin-right: 0.25em;\n",
       "  color: var(--sklearn-color-icon);\n",
       "}\n",
       "\n",
       "#sk-container-id-1 label.sk-toggleable__label-arrow:hover:before {\n",
       "  color: var(--sklearn-color-text);\n",
       "}\n",
       "\n",
       "/* Toggleable content - dropdown */\n",
       "\n",
       "#sk-container-id-1 div.sk-toggleable__content {\n",
       "  max-height: 0;\n",
       "  max-width: 0;\n",
       "  overflow: hidden;\n",
       "  text-align: left;\n",
       "  /* unfitted */\n",
       "  background-color: var(--sklearn-color-unfitted-level-0);\n",
       "}\n",
       "\n",
       "#sk-container-id-1 div.sk-toggleable__content.fitted {\n",
       "  /* fitted */\n",
       "  background-color: var(--sklearn-color-fitted-level-0);\n",
       "}\n",
       "\n",
       "#sk-container-id-1 div.sk-toggleable__content pre {\n",
       "  margin: 0.2em;\n",
       "  border-radius: 0.25em;\n",
       "  color: var(--sklearn-color-text);\n",
       "  /* unfitted */\n",
       "  background-color: var(--sklearn-color-unfitted-level-0);\n",
       "}\n",
       "\n",
       "#sk-container-id-1 div.sk-toggleable__content.fitted pre {\n",
       "  /* unfitted */\n",
       "  background-color: var(--sklearn-color-fitted-level-0);\n",
       "}\n",
       "\n",
       "#sk-container-id-1 input.sk-toggleable__control:checked~div.sk-toggleable__content {\n",
       "  /* Expand drop-down */\n",
       "  max-height: 200px;\n",
       "  max-width: 100%;\n",
       "  overflow: auto;\n",
       "}\n",
       "\n",
       "#sk-container-id-1 input.sk-toggleable__control:checked~label.sk-toggleable__label-arrow:before {\n",
       "  content: \"▾\";\n",
       "}\n",
       "\n",
       "/* Pipeline/ColumnTransformer-specific style */\n",
       "\n",
       "#sk-container-id-1 div.sk-label input.sk-toggleable__control:checked~label.sk-toggleable__label {\n",
       "  color: var(--sklearn-color-text);\n",
       "  background-color: var(--sklearn-color-unfitted-level-2);\n",
       "}\n",
       "\n",
       "#sk-container-id-1 div.sk-label.fitted input.sk-toggleable__control:checked~label.sk-toggleable__label {\n",
       "  background-color: var(--sklearn-color-fitted-level-2);\n",
       "}\n",
       "\n",
       "/* Estimator-specific style */\n",
       "\n",
       "/* Colorize estimator box */\n",
       "#sk-container-id-1 div.sk-estimator input.sk-toggleable__control:checked~label.sk-toggleable__label {\n",
       "  /* unfitted */\n",
       "  background-color: var(--sklearn-color-unfitted-level-2);\n",
       "}\n",
       "\n",
       "#sk-container-id-1 div.sk-estimator.fitted input.sk-toggleable__control:checked~label.sk-toggleable__label {\n",
       "  /* fitted */\n",
       "  background-color: var(--sklearn-color-fitted-level-2);\n",
       "}\n",
       "\n",
       "#sk-container-id-1 div.sk-label label.sk-toggleable__label,\n",
       "#sk-container-id-1 div.sk-label label {\n",
       "  /* The background is the default theme color */\n",
       "  color: var(--sklearn-color-text-on-default-background);\n",
       "}\n",
       "\n",
       "/* On hover, darken the color of the background */\n",
       "#sk-container-id-1 div.sk-label:hover label.sk-toggleable__label {\n",
       "  color: var(--sklearn-color-text);\n",
       "  background-color: var(--sklearn-color-unfitted-level-2);\n",
       "}\n",
       "\n",
       "/* Label box, darken color on hover, fitted */\n",
       "#sk-container-id-1 div.sk-label.fitted:hover label.sk-toggleable__label.fitted {\n",
       "  color: var(--sklearn-color-text);\n",
       "  background-color: var(--sklearn-color-fitted-level-2);\n",
       "}\n",
       "\n",
       "/* Estimator label */\n",
       "\n",
       "#sk-container-id-1 div.sk-label label {\n",
       "  font-family: monospace;\n",
       "  font-weight: bold;\n",
       "  display: inline-block;\n",
       "  line-height: 1.2em;\n",
       "}\n",
       "\n",
       "#sk-container-id-1 div.sk-label-container {\n",
       "  text-align: center;\n",
       "}\n",
       "\n",
       "/* Estimator-specific */\n",
       "#sk-container-id-1 div.sk-estimator {\n",
       "  font-family: monospace;\n",
       "  border: 1px dotted var(--sklearn-color-border-box);\n",
       "  border-radius: 0.25em;\n",
       "  box-sizing: border-box;\n",
       "  margin-bottom: 0.5em;\n",
       "  /* unfitted */\n",
       "  background-color: var(--sklearn-color-unfitted-level-0);\n",
       "}\n",
       "\n",
       "#sk-container-id-1 div.sk-estimator.fitted {\n",
       "  /* fitted */\n",
       "  background-color: var(--sklearn-color-fitted-level-0);\n",
       "}\n",
       "\n",
       "/* on hover */\n",
       "#sk-container-id-1 div.sk-estimator:hover {\n",
       "  /* unfitted */\n",
       "  background-color: var(--sklearn-color-unfitted-level-2);\n",
       "}\n",
       "\n",
       "#sk-container-id-1 div.sk-estimator.fitted:hover {\n",
       "  /* fitted */\n",
       "  background-color: var(--sklearn-color-fitted-level-2);\n",
       "}\n",
       "\n",
       "/* Specification for estimator info (e.g. \"i\" and \"?\") */\n",
       "\n",
       "/* Common style for \"i\" and \"?\" */\n",
       "\n",
       ".sk-estimator-doc-link,\n",
       "a:link.sk-estimator-doc-link,\n",
       "a:visited.sk-estimator-doc-link {\n",
       "  float: right;\n",
       "  font-size: smaller;\n",
       "  line-height: 1em;\n",
       "  font-family: monospace;\n",
       "  background-color: var(--sklearn-color-background);\n",
       "  border-radius: 1em;\n",
       "  height: 1em;\n",
       "  width: 1em;\n",
       "  text-decoration: none !important;\n",
       "  margin-left: 0.5em;\n",
       "  text-align: center;\n",
       "  /* unfitted */\n",
       "  border: var(--sklearn-color-unfitted-level-1) 1pt solid;\n",
       "  color: var(--sklearn-color-unfitted-level-1);\n",
       "}\n",
       "\n",
       ".sk-estimator-doc-link.fitted,\n",
       "a:link.sk-estimator-doc-link.fitted,\n",
       "a:visited.sk-estimator-doc-link.fitted {\n",
       "  /* fitted */\n",
       "  border: var(--sklearn-color-fitted-level-1) 1pt solid;\n",
       "  color: var(--sklearn-color-fitted-level-1);\n",
       "}\n",
       "\n",
       "/* On hover */\n",
       "div.sk-estimator:hover .sk-estimator-doc-link:hover,\n",
       ".sk-estimator-doc-link:hover,\n",
       "div.sk-label-container:hover .sk-estimator-doc-link:hover,\n",
       ".sk-estimator-doc-link:hover {\n",
       "  /* unfitted */\n",
       "  background-color: var(--sklearn-color-unfitted-level-3);\n",
       "  color: var(--sklearn-color-background);\n",
       "  text-decoration: none;\n",
       "}\n",
       "\n",
       "div.sk-estimator.fitted:hover .sk-estimator-doc-link.fitted:hover,\n",
       ".sk-estimator-doc-link.fitted:hover,\n",
       "div.sk-label-container:hover .sk-estimator-doc-link.fitted:hover,\n",
       ".sk-estimator-doc-link.fitted:hover {\n",
       "  /* fitted */\n",
       "  background-color: var(--sklearn-color-fitted-level-3);\n",
       "  color: var(--sklearn-color-background);\n",
       "  text-decoration: none;\n",
       "}\n",
       "\n",
       "/* Span, style for the box shown on hovering the info icon */\n",
       ".sk-estimator-doc-link span {\n",
       "  display: none;\n",
       "  z-index: 9999;\n",
       "  position: relative;\n",
       "  font-weight: normal;\n",
       "  right: .2ex;\n",
       "  padding: .5ex;\n",
       "  margin: .5ex;\n",
       "  width: min-content;\n",
       "  min-width: 20ex;\n",
       "  max-width: 50ex;\n",
       "  color: var(--sklearn-color-text);\n",
       "  box-shadow: 2pt 2pt 4pt #999;\n",
       "  /* unfitted */\n",
       "  background: var(--sklearn-color-unfitted-level-0);\n",
       "  border: .5pt solid var(--sklearn-color-unfitted-level-3);\n",
       "}\n",
       "\n",
       ".sk-estimator-doc-link.fitted span {\n",
       "  /* fitted */\n",
       "  background: var(--sklearn-color-fitted-level-0);\n",
       "  border: var(--sklearn-color-fitted-level-3);\n",
       "}\n",
       "\n",
       ".sk-estimator-doc-link:hover span {\n",
       "  display: block;\n",
       "}\n",
       "\n",
       "/* \"?\"-specific style due to the `<a>` HTML tag */\n",
       "\n",
       "#sk-container-id-1 a.estimator_doc_link {\n",
       "  float: right;\n",
       "  font-size: 1rem;\n",
       "  line-height: 1em;\n",
       "  font-family: monospace;\n",
       "  background-color: var(--sklearn-color-background);\n",
       "  border-radius: 1rem;\n",
       "  height: 1rem;\n",
       "  width: 1rem;\n",
       "  text-decoration: none;\n",
       "  /* unfitted */\n",
       "  color: var(--sklearn-color-unfitted-level-1);\n",
       "  border: var(--sklearn-color-unfitted-level-1) 1pt solid;\n",
       "}\n",
       "\n",
       "#sk-container-id-1 a.estimator_doc_link.fitted {\n",
       "  /* fitted */\n",
       "  border: var(--sklearn-color-fitted-level-1) 1pt solid;\n",
       "  color: var(--sklearn-color-fitted-level-1);\n",
       "}\n",
       "\n",
       "/* On hover */\n",
       "#sk-container-id-1 a.estimator_doc_link:hover {\n",
       "  /* unfitted */\n",
       "  background-color: var(--sklearn-color-unfitted-level-3);\n",
       "  color: var(--sklearn-color-background);\n",
       "  text-decoration: none;\n",
       "}\n",
       "\n",
       "#sk-container-id-1 a.estimator_doc_link.fitted:hover {\n",
       "  /* fitted */\n",
       "  background-color: var(--sklearn-color-fitted-level-3);\n",
       "}\n",
       "</style><div id=\"sk-container-id-1\" class=\"sk-top-container\"><div class=\"sk-text-repr-fallback\"><pre>LogisticRegression(max_iter=1000, random_state=21)</pre><b>In a Jupyter environment, please rerun this cell to show the HTML representation or trust the notebook. <br />On GitHub, the HTML representation is unable to render, please try loading this page with nbviewer.org.</b></div><div class=\"sk-container\" hidden><div class=\"sk-item\"><div class=\"sk-estimator fitted sk-toggleable\"><input class=\"sk-toggleable__control sk-hidden--visually\" id=\"sk-estimator-id-1\" type=\"checkbox\" checked><label for=\"sk-estimator-id-1\" class=\"sk-toggleable__label fitted sk-toggleable__label-arrow\"><div><div>LogisticRegression</div></div><div><a class=\"sk-estimator-doc-link fitted\" rel=\"noreferrer\" target=\"_blank\" href=\"https://scikit-learn.org/1.6/modules/generated/sklearn.linear_model.LogisticRegression.html\">?<span>Documentation for LogisticRegression</span></a><span class=\"sk-estimator-doc-link fitted\">i<span>Fitted</span></span></div></label><div class=\"sk-toggleable__content fitted\"><pre>LogisticRegression(max_iter=1000, random_state=21)</pre></div> </div></div></div></div>"
      ],
      "text/plain": [
       "LogisticRegression(max_iter=1000, random_state=21)"
      ]
     },
     "execution_count": 7,
     "metadata": {},
     "output_type": "execute_result"
    }
   ],
   "source": [
    "model = LogisticRegression(max_iter=1000, random_state=21)\n",
    "model.fit(X_train_scaled, y_train)"
   ]
  },
  {
   "cell_type": "markdown",
   "id": "0e9e49d5-3ab4-4c72-8ee8-79e002f2ada7",
   "metadata": {},
   "source": [
    "## 4. Evaluate the model performance"
   ]
  },
  {
   "cell_type": "markdown",
   "id": "e16e3f42-fa35-4c17-a037-a9c448b003c3",
   "metadata": {},
   "source": [
    "### Predictions"
   ]
  },
  {
   "cell_type": "code",
   "execution_count": 8,
   "id": "eea6cb41-b0f8-4e7f-8ef4-d71b7416539f",
   "metadata": {},
   "outputs": [],
   "source": [
    " y_pred = model.predict(X_test_scaled)\n",
    " y_pred_prob = model.predict_proba(X_test_scaled)[:, 1]"
   ]
  },
  {
   "cell_type": "code",
   "execution_count": 9,
   "id": "210bfa52-e132-4d8d-8ec7-bc1c3be256df",
   "metadata": {},
   "outputs": [
    {
     "name": "stdout",
     "output_type": "stream",
     "text": [
      "\n",
      "Classification Report:\n",
      "               precision    recall  f1-score   support\n",
      "\n",
      "           0       0.76      0.89      0.82       100\n",
      "           1       0.70      0.48      0.57        54\n",
      "\n",
      "    accuracy                           0.75       154\n",
      "   macro avg       0.73      0.69      0.70       154\n",
      "weighted avg       0.74      0.75      0.73       154\n",
      "\n",
      "Accuracy: 0.7467532467532467\n"
     ]
    }
   ],
   "source": [
    "print(\"\\nClassification Report:\\n\", classification_report(y_test, y_pred))\n",
    "print(\"Accuracy:\", accuracy_score(y_test, y_pred))"
   ]
  },
  {
   "cell_type": "markdown",
   "id": "4dc717e0-99ce-401f-8efa-a20aed03b00d",
   "metadata": {},
   "source": [
    "### Confusion matrix visualization"
   ]
  },
  {
   "cell_type": "code",
   "execution_count": 10,
   "id": "3f0db1ac-173e-486f-b6e7-198f579f75c2",
   "metadata": {},
   "outputs": [
    {
     "data": {
      "image/png": "[encoded data removed]",
      "text/plain": [
       "<Figure size 640x480 with 2 Axes>"
      ]
     },
     "metadata": {},
     "output_type": "display_data"
    }
   ],
   "source": [
    "cm = confusion_matrix(y_test, y_pred)\n",
    "sns.heatmap(\n",
    "    cm, annot=True, fmt=\"d\", cmap=\"Blues\",\n",
    "    xticklabels=[\"No Diabetes\", \"Diabetes\"],\n",
    "    yticklabels=[\"No Diabetes\", \"Diabetes\"]\n",
    ")\n",
    "plt.title(\"Confusion Matrix\")\n",
    "plt.xlabel(\"Predicted\")\n",
    "plt.ylabel(\"Actual\")\n",
    "plt.show()"
   ]
  },
  {
   "cell_type": "markdown",
   "id": "1559db2a-53b7-4798-808d-b0491d604213",
   "metadata": {},
   "source": [
    "### Sensitivity (Recall for positive class) and Specificity (Recall for negative class)"
   ]
  },
  {
   "cell_type": "code",
   "execution_count": 11,
   "id": "a86aa98f-3564-4db8-a8a4-2b3441cafe96",
   "metadata": {},
   "outputs": [],
   "source": [
    "TN, FP, FN, TP = cm.ravel()\n",
    "sensitivity = TP / (TP + FN)\n",
    "specificity = TN / (TN + FP)"
   ]
  },
  {
   "cell_type": "code",
   "execution_count": 12,
   "id": "ece9c22b-e06b-4191-99b5-289c8379347a",
   "metadata": {},
   "outputs": [
    {
     "name": "stdout",
     "output_type": "stream",
     "text": [
      "Sensitivity (Recall for Diabetes): 0.48\n",
      "Specificity (Recall for No Diabetes): 0.89\n"
     ]
    }
   ],
   "source": [
    "print(f\"Sensitivity (Recall for Diabetes): {sensitivity:.2f}\")\n",
    "print(f\"Specificity (Recall for No Diabetes): {specificity:.2f}\")"
   ]
  },
  {
   "cell_type": "markdown",
   "id": "7444f09d-600c-478a-8dc5-456a3e05df26",
   "metadata": {},
   "source": [
    "### ROC curve and AUC"
   ]
  },
  {
   "cell_type": "code",
   "execution_count": 13,
   "id": "3749caaa-c934-43f9-b0a8-4563572350ec",
   "metadata": {},
   "outputs": [],
   "source": [
    "fpr, tpr, thresholds = roc_curve(y_test, y_pred_prob)\n",
    "auc = roc_auc_score(y_test, y_pred_prob)"
   ]
  },
  {
   "cell_type": "code",
   "execution_count": 14,
   "id": "e512d537-45a6-4b7f-a6b1-c6afb8e803e4",
   "metadata": {},
   "outputs": [
    {
     "data": {
      "image/png": "[encoded data removed]",
      "text/plain": [
       "<Figure size 640x480 with 1 Axes>"
      ]
     },
     "metadata": {},
     "output_type": "display_data"
    }
   ],
   "source": [
    "plt.plot(fpr, tpr, label=f\"ROC curve (AUC = {auc:.2f})\")\n",
    "plt.plot([0, 1], [0, 1], linestyle=\"--\", color=\"gray\")\n",
    "plt.xlabel(\"False Positive Rate\")\n",
    "plt.ylabel(\"True Positive Rate\")\n",
    "plt.title(\"Receiver Operating Characteristic (ROC)\")\n",
    "plt.legend()\n",
    "plt.grid(alpha=0.3)\n",
    "plt.show()"
   ]
  },
  {
   "cell_type": "code",
   "execution_count": 15,
   "id": "1eb71868-6fd8-4786-b00d-9a18ccd7ae6a",
   "metadata": {},
   "outputs": [
    {
     "name": "stdout",
     "output_type": "stream",
     "text": [
      "AUROC: 0.82\n"
     ]
    }
   ],
   "source": [
    "print(f\"AUROC: {auc:.2f}\")"
   ]
  },
  {
   "cell_type": "markdown",
   "id": "0eb63afe-12d2-49f5-bfeb-7bda296bca63",
   "metadata": {},
   "source": [
    "### Precision-Recall curve (useful for imbalanced datasets)"
   ]
  },
  {
   "cell_type": "code",
   "execution_count": 16,
   "id": "ac48a982-e788-4b33-8fa8-37de0d43c1c4",
   "metadata": {},
   "outputs": [],
   "source": [
    "precision, recall, pr_thresholds = precision_recall_curve(y_test, y_pred_prob)\n",
    "avg_precision = average_precision_score(y_test, y_pred_prob)"
   ]
  },
  {
   "cell_type": "code",
   "execution_count": 17,
   "id": "a971790e-119f-416e-a135-a616bb123f7f",
   "metadata": {},
   "outputs": [
    {
     "data": {
      "image/png": "[encoded data removed]",
      "text/plain": [
       "<Figure size 640x480 with 1 Axes>"
      ]
     },
     "metadata": {},
     "output_type": "display_data"
    }
   ],
   "source": [
    "plt.plot(recall, precision, label=f\"AP = {avg_precision:.2f}\")\n",
    "plt.xlabel(\"Recall\")\n",
    "plt.ylabel(\"Precision\")\n",
    "plt.title(\"Precision-Recall Curve\")\n",
    "plt.legend()\n",
    "plt.grid(alpha=0.3)\n",
    "plt.show()"
   ]
  },
  {
   "cell_type": "code",
   "execution_count": 18,
   "id": "6be911fb-dfeb-455d-b7be-975207541171",
   "metadata": {},
   "outputs": [
    {
     "name": "stdout",
     "output_type": "stream",
     "text": [
      "Average Precision Score: 0.70\n"
     ]
    }
   ],
   "source": [
    "print(f\"Average Precision Score: {avg_precision:.2f}\")"
   ]
  },
  {
   "cell_type": "markdown",
   "id": "1f449c0d-5fce-465d-8f1f-d11edb543f8e",
   "metadata": {},
   "source": [
    "## 5. Explore decision thresholds"
   ]
  },
  {
   "cell_type": "markdown",
   "id": "2c65a6ec-e1f5-4149-a5c8-702ba503cf92",
   "metadata": {},
   "source": [
    "### Identify an optimal threshold using Youden's J statistic"
   ]
  },
  {
   "cell_type": "code",
   "execution_count": 19,
   "id": "498b63de-ca52-4ba9-9e8a-6a79b0a98e86",
   "metadata": {},
   "outputs": [],
   "source": [
    "def evaluate_threshold(threshold: float):\n",
    "    \"\"\"\n",
    "    Evaluate accuracy, sensitivity, and specificity at a given threshold\n",
    "    \"\"\"\n",
    "    y_pred_thresh = (y_pred_prob >= threshold).astype(int)\n",
    "    cm_thresh = confusion_matrix(y_test, y_pred_thresh)\n",
    "    TN, FP, FN, TP = cm_thresh.ravel()\n",
    "    sensitivity = TP / (TP + FN)\n",
    "    specificity = TN / (TN + FP)\n",
    "    acc = accuracy_score(y_test, y_pred_thresh)\n",
    "    return acc, sensitivity, specificity"
   ]
  },
  {
   "cell_type": "markdown",
   "id": "d7b4f239-84d6-4549-9c65-5f27dfda26f9",
   "metadata": {},
   "source": [
    "**Try a few example thresholds**"
   ]
  },
  {
   "cell_type": "code",
   "execution_count": 20,
   "id": "2125ec19-fe77-4911-9a67-5cec4ebbe187",
   "metadata": {},
   "outputs": [
    {
     "name": "stdout",
     "output_type": "stream",
     "text": [
      "Threshold = 0.30 | Accuracy = 0.74 | Sensitivity = 0.72 | Specificity = 0.75\n",
      "Threshold = 0.50 | Accuracy = 0.75 | Sensitivity = 0.48 | Specificity = 0.89\n",
      "Threshold = 0.70 | Accuracy = 0.72 | Sensitivity = 0.30 | Specificity = 0.95\n"
     ]
    }
   ],
   "source": [
    "for t in [0.3, 0.5, 0.7]:\n",
    "    acc, sens, spec = evaluate_threshold(t)\n",
    "    print(f\"Threshold = {t:.2f} | Accuracy = {acc:.2f} | Sensitivity = {sens:.2f} | Specificity = {spec:.2f}\")"
   ]
  },
  {
   "cell_type": "markdown",
   "id": "b43edb7b-3f5f-4eda-9333-7146d18483fa",
   "metadata": {},
   "source": [
    "### Plot metrics across a range of thresholds"
   ]
  },
  {
   "cell_type": "code",
   "execution_count": 21,
   "id": "c2efca1c-2511-492d-9343-c15ab690068c",
   "metadata": {},
   "outputs": [],
   "source": [
    "thresholds = np.linspace(0, 1, 100)\n",
    "accuracies, sensitivities, specificities, j_scores = [], [], [], []\n",
    "\n",
    "for thr in thresholds:\n",
    "    acc, sens, spec = evaluate_threshold(thr)\n",
    "    accuracies.append(acc)\n",
    "    sensitivities.append(sens)\n",
    "    specificities.append(spec)\n",
    "    j_scores.append(sens + spec - 1)  # Youden's J statistic"
   ]
  },
  {
   "cell_type": "markdown",
   "id": "c7b32e5e-87fe-4664-91d3-47d11032afa3",
   "metadata": {},
   "source": [
    "### Find optimal threshold (maximizes Youden's J statistic)\n",
    "**balance sensitivity and specificity**"
   ]
  },
  {
   "cell_type": "code",
   "execution_count": 22,
   "id": "01eb8f65-7b47-44ef-9777-91f4644a7032",
   "metadata": {},
   "outputs": [],
   "source": [
    "optimal_idx = np.argmax(j_scores)\n",
    "optimal_threshold = thresholds[optimal_idx]\n",
    "optimal_acc, optimal_sens, optimal_spec = evaluate_threshold(optimal_threshold)"
   ]
  },
  {
   "cell_type": "code",
   "execution_count": 23,
   "id": "e1cf3f08-149e-4dba-9370-e3a5af342393",
   "metadata": {},
   "outputs": [
    {
     "name": "stdout",
     "output_type": "stream",
     "text": [
      "Optimal threshold by Youden's J: 0.21\n",
      "At optimal threshold -> Accuracy: 0.73, Sensitivity: 0.87, Specificity: 0.66\n"
     ]
    }
   ],
   "source": [
    "print(f\"Optimal threshold by Youden's J: {optimal_threshold:.2f}\")\n",
    "print(f\"At optimal threshold -> Accuracy: {optimal_acc:.2f}, Sensitivity: {optimal_sens:.2f}, Specificity: {optimal_spec:.2f}\")"
   ]
  },
  {
   "cell_type": "markdown",
   "id": "b5edc2bc-d95c-463c-b39f-e9ac7d082f23",
   "metadata": {},
   "source": [
    "### Plot Accuracy, Sensitivity, and Specificity curves with optimal threshold marked"
   ]
  },
  {
   "cell_type": "code",
   "execution_count": 24,
   "id": "91e50ae8-413f-46b6-ab81-5d746e038b01",
   "metadata": {},
   "outputs": [
    {
     "data": {
      "image/png": "[encoded data removed]",
      "text/plain": [
       "<Figure size 640x480 with 1 Axes>"
      ]
     },
     "metadata": {},
     "output_type": "display_data"
    }
   ],
   "source": [
    "plt.plot(thresholds, accuracies, label=\"Accuracy\")\n",
    "plt.plot(thresholds, sensitivities, label=\"Sensitivity\")\n",
    "plt.plot(thresholds, specificities, label=\"Specificity\")\n",
    "plt.axvline(\n",
    "    optimal_threshold, color=\"red\", linestyle=\"--\",\n",
    "    label=f\"Optimal Threshold = {optimal_threshold:.2f}\"\n",
    ")\n",
    "plt.xlabel(\"Decision Threshold\")\n",
    "plt.ylabel(\"Score\")\n",
    "plt.title(\"Metrics vs. Decision Threshold\")\n",
    "plt.legend()\n",
    "plt.grid(alpha=0.3)\n",
    "plt.show()"
   ]
  },
  {
   "cell_type": "markdown",
   "id": "36a2a9e2-6f47-41e8-bb73-e86dfa36f88a",
   "metadata": {},
   "source": [
    "### Confusion Matrix for the optimal threshold"
   ]
  },
  {
   "cell_type": "code",
   "execution_count": 25,
   "id": "106efb27-4411-4675-85ab-72c90544388e",
   "metadata": {},
   "outputs": [],
   "source": [
    "def cm_threshold(threshold: float):\n",
    "    \"\"\"\n",
    "    Get confusion matrix a given threshold.\n",
    "    \"\"\"\n",
    "    y_pred_thresh = (y_pred_prob >= threshold).astype(int)\n",
    "    cm_thresh = confusion_matrix(y_test, y_pred_thresh)\n",
    "    return cm_thresh"
   ]
  },
  {
   "cell_type": "code",
   "execution_count": 26,
   "id": "3d957bef-54e5-46fc-be02-7f64a68931be",
   "metadata": {},
   "outputs": [
    {
     "data": {
      "image/png": "[encoded data removed]",
      "text/plain": [
       "<Figure size 640x480 with 2 Axes>"
      ]
     },
     "metadata": {},
     "output_type": "display_data"
    }
   ],
   "source": [
    "cm = cm_threshold(optimal_threshold)\n",
    "sns.heatmap(\n",
    "    cm, annot=True, fmt=\"d\", cmap=\"Blues\",\n",
    "    xticklabels=[\"No Diabetes\", \"Diabetes\"],\n",
    "    yticklabels=[\"No Diabetes\", \"Diabetes\"]\n",
    ")\n",
    "plt.title(\"Confusion Matrix\")\n",
    "plt.xlabel(\"Predicted\")\n",
    "plt.ylabel(\"Actual\")\n",
    "plt.show()"
   ]
  },
  {
   "cell_type": "markdown",
   "id": "d263de57-e2e7-4a06-9e6c-d8a7b410be26",
   "metadata": {},
   "source": [
    "## 6. Make prediction"
   ]
  },
  {
   "cell_type": "markdown",
   "id": "ffff3509-925a-4062-add0-e3d4a230c63a",
   "metadata": {},
   "source": [
    "**Prediction at default threshold**"
   ]
  },
  {
   "cell_type": "code",
   "execution_count": 27,
   "id": "77a0397c-b9e5-4611-b6e1-cad185325258",
   "metadata": {},
   "outputs": [
    {
     "name": "stdout",
     "output_type": "stream",
     "text": [
      "Example prediction: 0 => No Diabetes\n"
     ]
    }
   ],
   "source": [
    "example = pd.DataFrame([{'Age':85, 'BMI':25.5, 'BloodPressure':70, 'Glucose':120, 'Insulin':79, 'SkinThickness':20, \n",
    "                         'Pregnancies':2, 'DiabetesPedigree':0.35}])\n",
    "example_scaled = scaler.transform(example)\n",
    "\n",
    "pred = model.predict(example_scaled)\n",
    "\n",
    "status = {0: \"No Diabetes\", 1: \"Diabetes\"}\n",
    "\n",
    "print(f\"Example prediction: {pred[0]} => {status.get(pred[0])}\")"
   ]
  },
  {
   "cell_type": "markdown",
   "id": "677b25cb-1946-417a-91a3-fae9365c3dbc",
   "metadata": {},
   "source": [
    "**Prediction at optimal threshold**"
   ]
  },
  {
   "cell_type": "code",
   "execution_count": 28,
   "id": "7ea883ec-37b1-4385-9057-abc86d2d7db6",
   "metadata": {},
   "outputs": [
    {
     "name": "stdout",
     "output_type": "stream",
     "text": [
      "Example probability of diabetes: 0.26\n",
      "Example prediction at optimal threshold (0.21): 1 => Diabetes\n"
     ]
    }
   ],
   "source": [
    "prob = model.predict_proba(example_scaled)[0, 1]\n",
    "pred_at_optimal = int(prob >= optimal_threshold)\n",
    "\n",
    "print(f\"Example probability of diabetes: {prob:.2f}\")\n",
    "print(f\"Example prediction at optimal threshold ({optimal_threshold:.2f}): {pred_at_optimal} => {status.get(pred_at_optimal)}\")"
   ]
  },
  {
   "cell_type": "markdown",
   "id": "87f60444-7fa6-4a98-a2dc-107d2d8a12c9",
   "metadata": {},
   "source": [
    "# THIS IS THE END!"
   ]
  },
  {
   "cell_type": "markdown",
   "id": "cc05a9ff-8b9c-4cff-b2d5-816ac86de48b",
   "metadata": {},
   "source": [
    "#### Best of luck :)"
   ]
  }
 ],
 "metadata": {
  "kernelspec": {
   "display_name": "Python 3 (ipykernel)",
   "language": "python",
   "name": "python3"
  },
  "language_info": {
   "codemirror_mode": {
    "name": "ipython",
    "version": 3
   },
   "file_extension": ".py",
   "mimetype": "text/x-python",
   "name": "python",
   "nbconvert_exporter": "python",
   "pygments_lexer": "ipython3",
   "version": "3.13.5"
  }
 },
 "nbformat": 4,
 "nbformat_minor": 5
}
