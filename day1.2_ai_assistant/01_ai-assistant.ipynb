{
 "cells": [
  {
   "cell_type": "markdown",
   "id": "c6032300d9095f8d",
   "metadata": {},
   "source": [
    "# AI Assitant in Jupyter\n",
    "\n",
    "Jupyter Notebook offers options of integrating and using AI assistants that can support us in programming and data analysis tasks.\n",
    "\n",
    "For our training school we want to make use of the AI assistant [bia-bob](https://github.com/haesleinhuepf/bia-bob), which is provided via a Python library.\n",
    "\n",
    "In this notebook, we will look at the general use of the AI assistant - from importing and initialization to assistance with difficult tasks."
   ]
  },
  {
   "cell_type": "code",
   "execution_count": 1,
   "id": "21f6114b29e7a0f",
   "metadata": {
    "ExecuteTime": {
     "end_time": "2025-03-03T10:54:38.896128Z",
     "start_time": "2025-03-03T10:54:31.902034Z"
    }
   },
   "outputs": [
    {
     "name": "stdout",
     "output_type": "stream",
     "text": [
      "Enter your Blablador API Key:  ········\n"
     ]
    }
   ],
   "source": [
    "import os\n",
    "# Import bia-bob as bob\n",
    "from bia_bob import bob, DEFAULT_SYSTEM_PROMPT\n",
    "# Import library to prompt for a password\n",
    "import getpass\n",
    "# Never store API keys as plain text in a notebook\n",
    "# Better: Enter the API key via getpass and store it as an environment variable (env) via os.environ\n",
    "# When this cell is executed, a field appears for entering the API key for Blablador\n",
    "api_key = getpass.getpass('Enter your Blablador API Key: ')\n",
    "os.environ['BLABLADOR_API_KEY'] = api_key"
   ]
  },
  {
   "cell_type": "code",
   "execution_count": null,
   "id": "2ea69128",
   "metadata": {},
   "outputs": [],
   "source": [
    "# Initialize bia-bob with Blablador and API key from environment variable\n",
    "bob.initialize(endpoint='blablador', model='alias-fast')"
   ]
  },
  {
   "cell_type": "markdown",
   "id": "dc2aa674-5f52-4ff9-807c-30ae24773bfc",
   "metadata": {},
   "source": [
    "## Note on the LLMs used\n",
    "\n",
    "Blablador provides various LLMs – an overview of these is provided after registering with the [chat service](https://helmholtz-blablador.fz-juelich.de/), and a complete list can be requested via the [API](https://api.helmholtz-blablador.fz-juelich.de/docs).\n",
    "\n",
    "We specify which provider and which specific LLM we use for the AI assistant during initialization via `endpoint` and `model`:\n",
    "```Python\n",
    "bob.initialize(endpoint=‘blablador’, model=‘alias-fast’)\n",
    "```\n",
    "\n",
    "In this case, we use an alias instead of the full model name – a list of aliases available at Blablador and their capabilities is provided [here](https://sdlaml.pages.jsc.fz-juelich.de/ai/guides/blablador_api_access/#model-aliases).\n",
    "\n",
    "Most other providers, e.g. OpenAI, Mistral, Github Models, work similar - you also need to provide the correctly named according API key."
   ]
  },
  {
   "cell_type": "markdown",
   "id": "dcd29fc2497f1dc9",
   "metadata": {},
   "source": [
    "## Control of the AI assistant\n",
    "\n",
    "The basic behavior of an AI assistant (the underlying LLM) can be controlled via a so-called system prompt. \n",
    "\n",
    "A system prompt is a specific instruction to the AI assistant to control its behavior, tone, or style."
   ]
  },
  {
   "cell_type": "code",
   "execution_count": 2,
   "id": "c3b709ebfcd757c0",
   "metadata": {
    "ExecuteTime": {
     "end_time": "2025-03-03T10:54:41.705899Z",
     "start_time": "2025-03-03T10:54:41.703009Z"
    }
   },
   "outputs": [
    {
     "name": "stdout",
     "output_type": "stream",
     "text": [
      "\n",
      "You are a extremely talented bioimage analyst and you use Python to solve your tasks unless stated otherwise.\n",
      "If there are several ways to solve the task, chose the option with the least amount of code.    \n",
      "\n",
      "## Python specific instructions\n",
      "\n",
      "When writing python code, you can only use those libraries: {libraries}.\n",
      "If you create images, show the results and save them in variables for later reuse.\n",
      "{reusable_variables}\n",
      "NEVER overwrite the values of the variables and functions that are available.\n",
      "\n",
      "## Python specific code snippets\n",
      "\n",
      "If the user asks for those simple tasks, use these code snippets.\n",
      "\n",
      "{additional_snippets}\n",
      "{builtin_snippets}\n",
      "\n"
     ]
    }
   ],
   "source": [
    "# Show the default system prompt of bia-bob\n",
    "print(DEFAULT_SYSTEM_PROMPT[:640])"
   ]
  },
  {
   "cell_type": "markdown",
   "id": "84b99f1f-806a-4e8c-83a9-62a8f50192e0",
   "metadata": {},
   "source": [
    "The AI assistant can then be accessed in a code cell via IPython's so-called [Magic Commands](https://ipython.readthedocs.io/en/stable/interactive/magics.html) (`%`, `%%`). Either via\n",
    "```Python\n",
    "%bob Single-line prompt\n",
    "```\n",
    "...or via\n",
    "```Python\n",
    "%%bob\n",
    "Multi-line prompt.\n",
    "With more details.\n",
    "And more context.\n",
    "```"
   ]
  },
  {
   "cell_type": "code",
   "execution_count": 3,
   "id": "6bfc5e992e90b3ba",
   "metadata": {
    "ExecuteTime": {
     "end_time": "2025-03-03T10:54:49.053843Z",
     "start_time": "2025-03-03T10:54:45.419038Z"
    }
   },
   "outputs": [
    {
     "data": {
      "text/html": [
       "\n",
       "            <div style=\"font-size:7pt\">\n",
       "            This notebook may contain text, code and images generated by artificial intelligence.\n",
       "            Used model: alias-fast, vision model: None, endpoint: https://helmholtz-blablador.fz-juelich.de:8000/v1, bia-bob version: 0.32.0.. Do not enter sensitive or private information and verify generated contents according to good scientific practice. Read more: <a href=\"https://github.com/haesleinhuepf/bia-bob#disclaimer\">https://github.com/haesleinhuepf/bia-bob#disclaimer</a>\n",
       "            </div>\n",
       "            "
      ],
      "text/plain": [
       "<IPython.core.display.HTML object>"
      ]
     },
     "metadata": {},
     "output_type": "display_data"
    },
    {
     "data": {
      "text/markdown": [
       " Hello! Yes, I'm familiar with Machine Learning.\n",
       "\n",
       "Machine Learning (ML) is a subset of artificial intelligence (AI) that involves training algorithms to make predictions or decisions without being explicitly programmed. Instead of relying on rules or predefined instructions, machine learning algorithms learn patterns from data and use those patterns to make predictions or take actions.\n",
       "\n"
      ],
      "text/plain": [
       "<IPython.core.display.Markdown object>"
      ]
     },
     "metadata": {},
     "output_type": "display_data"
    }
   ],
   "source": [
    "%bob Hello. Are you familiar with Machine Learning? Please explain briefly what it is about."
   ]
  },
  {
   "cell_type": "code",
   "execution_count": null,
   "id": "6a308523-7a95-4f8a-a9dc-431652d67ffc",
   "metadata": {},
   "outputs": [
    {
     "data": {
      "text/markdown": [
       "  Hello! Yes, I'm familiar with image analysis methods for medical imagery.\n",
       "\n",
       "Image analysis methods for medical imagery are used to extract valuable information and insights from medical images such as X-rays, MRIs, CT scans, and ultrasounds. These methods involve various techniques and algorithms to process and interpret these images for diagnostic, therapeutic, and research purposes.\n",
       "\n"
      ],
      "text/plain": [
       "<IPython.core.display.Markdown object>"
      ]
     },
     "metadata": {},
     "output_type": "display_data"
    }
   ],
   "source": [
    "%%bob\n",
    "Hello. Are you familiar with image analysis methods for medical imagery ? \n",
    "Briefly explain how they work and what they are used for."
   ]
  },
  {
   "cell_type": "markdown",
   "id": "9c53e58f-5e05-4e6d-a596-e5dd1ee498f7",
   "metadata": {},
   "source": [
    "## Providing the API key\n",
    "\n",
    "In this notebook, we provide the API key for Blablador via an interactive input in the first code cell. However, it is more convenient to provide the API key as a permanent environment variable in the conda environment via the conda configuration file `day0_preparation/conda-ai4med-env.yml`:\n",
    "\n",
    "* Enter your API key in the file in the line `BLABLADOR_API_KEY: “my_api_key”` - replacing _my_api_key_\n",
    "* Exit Juyper Lab and deactivate the conda environment\n",
    "* Update the conda environment via `conda env update -f conda-ai4med-env.yml --prune`\n",
    "* Restart the conda environment and restart Jupyter Lab\n",
    "\n",
    "If you now execute only the following code cell of this notebook, `BLABLADOR_API_KEY` with your API key should also appear among the listed environment variables."
   ]
  },
  {
   "cell_type": "code",
   "execution_count": null,
   "id": "fa335cb8-3d36-4f5c-99ae-a9c1b104ed43",
   "metadata": {},
   "outputs": [],
   "source": [
    "!env"
   ]
  },
  {
   "cell_type": "markdown",
   "id": "66a946ec-ef4d-48a5-8c34-fc03d58c3638",
   "metadata": {},
   "source": [
    "The initialization and use of the AI assistant in the following notebooks of the training now also works without the separate entry of the API key like in the first cell. Let's try:"
   ]
  },
  {
   "cell_type": "code",
   "execution_count": 5,
   "id": "0504c285",
   "metadata": {},
   "outputs": [
    {
     "data": {
      "text/html": [
       "\n",
       "            <div style=\"font-size:7pt\">\n",
       "            This notebook may contain text, code and images generated by artificial intelligence.\n",
       "            Used model: alias-fast, vision model: None, endpoint: https://helmholtz-blablador.fz-juelich.de:8000/v1, bia-bob version: 0.32.0.. Do not enter sensitive or private information and verify generated contents according to good scientific practice. Read more: <a href=\"https://github.com/haesleinhuepf/bia-bob#disclaimer\">https://github.com/haesleinhuepf/bia-bob#disclaimer</a>\n",
       "            </div>\n",
       "            "
      ],
      "text/plain": [
       "<IPython.core.display.HTML object>"
      ]
     },
     "metadata": {},
     "output_type": "display_data"
    }
   ],
   "source": [
    "# Import bia-bob as bob\n",
    "from bia_bob import bob\n",
    "# Initialize bia-bob with Blablador and API key from environment variable\n",
    "bob.initialize(endpoint='blablador', model='alias-fast')"
   ]
  },
  {
   "cell_type": "code",
   "execution_count": 6,
   "id": "32dd0b33-e2c2-488d-8279-0996813761d9",
   "metadata": {},
   "outputs": [
    {
     "data": {
      "text/markdown": [
       " Hello! I'm an AI assistant designed to help with a variety of tasks and answer questions to the best of my ability. I'm here to assist you with information, explanations, suggestions, and more. How can I assist you today?"
      ],
      "text/plain": [
       "<IPython.core.display.Markdown object>"
      ]
     },
     "metadata": {},
     "output_type": "display_data"
    }
   ],
   "source": [
    "%bob Hi - who are you ?"
   ]
  },
  {
   "cell_type": "markdown",
   "id": "55b40df4",
   "metadata": {},
   "source": [
    "Now, we want to use bob to solve the undone exercises from the Python basics session. Ask bob to generate according code, guide it with according prompts"
   ]
  },
  {
   "cell_type": "code",
   "execution_count": null,
   "id": "ae24ca84-b0ba-4afd-b3d1-020c6d1a4b5f",
   "metadata": {},
   "outputs": [],
   "source": [
    "%%bob\n"
   ]
  }
 ],
 "metadata": {
  "kernelspec": {
   "display_name": "Python 3 (ipykernel)",
   "language": "python",
   "name": "python3"
  },
  "language_info": {
   "codemirror_mode": {
    "name": "ipython",
    "version": 3
   },
   "file_extension": ".py",
   "mimetype": "text/x-python",
   "name": "python",
   "nbconvert_exporter": "python",
   "pygments_lexer": "ipython3",
   "version": "3.12.11"
  }
 },
 "nbformat": 4,
 "nbformat_minor": 5
}
