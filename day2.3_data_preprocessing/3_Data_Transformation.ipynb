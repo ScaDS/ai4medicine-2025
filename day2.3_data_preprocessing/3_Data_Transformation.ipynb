{
 "cells": [
  {
   "cell_type": "markdown",
   "id": "2b77ecbe",
   "metadata": {},
   "source": [
    "# Data Transformation\n",
    "\n",
    "This notebook focuses on transforming cleaned data into analysis-ready features."
   ]
  },
  {
   "cell_type": "code",
   "execution_count": 1,
   "id": "9d04621306dca620",
   "metadata": {
    "ExecuteTime": {
     "end_time": "2025-09-18T19:46:15.927888Z",
     "start_time": "2025-09-18T19:46:15.925501Z"
    }
   },
   "outputs": [],
   "source": [
    "import pandas as pd\n",
    "import matplotlib.pyplot as plt\n",
    "import seaborn as sns\n",
    "from sklearn.preprocessing import MinMaxScaler, StandardScaler"
   ]
  },
  {
   "cell_type": "code",
   "execution_count": 2,
   "id": "33997606",
   "metadata": {
    "ExecuteTime": {
     "end_time": "2025-09-18T19:46:15.941080Z",
     "start_time": "2025-09-18T19:46:15.937612Z"
    }
   },
   "outputs": [],
   "source": [
    "patients_cleaned = pd.read_csv(\"data/patients_cleaned.csv\")"
   ]
  },
  {
   "cell_type": "code",
   "execution_count": 3,
   "id": "40323e4b14d32731",
   "metadata": {
    "ExecuteTime": {
     "end_time": "2025-09-18T19:46:15.970050Z",
     "start_time": "2025-09-18T19:46:15.964010Z"
    }
   },
   "outputs": [
    {
     "data": {
      "text/html": [
       "<div>\n",
       "<style scoped>\n",
       "    .dataframe tbody tr th:only-of-type {\n",
       "        vertical-align: middle;\n",
       "    }\n",
       "\n",
       "    .dataframe tbody tr th {\n",
       "        vertical-align: top;\n",
       "    }\n",
       "\n",
       "    .dataframe thead th {\n",
       "        text-align: right;\n",
       "    }\n",
       "</style>\n",
       "<table border=\"1\" class=\"dataframe\">\n",
       "  <thead>\n",
       "    <tr style=\"text-align: right;\">\n",
       "      <th></th>\n",
       "      <th>patient_id</th>\n",
       "      <th>age</th>\n",
       "      <th>admission_date</th>\n",
       "      <th>discharge_date</th>\n",
       "      <th>gender</th>\n",
       "      <th>weight</th>\n",
       "      <th>height</th>\n",
       "      <th>blood_pressure</th>\n",
       "      <th>admission_unit</th>\n",
       "      <th>albumin_g_dl</th>\n",
       "    </tr>\n",
       "  </thead>\n",
       "  <tbody>\n",
       "    <tr>\n",
       "      <th>0</th>\n",
       "      <td>1</td>\n",
       "      <td>39.0</td>\n",
       "      <td>2023-01-05</td>\n",
       "      <td>2023-01-10</td>\n",
       "      <td>f</td>\n",
       "      <td>78.0</td>\n",
       "      <td>184.0</td>\n",
       "      <td>130.0</td>\n",
       "      <td>Surgery</td>\n",
       "      <td>1.00</td>\n",
       "    </tr>\n",
       "    <tr>\n",
       "      <th>1</th>\n",
       "      <td>2</td>\n",
       "      <td>60.0</td>\n",
       "      <td>2023-02-11</td>\n",
       "      <td>2023-02-20</td>\n",
       "      <td>m</td>\n",
       "      <td>55.0</td>\n",
       "      <td>180.0</td>\n",
       "      <td>90.0</td>\n",
       "      <td>Cardiol.</td>\n",
       "      <td>4.26</td>\n",
       "    </tr>\n",
       "    <tr>\n",
       "      <th>2</th>\n",
       "      <td>4</td>\n",
       "      <td>50.0</td>\n",
       "      <td>2023-03-20</td>\n",
       "      <td>2023-03-25</td>\n",
       "      <td>f</td>\n",
       "      <td>70.0</td>\n",
       "      <td>179.0</td>\n",
       "      <td>110.0</td>\n",
       "      <td>Intensive Care U.</td>\n",
       "      <td>3.10</td>\n",
       "    </tr>\n",
       "    <tr>\n",
       "      <th>3</th>\n",
       "      <td>10</td>\n",
       "      <td>45.0</td>\n",
       "      <td>2023-07-05</td>\n",
       "      <td>2023-07-15</td>\n",
       "      <td>m</td>\n",
       "      <td>90.0</td>\n",
       "      <td>165.0</td>\n",
       "      <td>80.0</td>\n",
       "      <td>Neurology</td>\n",
       "      <td>3.10</td>\n",
       "    </tr>\n",
       "    <tr>\n",
       "      <th>4</th>\n",
       "      <td>12</td>\n",
       "      <td>90.0</td>\n",
       "      <td>2023-08-10</td>\n",
       "      <td>2023-08-20</td>\n",
       "      <td>female</td>\n",
       "      <td>45.0</td>\n",
       "      <td>170.0</td>\n",
       "      <td>60.0</td>\n",
       "      <td>Intensive Care U.</td>\n",
       "      <td>4.26</td>\n",
       "    </tr>\n",
       "  </tbody>\n",
       "</table>\n",
       "</div>"
      ],
      "text/plain": [
       "   patient_id   age admission_date discharge_date  gender  weight  height  \\\n",
       "0           1  39.0     2023-01-05     2023-01-10       f    78.0   184.0   \n",
       "1           2  60.0     2023-02-11     2023-02-20       m    55.0   180.0   \n",
       "2           4  50.0     2023-03-20     2023-03-25       f    70.0   179.0   \n",
       "3          10  45.0     2023-07-05     2023-07-15       m    90.0   165.0   \n",
       "4          12  90.0     2023-08-10     2023-08-20  female    45.0   170.0   \n",
       "\n",
       "   blood_pressure     admission_unit  albumin_g_dl  \n",
       "0           130.0            Surgery          1.00  \n",
       "1            90.0           Cardiol.          4.26  \n",
       "2           110.0  Intensive Care U.          3.10  \n",
       "3            80.0          Neurology          3.10  \n",
       "4            60.0  Intensive Care U.          4.26  "
      ]
     },
     "execution_count": 3,
     "metadata": {},
     "output_type": "execute_result"
    }
   ],
   "source": [
    "patients_cleaned.head()"
   ]
  },
  {
   "cell_type": "code",
   "execution_count": 4,
   "id": "192b1f77b18e4fa7",
   "metadata": {
    "ExecuteTime": {
     "end_time": "2025-09-18T19:46:16.014249Z",
     "start_time": "2025-09-18T19:46:16.011885Z"
    }
   },
   "outputs": [],
   "source": [
    "#patients_cleaned.info()"
   ]
  },
  {
   "cell_type": "markdown",
   "id": "b45a96dc",
   "metadata": {},
   "source": [
    "## 1 Checking categorical variables\n",
    "\n",
    "- Categorical variables often contain multiple spellings or encodings for the same concept. We need to standardize these.\n",
    "- Here we focus on the `gender` column:\n",
    "    - First, we inspect unique values and their counts.\n",
    "    - Then we replace inconsistent entries with a standard value.\n",
    "- Casting to `category` dtype can reduce memory and make intent explicit."
   ]
  },
  {
   "cell_type": "code",
   "execution_count": 5,
   "id": "d8cff16220ea9923",
   "metadata": {
    "ExecuteTime": {
     "end_time": "2025-09-18T19:46:16.062817Z",
     "start_time": "2025-09-18T19:46:16.058611Z"
    }
   },
   "outputs": [
    {
     "data": {
      "text/plain": [
       "gender\n",
       "m         9\n",
       "male      9\n",
       "f         6\n",
       "female    2\n",
       "Name: count, dtype: int64"
      ]
     },
     "execution_count": 5,
     "metadata": {},
     "output_type": "execute_result"
    }
   ],
   "source": [
    "# Show number of unique categories and their counts\n",
    "patients_cleaned['gender'].value_counts(dropna=False)"
   ]
  },
  {
   "cell_type": "code",
   "execution_count": 6,
   "id": "e22e2a16a8383c",
   "metadata": {
    "ExecuteTime": {
     "end_time": "2025-09-18T19:46:16.135646Z",
     "start_time": "2025-09-18T19:46:16.133125Z"
    }
   },
   "outputs": [],
   "source": [
    "# Correct inconsistent entries - f -> female, m -> male\n",
    "patients_cleaned['gender'] = patients_cleaned['gender'].replace('f', 'female')\n",
    "patients_cleaned['gender'] = patients_cleaned['gender'].replace('m', 'male')"
   ]
  },
  {
   "cell_type": "code",
   "execution_count": 7,
   "id": "61a7588fdeb459c3",
   "metadata": {
    "ExecuteTime": {
     "end_time": "2025-09-18T19:46:16.213099Z",
     "start_time": "2025-09-18T19:46:16.209762Z"
    }
   },
   "outputs": [
    {
     "data": {
      "text/plain": [
       "gender\n",
       "male      18\n",
       "female     8\n",
       "Name: count, dtype: int64"
      ]
     },
     "execution_count": 7,
     "metadata": {},
     "output_type": "execute_result"
    }
   ],
   "source": [
    "patients_cleaned['gender'].value_counts(dropna=False)"
   ]
  },
  {
   "cell_type": "code",
   "execution_count": 8,
   "id": "257c8d54ebebb652",
   "metadata": {
    "ExecuteTime": {
     "end_time": "2025-09-18T19:46:16.276606Z",
     "start_time": "2025-09-18T19:46:16.274474Z"
    }
   },
   "outputs": [],
   "source": [
    "# visualize gender distribution"
   ]
  },
  {
   "cell_type": "markdown",
   "id": "34aa7cde30c535a4",
   "metadata": {},
   "source": [
    "### Check admission_unit for unique values"
   ]
  },
  {
   "cell_type": "code",
   "execution_count": 9,
   "id": "f1ce21d69b0ec37c",
   "metadata": {
    "ExecuteTime": {
     "end_time": "2025-09-18T19:46:16.375919Z",
     "start_time": "2025-09-18T19:46:16.372286Z"
    }
   },
   "outputs": [
    {
     "data": {
      "text/plain": [
       "admission_unit\n",
       "Intensive Care U.    5\n",
       "Psychiatry           5\n",
       "Cardiol.             3\n",
       "Surgery              2\n",
       "Neurology            2\n",
       "Orthopedics          2\n",
       "Pediatrics           2\n",
       "Emergency Room       2\n",
       "General Medicine     2\n",
       "Oncology             1\n",
       "Name: count, dtype: int64"
      ]
     },
     "execution_count": 9,
     "metadata": {},
     "output_type": "execute_result"
    }
   ],
   "source": [
    "# Check unique values in admission_unit\n",
    "patients_cleaned['admission_unit'].value_counts(dropna=False)"
   ]
  },
  {
   "cell_type": "markdown",
   "id": "43e29dae9e0ef858",
   "metadata": {},
   "source": [
    "### Rename inconsistent entries"
   ]
  },
  {
   "cell_type": "code",
   "execution_count": 10,
   "id": "e8cbd86b5434986b",
   "metadata": {
    "ExecuteTime": {
     "end_time": "2025-09-18T19:46:16.461544Z",
     "start_time": "2025-09-18T19:46:16.459524Z"
    }
   },
   "outputs": [],
   "source": [
    "# Standardize admission_unit entries\n",
    "patients_cleaned['admission_unit'] = patients_cleaned['admission_unit'].replace({'Emergency Room': 'ER', 'Intensive Care U.': 'ICU', 'Cardiol.': 'Cardiology'})"
   ]
  },
  {
   "cell_type": "code",
   "execution_count": 11,
   "id": "f73d5669093f0eda",
   "metadata": {
    "ExecuteTime": {
     "end_time": "2025-09-18T19:46:16.696119Z",
     "start_time": "2025-09-18T19:46:16.601088Z"
    }
   },
   "outputs": [
    {
     "data": {
      "image/png": "[encoded data removed]",
      "text/plain": [
       "<Figure size 800x400 with 1 Axes>"
      ]
     },
     "metadata": {},
     "output_type": "display_data"
    }
   ],
   "source": [
    "# visualize admission_unit distribution\n",
    "\n",
    "plt.figure(figsize=(8,4))\n",
    "sns.countplot(data=patients_cleaned, x='admission_unit', order=patients_cleaned['admission_unit'].value_counts().index)\n",
    "plt.title('Admission Unit Distribution')\n",
    "plt.ylabel('Number of Patients')\n",
    "plt.xlabel('Admission Unit')\n",
    "plt.xticks(rotation=45)\n",
    "plt.show()"
   ]
  },
  {
   "cell_type": "markdown",
   "id": "89bfb379",
   "metadata": {},
   "source": [
    "## 2 Encoding categorical variables for modeling\n",
    "\n",
    "- Many models require numeric inputs. `pd.get_dummies()` creates one-hot encoded columns for categorical variables.\n",
    "- For high-cardinality categorical features you may want alternative encoding strategies (target encoding, embedding, hashing)."
   ]
  },
  {
   "cell_type": "markdown",
   "id": "8aaf885cd0ff587a",
   "metadata": {},
   "source": [
    "### One-hot encoding for 'gender'"
   ]
  },
  {
   "cell_type": "code",
   "execution_count": 12,
   "id": "029a4bee",
   "metadata": {
    "ExecuteTime": {
     "end_time": "2025-09-18T19:46:16.772221Z",
     "start_time": "2025-09-18T19:46:16.769112Z"
    }
   },
   "outputs": [],
   "source": [
    "# One-hot encode gender\n",
    "patients_cleaned = pd.get_dummies(patients_cleaned, columns=['gender'], drop_first=True)"
   ]
  },
  {
   "cell_type": "markdown",
   "id": "278d3d6abc560cf",
   "metadata": {},
   "source": [
    "### Label Encoding for 'admission_unit'\n",
    "\n",
    "- For admission_unit with multiple categories, we use label encoding to convert categories to integer codes.\n",
    "- This is simple but imposes an ordinal relationship. For non-ordinal categories, one-hot encoding is often preferred.\n",
    "- Here we demonstrate label encoding for variety.\n",
    "- First convert to 'category' dtype, then use `.cat.codes` to get integer codes.\n",
    "- Note: In practice, use sklearn's LabelEncoder or OrdinalEncoder for more control."
   ]
  },
  {
   "cell_type": "code",
   "execution_count": 13,
   "id": "652d5bc946b163e9",
   "metadata": {
    "ExecuteTime": {
     "end_time": "2025-09-18T19:46:16.805232Z",
     "start_time": "2025-09-18T19:46:16.802217Z"
    }
   },
   "outputs": [],
   "source": [
    "# Convert admission_unit to 'category' dtype\n",
    "patients_cleaned['admission_unit_encoded'] = patients_cleaned['admission_unit'].astype('category')\n",
    "\n",
    "# Label encode admission_unit\n",
    "patients_cleaned['admission_unit_encoded'] = patients_cleaned['admission_unit_encoded'].cat.codes"
   ]
  },
  {
   "cell_type": "code",
   "execution_count": 14,
   "id": "a445bfb9300ac4de",
   "metadata": {
    "ExecuteTime": {
     "end_time": "2025-09-18T19:46:16.824053Z",
     "start_time": "2025-09-18T19:46:16.817609Z"
    }
   },
   "outputs": [
    {
     "data": {
      "text/html": [
       "<div>\n",
       "<style scoped>\n",
       "    .dataframe tbody tr th:only-of-type {\n",
       "        vertical-align: middle;\n",
       "    }\n",
       "\n",
       "    .dataframe tbody tr th {\n",
       "        vertical-align: top;\n",
       "    }\n",
       "\n",
       "    .dataframe thead th {\n",
       "        text-align: right;\n",
       "    }\n",
       "</style>\n",
       "<table border=\"1\" class=\"dataframe\">\n",
       "  <thead>\n",
       "    <tr style=\"text-align: right;\">\n",
       "      <th></th>\n",
       "      <th>patient_id</th>\n",
       "      <th>age</th>\n",
       "      <th>admission_date</th>\n",
       "      <th>discharge_date</th>\n",
       "      <th>weight</th>\n",
       "      <th>height</th>\n",
       "      <th>blood_pressure</th>\n",
       "      <th>admission_unit</th>\n",
       "      <th>albumin_g_dl</th>\n",
       "      <th>gender_male</th>\n",
       "      <th>admission_unit_encoded</th>\n",
       "    </tr>\n",
       "  </thead>\n",
       "  <tbody>\n",
       "    <tr>\n",
       "      <th>0</th>\n",
       "      <td>1</td>\n",
       "      <td>39.0</td>\n",
       "      <td>2023-01-05</td>\n",
       "      <td>2023-01-10</td>\n",
       "      <td>78.0</td>\n",
       "      <td>184.0</td>\n",
       "      <td>130.0</td>\n",
       "      <td>Surgery</td>\n",
       "      <td>1.00</td>\n",
       "      <td>False</td>\n",
       "      <td>9</td>\n",
       "    </tr>\n",
       "    <tr>\n",
       "      <th>1</th>\n",
       "      <td>2</td>\n",
       "      <td>60.0</td>\n",
       "      <td>2023-02-11</td>\n",
       "      <td>2023-02-20</td>\n",
       "      <td>55.0</td>\n",
       "      <td>180.0</td>\n",
       "      <td>90.0</td>\n",
       "      <td>Cardiology</td>\n",
       "      <td>4.26</td>\n",
       "      <td>True</td>\n",
       "      <td>0</td>\n",
       "    </tr>\n",
       "    <tr>\n",
       "      <th>2</th>\n",
       "      <td>4</td>\n",
       "      <td>50.0</td>\n",
       "      <td>2023-03-20</td>\n",
       "      <td>2023-03-25</td>\n",
       "      <td>70.0</td>\n",
       "      <td>179.0</td>\n",
       "      <td>110.0</td>\n",
       "      <td>ICU</td>\n",
       "      <td>3.10</td>\n",
       "      <td>False</td>\n",
       "      <td>3</td>\n",
       "    </tr>\n",
       "    <tr>\n",
       "      <th>3</th>\n",
       "      <td>10</td>\n",
       "      <td>45.0</td>\n",
       "      <td>2023-07-05</td>\n",
       "      <td>2023-07-15</td>\n",
       "      <td>90.0</td>\n",
       "      <td>165.0</td>\n",
       "      <td>80.0</td>\n",
       "      <td>Neurology</td>\n",
       "      <td>3.10</td>\n",
       "      <td>True</td>\n",
       "      <td>4</td>\n",
       "    </tr>\n",
       "    <tr>\n",
       "      <th>4</th>\n",
       "      <td>12</td>\n",
       "      <td>90.0</td>\n",
       "      <td>2023-08-10</td>\n",
       "      <td>2023-08-20</td>\n",
       "      <td>45.0</td>\n",
       "      <td>170.0</td>\n",
       "      <td>60.0</td>\n",
       "      <td>ICU</td>\n",
       "      <td>4.26</td>\n",
       "      <td>False</td>\n",
       "      <td>3</td>\n",
       "    </tr>\n",
       "  </tbody>\n",
       "</table>\n",
       "</div>"
      ],
      "text/plain": [
       "   patient_id   age admission_date discharge_date  weight  height  \\\n",
       "0           1  39.0     2023-01-05     2023-01-10    78.0   184.0   \n",
       "1           2  60.0     2023-02-11     2023-02-20    55.0   180.0   \n",
       "2           4  50.0     2023-03-20     2023-03-25    70.0   179.0   \n",
       "3          10  45.0     2023-07-05     2023-07-15    90.0   165.0   \n",
       "4          12  90.0     2023-08-10     2023-08-20    45.0   170.0   \n",
       "\n",
       "   blood_pressure admission_unit  albumin_g_dl  gender_male  \\\n",
       "0           130.0        Surgery          1.00        False   \n",
       "1            90.0     Cardiology          4.26         True   \n",
       "2           110.0            ICU          3.10        False   \n",
       "3            80.0      Neurology          3.10         True   \n",
       "4            60.0            ICU          4.26        False   \n",
       "\n",
       "   admission_unit_encoded  \n",
       "0                       9  \n",
       "1                       0  \n",
       "2                       3  \n",
       "3                       4  \n",
       "4                       3  "
      ]
     },
     "execution_count": 14,
     "metadata": {},
     "output_type": "execute_result"
    }
   ],
   "source": [
    "patients_cleaned.head()"
   ]
  },
  {
   "cell_type": "markdown",
   "id": "55b9d10f",
   "metadata": {},
   "source": [
    "## 3 Feature engineering - creating new features from existing ones\n",
    "\n",
    "- BMI (Body Mass Index) is a common clinical feature derived from weight and height.\n",
    "- BMI = weight (kg) / (height (m))2\n",
    "- In our dataset height is in cm, so it needs to be converted before calculation.\n"
   ]
  },
  {
   "cell_type": "code",
   "execution_count": 15,
   "id": "5425f4b54e18a015",
   "metadata": {
    "ExecuteTime": {
     "end_time": "2025-09-18T19:46:16.898129Z",
     "start_time": "2025-09-18T19:46:16.895751Z"
    }
   },
   "outputs": [],
   "source": [
    "# Compute BMI (height in cm -> convert to meters)\n",
    "patients_cleaned['BMI'] = patients_cleaned['weight'] / (patients_cleaned['height']/100)**2"
   ]
  },
  {
   "cell_type": "code",
   "execution_count": 16,
   "id": "4b1745e1",
   "metadata": {
    "ExecuteTime": {
     "end_time": "2025-09-18T19:46:17.011337Z",
     "start_time": "2025-09-18T19:46:17.006521Z"
    }
   },
   "outputs": [
    {
     "data": {
      "text/plain": [
       "count    26.000000\n",
       "mean     25.087716\n",
       "std       6.945768\n",
       "min      14.527376\n",
       "25%      21.232993\n",
       "50%      22.505044\n",
       "75%      29.602852\n",
       "max      40.562466\n",
       "Name: BMI, dtype: float64"
      ]
     },
     "execution_count": 16,
     "metadata": {},
     "output_type": "execute_result"
    }
   ],
   "source": [
    "# Inspect BMI distribution and missingness\n",
    "patients_cleaned['BMI'].describe()"
   ]
  },
  {
   "cell_type": "markdown",
   "id": "1ef6301d65396a85",
   "metadata": {},
   "source": [
    "## Save transformed data"
   ]
  },
  {
   "cell_type": "code",
   "execution_count": 17,
   "id": "b8161006977821fc",
   "metadata": {
    "ExecuteTime": {
     "end_time": "2025-09-18T19:46:17.109732Z",
     "start_time": "2025-09-18T19:46:17.103930Z"
    }
   },
   "outputs": [],
   "source": [
    "# Save the transformed dataset\n",
    "patients_cleaned.to_csv(\"data/patients_transformed.csv\", index=False)"
   ]
  },
  {
   "cell_type": "markdown",
   "id": "f80e54f2",
   "metadata": {},
   "source": [
    "## 4 Scaling and standardization\n",
    "\n",
    "- Many ML algorithms assume features are on similar scales\n",
    "- `MinMaxScaler` rescales to [0,1]\n",
    "- `StandardScaler` centers to mean=0 and std=1\n",
    "\n",
    "We demonstrate both for different use cases."
   ]
  },
  {
   "cell_type": "markdown",
   "id": "8a33de3ec4a874c8",
   "metadata": {},
   "source": [
    "### Method 1: Min-Max Scaling"
   ]
  },
  {
   "cell_type": "code",
   "execution_count": 18,
   "id": "f7104042",
   "metadata": {
    "ExecuteTime": {
     "end_time": "2025-09-18T19:46:17.196467Z",
     "start_time": "2025-09-18T19:46:17.192232Z"
    }
   },
   "outputs": [],
   "source": [
    "# Demonstrate MinMax scaling for 'age' and Standard scaling for blood pressure\n",
    "minmax = MinMaxScaler()\n",
    "patients_cleaned['age_minmax'] = minmax.fit_transform(patients_cleaned[['age']])"
   ]
  },
  {
   "cell_type": "markdown",
   "id": "aa441215159e944f",
   "metadata": {},
   "source": [
    "### Method 2: Standardization"
   ]
  },
  {
   "cell_type": "code",
   "execution_count": 19,
   "id": "b2406488cb334424",
   "metadata": {
    "ExecuteTime": {
     "end_time": "2025-09-18T19:46:17.234269Z",
     "start_time": "2025-09-18T19:46:17.230419Z"
    }
   },
   "outputs": [],
   "source": [
    "std = StandardScaler()\n",
    "patients_cleaned['bp_std'] = std.fit_transform(patients_cleaned[['blood_pressure']])"
   ]
  },
  {
   "cell_type": "code",
   "execution_count": 20,
   "id": "27d68de02dd57e25",
   "metadata": {
    "ExecuteTime": {
     "end_time": "2025-09-18T19:46:17.264295Z",
     "start_time": "2025-09-18T19:46:17.256252Z"
    }
   },
   "outputs": [
    {
     "data": {
      "text/html": [
       "<div>\n",
       "<style scoped>\n",
       "    .dataframe tbody tr th:only-of-type {\n",
       "        vertical-align: middle;\n",
       "    }\n",
       "\n",
       "    .dataframe tbody tr th {\n",
       "        vertical-align: top;\n",
       "    }\n",
       "\n",
       "    .dataframe thead th {\n",
       "        text-align: right;\n",
       "    }\n",
       "</style>\n",
       "<table border=\"1\" class=\"dataframe\">\n",
       "  <thead>\n",
       "    <tr style=\"text-align: right;\">\n",
       "      <th></th>\n",
       "      <th>patient_id</th>\n",
       "      <th>age</th>\n",
       "      <th>admission_date</th>\n",
       "      <th>discharge_date</th>\n",
       "      <th>weight</th>\n",
       "      <th>height</th>\n",
       "      <th>blood_pressure</th>\n",
       "      <th>admission_unit</th>\n",
       "      <th>albumin_g_dl</th>\n",
       "      <th>gender_male</th>\n",
       "      <th>admission_unit_encoded</th>\n",
       "      <th>BMI</th>\n",
       "      <th>age_minmax</th>\n",
       "      <th>bp_std</th>\n",
       "    </tr>\n",
       "  </thead>\n",
       "  <tbody>\n",
       "    <tr>\n",
       "      <th>0</th>\n",
       "      <td>1</td>\n",
       "      <td>39.0</td>\n",
       "      <td>2023-01-05</td>\n",
       "      <td>2023-01-10</td>\n",
       "      <td>78.0</td>\n",
       "      <td>184.0</td>\n",
       "      <td>130.0</td>\n",
       "      <td>Surgery</td>\n",
       "      <td>1.00</td>\n",
       "      <td>False</td>\n",
       "      <td>9</td>\n",
       "      <td>23.038752</td>\n",
       "      <td>0.105263</td>\n",
       "      <td>1.274066</td>\n",
       "    </tr>\n",
       "    <tr>\n",
       "      <th>1</th>\n",
       "      <td>2</td>\n",
       "      <td>60.0</td>\n",
       "      <td>2023-02-11</td>\n",
       "      <td>2023-02-20</td>\n",
       "      <td>55.0</td>\n",
       "      <td>180.0</td>\n",
       "      <td>90.0</td>\n",
       "      <td>Cardiology</td>\n",
       "      <td>4.26</td>\n",
       "      <td>True</td>\n",
       "      <td>0</td>\n",
       "      <td>16.975309</td>\n",
       "      <td>0.473684</td>\n",
       "      <td>-0.436090</td>\n",
       "    </tr>\n",
       "    <tr>\n",
       "      <th>2</th>\n",
       "      <td>4</td>\n",
       "      <td>50.0</td>\n",
       "      <td>2023-03-20</td>\n",
       "      <td>2023-03-25</td>\n",
       "      <td>70.0</td>\n",
       "      <td>179.0</td>\n",
       "      <td>110.0</td>\n",
       "      <td>ICU</td>\n",
       "      <td>3.10</td>\n",
       "      <td>False</td>\n",
       "      <td>3</td>\n",
       "      <td>21.847009</td>\n",
       "      <td>0.298246</td>\n",
       "      <td>0.418988</td>\n",
       "    </tr>\n",
       "    <tr>\n",
       "      <th>3</th>\n",
       "      <td>10</td>\n",
       "      <td>45.0</td>\n",
       "      <td>2023-07-05</td>\n",
       "      <td>2023-07-15</td>\n",
       "      <td>90.0</td>\n",
       "      <td>165.0</td>\n",
       "      <td>80.0</td>\n",
       "      <td>Neurology</td>\n",
       "      <td>3.10</td>\n",
       "      <td>True</td>\n",
       "      <td>4</td>\n",
       "      <td>33.057851</td>\n",
       "      <td>0.210526</td>\n",
       "      <td>-0.863629</td>\n",
       "    </tr>\n",
       "    <tr>\n",
       "      <th>4</th>\n",
       "      <td>12</td>\n",
       "      <td>90.0</td>\n",
       "      <td>2023-08-10</td>\n",
       "      <td>2023-08-20</td>\n",
       "      <td>45.0</td>\n",
       "      <td>170.0</td>\n",
       "      <td>60.0</td>\n",
       "      <td>ICU</td>\n",
       "      <td>4.26</td>\n",
       "      <td>False</td>\n",
       "      <td>3</td>\n",
       "      <td>15.570934</td>\n",
       "      <td>1.000000</td>\n",
       "      <td>-1.718707</td>\n",
       "    </tr>\n",
       "  </tbody>\n",
       "</table>\n",
       "</div>"
      ],
      "text/plain": [
       "   patient_id   age admission_date discharge_date  weight  height  \\\n",
       "0           1  39.0     2023-01-05     2023-01-10    78.0   184.0   \n",
       "1           2  60.0     2023-02-11     2023-02-20    55.0   180.0   \n",
       "2           4  50.0     2023-03-20     2023-03-25    70.0   179.0   \n",
       "3          10  45.0     2023-07-05     2023-07-15    90.0   165.0   \n",
       "4          12  90.0     2023-08-10     2023-08-20    45.0   170.0   \n",
       "\n",
       "   blood_pressure admission_unit  albumin_g_dl  gender_male  \\\n",
       "0           130.0        Surgery          1.00        False   \n",
       "1            90.0     Cardiology          4.26         True   \n",
       "2           110.0            ICU          3.10        False   \n",
       "3            80.0      Neurology          3.10         True   \n",
       "4            60.0            ICU          4.26        False   \n",
       "\n",
       "   admission_unit_encoded        BMI  age_minmax    bp_std  \n",
       "0                       9  23.038752    0.105263  1.274066  \n",
       "1                       0  16.975309    0.473684 -0.436090  \n",
       "2                       3  21.847009    0.298246  0.418988  \n",
       "3                       4  33.057851    0.210526 -0.863629  \n",
       "4                       3  15.570934    1.000000 -1.718707  "
      ]
     },
     "execution_count": 20,
     "metadata": {},
     "output_type": "execute_result"
    }
   ],
   "source": [
    "patients_cleaned.head()"
   ]
  },
  {
   "cell_type": "markdown",
   "id": "1a5ef0323507a886",
   "metadata": {},
   "source": [
    "## Further preprocessing for modeling\n",
    "\n",
    "- scaling all numeric features\n",
    "- dropping any remaining irrelevant columns\n",
    "- handling any remaining missing values\n",
    "- drop identifier `patient_id`"
   ]
  },
  {
   "cell_type": "markdown",
   "id": "08eea39a",
   "metadata": {},
   "source": [
    "## Exercise — Data Transformation\n",
    "\n",
    "1. Standardize the `blood_pressure` column (use StandardScaler - is already imported), store as `bp_standardized`.\n",
    "2. Create a new feature `length_of_stay` as the difference in days between `discharge_date` and `admission_date`. (Hint: columns need to be datetime dtype)\n",
    "3. Plot a histogram of the computed BMI.\n"
   ]
  },
  {
   "cell_type": "code",
   "execution_count": 21,
   "id": "990e7d667e8fa60a",
   "metadata": {
    "ExecuteTime": {
     "end_time": "2025-09-18T19:46:17.316387Z",
     "start_time": "2025-09-18T19:46:17.314511Z"
    }
   },
   "outputs": [],
   "source": [
    "# 1. Standardize blood_pressure"
   ]
  },
  {
   "cell_type": "code",
   "execution_count": 22,
   "id": "89d7b9b2f912c208",
   "metadata": {
    "ExecuteTime": {
     "end_time": "2025-09-18T19:46:17.370829Z",
     "start_time": "2025-09-18T19:46:17.368337Z"
    }
   },
   "outputs": [],
   "source": [
    "# 2. Create length_of_stay feature"
   ]
  },
  {
   "cell_type": "code",
   "execution_count": 23,
   "id": "b772403d28b4db1f",
   "metadata": {
    "ExecuteTime": {
     "end_time": "2025-09-18T19:46:17.461557Z",
     "start_time": "2025-09-18T19:46:17.458314Z"
    }
   },
   "outputs": [],
   "source": [
    "# 3. Plot histogram of BMI"
   ]
  }
 ],
 "metadata": {
  "kernelspec": {
   "display_name": "ai4medicine-env",
   "language": "python",
   "name": "python3"
  },
  "language_info": {
   "codemirror_mode": {
    "name": "ipython",
    "version": 3
   },
   "file_extension": ".py",
   "mimetype": "text/x-python",
   "name": "python",
   "nbconvert_exporter": "python",
   "pygments_lexer": "ipython3",
   "version": "3.12.11"
  }
 },
 "nbformat": 4,
 "nbformat_minor": 5
}
