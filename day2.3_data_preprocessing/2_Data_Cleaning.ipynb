{
 "cells": [
  {
   "cell_type": "markdown",
   "id": "ba6d128d",
   "metadata": {},
   "source": "# Data cleaning for tabular clinical data"
  },
  {
   "metadata": {},
   "cell_type": "markdown",
   "source": [
    "**Key functions we will use:**\n",
    "- `pd.read_csv()` → load data from CSV files into a DataFrame.\n",
    "- `.head()` → view the first rows of a DataFrame.\n",
    "- `.info()` → summary of the DataFrame (columns, types, missing values).\n",
    "- `.describe()` → summary statistics for numeric/categorical columns.\n",
    "- `.isna()` / `.isnull()` → identify missing values.\n",
    "- `.replace()` → replace values in the DataFrame.\n",
    "- `.drop_duplicates()` → remove duplicate rows.\n",
    "- `.dropna()` → remove missing values.\n",
    "- `.astype()` → convert column types.\n",
    "- `.merge()` → join two DataFrames.\n",
    "- `.plot()` / `matplotlib` / `seaborn` → visualize data."
   ],
   "id": "80ca7b4240f23dde"
  },
  {
   "metadata": {},
   "cell_type": "markdown",
   "source": "## 1 Import libraries",
   "id": "b7b6532971e05b69"
  },
  {
   "metadata": {
    "ExecuteTime": {
     "end_time": "2025-09-18T19:51:51.342278Z",
     "start_time": "2025-09-18T19:51:51.340291Z"
    }
   },
   "cell_type": "code",
   "source": [
    "import pandas as pd\n",
    "import numpy as np\n",
    "import matplotlib.pyplot as plt\n",
    "import seaborn as sns"
   ],
   "id": "fddacff48cd0fb03",
   "outputs": [],
   "execution_count": 380
  },
  {
   "cell_type": "code",
   "id": "8befb19e",
   "metadata": {
    "ExecuteTime": {
     "end_time": "2025-09-18T19:51:51.359105Z",
     "start_time": "2025-09-18T19:51:51.354204Z"
    }
   },
   "source": [
    "patients = pd.read_csv('data/patients.csv')\n",
    "labs = pd.read_csv('data/lab_data.csv')"
   ],
   "outputs": [],
   "execution_count": 381
  },
  {
   "metadata": {
    "ExecuteTime": {
     "end_time": "2025-09-18T19:51:51.380111Z",
     "start_time": "2025-09-18T19:51:51.370822Z"
    }
   },
   "cell_type": "code",
   "source": [
    "# show first few rows\n",
    "patients.head()"
   ],
   "id": "944f57b77d73c3f8",
   "outputs": [
    {
     "data": {
      "text/plain": [
       "   patient_id   age admission_date discharge_date  gender  weight  height  \\\n",
       "0           1  39.0     2023-01-05     2023-01-10       f    78.0   184.0   \n",
       "1           2  60.0     2023-02-11     2023-02-20       m    55.0   180.0   \n",
       "2           3  18.0     2023-03-01     2023-03-10  female    80.0   250.0   \n",
       "3           4  50.0     2023-03-20     2023-03-25       f    70.0   179.0   \n",
       "4           5  39.0     2023-04-15     2023-04-20       m    55.0     NaN   \n",
       "\n",
       "   blood_pressure     admission_unit  \n",
       "0           130.0            Surgery  \n",
       "1            90.0           Cardiol.  \n",
       "2            90.0            Surgery  \n",
       "3           110.0  Intensive Care U.  \n",
       "4           110.0  Intensive Care U.  "
      ],
      "text/html": [
       "<div>\n",
       "<style scoped>\n",
       "    .dataframe tbody tr th:only-of-type {\n",
       "        vertical-align: middle;\n",
       "    }\n",
       "\n",
       "    .dataframe tbody tr th {\n",
       "        vertical-align: top;\n",
       "    }\n",
       "\n",
       "    .dataframe thead th {\n",
       "        text-align: right;\n",
       "    }\n",
       "</style>\n",
       "<table border=\"1\" class=\"dataframe\">\n",
       "  <thead>\n",
       "    <tr style=\"text-align: right;\">\n",
       "      <th></th>\n",
       "      <th>patient_id</th>\n",
       "      <th>age</th>\n",
       "      <th>admission_date</th>\n",
       "      <th>discharge_date</th>\n",
       "      <th>gender</th>\n",
       "      <th>weight</th>\n",
       "      <th>height</th>\n",
       "      <th>blood_pressure</th>\n",
       "      <th>admission_unit</th>\n",
       "    </tr>\n",
       "  </thead>\n",
       "  <tbody>\n",
       "    <tr>\n",
       "      <th>0</th>\n",
       "      <td>1</td>\n",
       "      <td>39.0</td>\n",
       "      <td>2023-01-05</td>\n",
       "      <td>2023-01-10</td>\n",
       "      <td>f</td>\n",
       "      <td>78.0</td>\n",
       "      <td>184.0</td>\n",
       "      <td>130.0</td>\n",
       "      <td>Surgery</td>\n",
       "    </tr>\n",
       "    <tr>\n",
       "      <th>1</th>\n",
       "      <td>2</td>\n",
       "      <td>60.0</td>\n",
       "      <td>2023-02-11</td>\n",
       "      <td>2023-02-20</td>\n",
       "      <td>m</td>\n",
       "      <td>55.0</td>\n",
       "      <td>180.0</td>\n",
       "      <td>90.0</td>\n",
       "      <td>Cardiol.</td>\n",
       "    </tr>\n",
       "    <tr>\n",
       "      <th>2</th>\n",
       "      <td>3</td>\n",
       "      <td>18.0</td>\n",
       "      <td>2023-03-01</td>\n",
       "      <td>2023-03-10</td>\n",
       "      <td>female</td>\n",
       "      <td>80.0</td>\n",
       "      <td>250.0</td>\n",
       "      <td>90.0</td>\n",
       "      <td>Surgery</td>\n",
       "    </tr>\n",
       "    <tr>\n",
       "      <th>3</th>\n",
       "      <td>4</td>\n",
       "      <td>50.0</td>\n",
       "      <td>2023-03-20</td>\n",
       "      <td>2023-03-25</td>\n",
       "      <td>f</td>\n",
       "      <td>70.0</td>\n",
       "      <td>179.0</td>\n",
       "      <td>110.0</td>\n",
       "      <td>Intensive Care U.</td>\n",
       "    </tr>\n",
       "    <tr>\n",
       "      <th>4</th>\n",
       "      <td>5</td>\n",
       "      <td>39.0</td>\n",
       "      <td>2023-04-15</td>\n",
       "      <td>2023-04-20</td>\n",
       "      <td>m</td>\n",
       "      <td>55.0</td>\n",
       "      <td>NaN</td>\n",
       "      <td>110.0</td>\n",
       "      <td>Intensive Care U.</td>\n",
       "    </tr>\n",
       "  </tbody>\n",
       "</table>\n",
       "</div>"
      ]
     },
     "execution_count": 382,
     "metadata": {},
     "output_type": "execute_result"
    }
   ],
   "execution_count": 382
  },
  {
   "metadata": {
    "ExecuteTime": {
     "end_time": "2025-09-18T19:51:51.425513Z",
     "start_time": "2025-09-18T19:51:51.420381Z"
    }
   },
   "cell_type": "code",
   "source": [
    "# show labs data\n",
    "labs.head()"
   ],
   "id": "d91ff7d7ad03e66d",
   "outputs": [
    {
     "data": {
      "text/plain": [
       "   patient_id  albumin_g_dl\n",
       "0          44           NaN\n",
       "1          29           3.0\n",
       "2          35           4.5\n",
       "3           7           5.0\n",
       "4          26           4.3"
      ],
      "text/html": [
       "<div>\n",
       "<style scoped>\n",
       "    .dataframe tbody tr th:only-of-type {\n",
       "        vertical-align: middle;\n",
       "    }\n",
       "\n",
       "    .dataframe tbody tr th {\n",
       "        vertical-align: top;\n",
       "    }\n",
       "\n",
       "    .dataframe thead th {\n",
       "        text-align: right;\n",
       "    }\n",
       "</style>\n",
       "<table border=\"1\" class=\"dataframe\">\n",
       "  <thead>\n",
       "    <tr style=\"text-align: right;\">\n",
       "      <th></th>\n",
       "      <th>patient_id</th>\n",
       "      <th>albumin_g_dl</th>\n",
       "    </tr>\n",
       "  </thead>\n",
       "  <tbody>\n",
       "    <tr>\n",
       "      <th>0</th>\n",
       "      <td>44</td>\n",
       "      <td>NaN</td>\n",
       "    </tr>\n",
       "    <tr>\n",
       "      <th>1</th>\n",
       "      <td>29</td>\n",
       "      <td>3.0</td>\n",
       "    </tr>\n",
       "    <tr>\n",
       "      <th>2</th>\n",
       "      <td>35</td>\n",
       "      <td>4.5</td>\n",
       "    </tr>\n",
       "    <tr>\n",
       "      <th>3</th>\n",
       "      <td>7</td>\n",
       "      <td>5.0</td>\n",
       "    </tr>\n",
       "    <tr>\n",
       "      <th>4</th>\n",
       "      <td>26</td>\n",
       "      <td>4.3</td>\n",
       "    </tr>\n",
       "  </tbody>\n",
       "</table>\n",
       "</div>"
      ]
     },
     "execution_count": 383,
     "metadata": {},
     "output_type": "execute_result"
    }
   ],
   "execution_count": 383
  },
  {
   "metadata": {},
   "cell_type": "markdown",
   "source": [
    "## 2 Joining datasets\n",
    "\n",
    "- Use `pd.merge()` to combine datasets on a key (`patient_id`)\n",
    "- `how='left'` keeps all patient rows and adds lab values if available\n",
    "- (Use `how='inner'` to keep only rows present in both tables or `how='outer'` to keep all rows from both tables)"
   ],
   "id": "46c48b910caed1f"
  },
  {
   "metadata": {
    "ExecuteTime": {
     "end_time": "2025-09-18T19:51:51.499386Z",
     "start_time": "2025-09-18T19:51:51.495822Z"
    }
   },
   "cell_type": "code",
   "source": [
    "# merge patients with labs\n",
    "patients = pd.merge(patients, labs, on='patient_id', how='left')"
   ],
   "id": "cb2a7eafa27a9228",
   "outputs": [],
   "execution_count": 384
  },
  {
   "metadata": {
    "ExecuteTime": {
     "end_time": "2025-09-18T19:51:51.652509Z",
     "start_time": "2025-09-18T19:51:51.643021Z"
    }
   },
   "cell_type": "code",
   "source": [
    "# show first few rows after merge\n",
    "patients.head()"
   ],
   "id": "2e6a0097ba4b19ae",
   "outputs": [
    {
     "data": {
      "text/plain": [
       "   patient_id   age admission_date discharge_date  gender  weight  height  \\\n",
       "0           1  39.0     2023-01-05     2023-01-10       f    78.0   184.0   \n",
       "1           2  60.0     2023-02-11     2023-02-20       m    55.0   180.0   \n",
       "2           3  18.0     2023-03-01     2023-03-10  female    80.0   250.0   \n",
       "3           4  50.0     2023-03-20     2023-03-25       f    70.0   179.0   \n",
       "4           5  39.0     2023-04-15     2023-04-20       m    55.0     NaN   \n",
       "\n",
       "   blood_pressure     admission_unit  albumin_g_dl  \n",
       "0           130.0            Surgery           1.0  \n",
       "1            90.0           Cardiol.           NaN  \n",
       "2            90.0            Surgery          10.0  \n",
       "3           110.0  Intensive Care U.           3.1  \n",
       "4           110.0  Intensive Care U.           3.1  "
      ],
      "text/html": [
       "<div>\n",
       "<style scoped>\n",
       "    .dataframe tbody tr th:only-of-type {\n",
       "        vertical-align: middle;\n",
       "    }\n",
       "\n",
       "    .dataframe tbody tr th {\n",
       "        vertical-align: top;\n",
       "    }\n",
       "\n",
       "    .dataframe thead th {\n",
       "        text-align: right;\n",
       "    }\n",
       "</style>\n",
       "<table border=\"1\" class=\"dataframe\">\n",
       "  <thead>\n",
       "    <tr style=\"text-align: right;\">\n",
       "      <th></th>\n",
       "      <th>patient_id</th>\n",
       "      <th>age</th>\n",
       "      <th>admission_date</th>\n",
       "      <th>discharge_date</th>\n",
       "      <th>gender</th>\n",
       "      <th>weight</th>\n",
       "      <th>height</th>\n",
       "      <th>blood_pressure</th>\n",
       "      <th>admission_unit</th>\n",
       "      <th>albumin_g_dl</th>\n",
       "    </tr>\n",
       "  </thead>\n",
       "  <tbody>\n",
       "    <tr>\n",
       "      <th>0</th>\n",
       "      <td>1</td>\n",
       "      <td>39.0</td>\n",
       "      <td>2023-01-05</td>\n",
       "      <td>2023-01-10</td>\n",
       "      <td>f</td>\n",
       "      <td>78.0</td>\n",
       "      <td>184.0</td>\n",
       "      <td>130.0</td>\n",
       "      <td>Surgery</td>\n",
       "      <td>1.0</td>\n",
       "    </tr>\n",
       "    <tr>\n",
       "      <th>1</th>\n",
       "      <td>2</td>\n",
       "      <td>60.0</td>\n",
       "      <td>2023-02-11</td>\n",
       "      <td>2023-02-20</td>\n",
       "      <td>m</td>\n",
       "      <td>55.0</td>\n",
       "      <td>180.0</td>\n",
       "      <td>90.0</td>\n",
       "      <td>Cardiol.</td>\n",
       "      <td>NaN</td>\n",
       "    </tr>\n",
       "    <tr>\n",
       "      <th>2</th>\n",
       "      <td>3</td>\n",
       "      <td>18.0</td>\n",
       "      <td>2023-03-01</td>\n",
       "      <td>2023-03-10</td>\n",
       "      <td>female</td>\n",
       "      <td>80.0</td>\n",
       "      <td>250.0</td>\n",
       "      <td>90.0</td>\n",
       "      <td>Surgery</td>\n",
       "      <td>10.0</td>\n",
       "    </tr>\n",
       "    <tr>\n",
       "      <th>3</th>\n",
       "      <td>4</td>\n",
       "      <td>50.0</td>\n",
       "      <td>2023-03-20</td>\n",
       "      <td>2023-03-25</td>\n",
       "      <td>f</td>\n",
       "      <td>70.0</td>\n",
       "      <td>179.0</td>\n",
       "      <td>110.0</td>\n",
       "      <td>Intensive Care U.</td>\n",
       "      <td>3.1</td>\n",
       "    </tr>\n",
       "    <tr>\n",
       "      <th>4</th>\n",
       "      <td>5</td>\n",
       "      <td>39.0</td>\n",
       "      <td>2023-04-15</td>\n",
       "      <td>2023-04-20</td>\n",
       "      <td>m</td>\n",
       "      <td>55.0</td>\n",
       "      <td>NaN</td>\n",
       "      <td>110.0</td>\n",
       "      <td>Intensive Care U.</td>\n",
       "      <td>3.1</td>\n",
       "    </tr>\n",
       "  </tbody>\n",
       "</table>\n",
       "</div>"
      ]
     },
     "execution_count": 385,
     "metadata": {},
     "output_type": "execute_result"
    }
   ],
   "execution_count": 385
  },
  {
   "metadata": {},
   "cell_type": "markdown",
   "source": [
    "## 2 Quick exploration: `.info()` and `.describe()`\n",
    "\n",
    "- `df.info()` shows column names, data types, and non-null counts. It's the fastest way to spot missing values and wrong dtypes\n",
    "- `df.describe(include='all')` gives summary statistics for numeric and non-numeric columns"
   ],
   "id": "a990ef2d"
  },
  {
   "metadata": {
    "ExecuteTime": {
     "end_time": "2025-09-18T19:51:51.803570Z",
     "start_time": "2025-09-18T19:51:51.796113Z"
    }
   },
   "cell_type": "code",
   "source": "patients.info()",
   "id": "20d180e04f998844",
   "outputs": [
    {
     "name": "stdout",
     "output_type": "stream",
     "text": [
      "<class 'pandas.core.frame.DataFrame'>\n",
      "RangeIndex: 58 entries, 0 to 57\n",
      "Data columns (total 10 columns):\n",
      " #   Column          Non-Null Count  Dtype  \n",
      "---  ------          --------------  -----  \n",
      " 0   patient_id      58 non-null     int64  \n",
      " 1   age             54 non-null     float64\n",
      " 2   admission_date  57 non-null     object \n",
      " 3   discharge_date  57 non-null     object \n",
      " 4   gender          58 non-null     object \n",
      " 5   weight          57 non-null     float64\n",
      " 6   height          49 non-null     float64\n",
      " 7   blood_pressure  54 non-null     float64\n",
      " 8   admission_unit  56 non-null     object \n",
      " 9   albumin_g_dl    44 non-null     float64\n",
      "dtypes: float64(5), int64(1), object(4)\n",
      "memory usage: 4.7+ KB\n"
     ]
    }
   ],
   "execution_count": 386
  },
  {
   "cell_type": "code",
   "id": "4566c328",
   "metadata": {
    "ExecuteTime": {
     "end_time": "2025-09-18T19:51:51.954678Z",
     "start_time": "2025-09-18T19:51:51.935740Z"
    }
   },
   "source": "patients.describe(include='all').transpose()",
   "outputs": [
    {
     "data": {
      "text/plain": [
       "               count unique                top freq        mean         std  \\\n",
       "patient_id      58.0    NaN                NaN  NaN   28.603448   16.726845   \n",
       "age             54.0    NaN                NaN  NaN   52.814815   20.173843   \n",
       "admission_date    57     28         2023-05-01    3         NaN         NaN   \n",
       "discharge_date    57     28         2023-05-05    3         NaN         NaN   \n",
       "gender            58      4               male   20         NaN         NaN   \n",
       "weight          57.0    NaN                NaN  NaN  111.122807  119.399999   \n",
       "height          49.0    NaN                NaN  NaN  187.469388   44.616468   \n",
       "blood_pressure  54.0    NaN                NaN  NaN  157.777778  119.019844   \n",
       "admission_unit    56     10  Intensive Care U.    8         NaN         NaN   \n",
       "albumin_g_dl    44.0    NaN                NaN  NaN    4.884091    2.227309   \n",
       "\n",
       "                  min    25%    50%    75%    max  \n",
       "patient_id        1.0  14.25   28.5  42.75   57.0  \n",
       "age              18.0   39.0   54.0   62.0   90.0  \n",
       "admission_date    NaN    NaN    NaN    NaN    NaN  \n",
       "discharge_date    NaN    NaN    NaN    NaN    NaN  \n",
       "gender            NaN    NaN    NaN    NaN    NaN  \n",
       "weight           45.0   65.0   75.0   85.0  500.0  \n",
       "height          159.0  165.0  172.0  179.0  300.0  \n",
       "blood_pressure   60.0   80.0  105.0  237.5  500.0  \n",
       "admission_unit    NaN    NaN    NaN    NaN    NaN  \n",
       "albumin_g_dl      1.0    3.5    4.5    5.0   10.0  "
      ],
      "text/html": [
       "<div>\n",
       "<style scoped>\n",
       "    .dataframe tbody tr th:only-of-type {\n",
       "        vertical-align: middle;\n",
       "    }\n",
       "\n",
       "    .dataframe tbody tr th {\n",
       "        vertical-align: top;\n",
       "    }\n",
       "\n",
       "    .dataframe thead th {\n",
       "        text-align: right;\n",
       "    }\n",
       "</style>\n",
       "<table border=\"1\" class=\"dataframe\">\n",
       "  <thead>\n",
       "    <tr style=\"text-align: right;\">\n",
       "      <th></th>\n",
       "      <th>count</th>\n",
       "      <th>unique</th>\n",
       "      <th>top</th>\n",
       "      <th>freq</th>\n",
       "      <th>mean</th>\n",
       "      <th>std</th>\n",
       "      <th>min</th>\n",
       "      <th>25%</th>\n",
       "      <th>50%</th>\n",
       "      <th>75%</th>\n",
       "      <th>max</th>\n",
       "    </tr>\n",
       "  </thead>\n",
       "  <tbody>\n",
       "    <tr>\n",
       "      <th>patient_id</th>\n",
       "      <td>58.0</td>\n",
       "      <td>NaN</td>\n",
       "      <td>NaN</td>\n",
       "      <td>NaN</td>\n",
       "      <td>28.603448</td>\n",
       "      <td>16.726845</td>\n",
       "      <td>1.0</td>\n",
       "      <td>14.25</td>\n",
       "      <td>28.5</td>\n",
       "      <td>42.75</td>\n",
       "      <td>57.0</td>\n",
       "    </tr>\n",
       "    <tr>\n",
       "      <th>age</th>\n",
       "      <td>54.0</td>\n",
       "      <td>NaN</td>\n",
       "      <td>NaN</td>\n",
       "      <td>NaN</td>\n",
       "      <td>52.814815</td>\n",
       "      <td>20.173843</td>\n",
       "      <td>18.0</td>\n",
       "      <td>39.0</td>\n",
       "      <td>54.0</td>\n",
       "      <td>62.0</td>\n",
       "      <td>90.0</td>\n",
       "    </tr>\n",
       "    <tr>\n",
       "      <th>admission_date</th>\n",
       "      <td>57</td>\n",
       "      <td>28</td>\n",
       "      <td>2023-05-01</td>\n",
       "      <td>3</td>\n",
       "      <td>NaN</td>\n",
       "      <td>NaN</td>\n",
       "      <td>NaN</td>\n",
       "      <td>NaN</td>\n",
       "      <td>NaN</td>\n",
       "      <td>NaN</td>\n",
       "      <td>NaN</td>\n",
       "    </tr>\n",
       "    <tr>\n",
       "      <th>discharge_date</th>\n",
       "      <td>57</td>\n",
       "      <td>28</td>\n",
       "      <td>2023-05-05</td>\n",
       "      <td>3</td>\n",
       "      <td>NaN</td>\n",
       "      <td>NaN</td>\n",
       "      <td>NaN</td>\n",
       "      <td>NaN</td>\n",
       "      <td>NaN</td>\n",
       "      <td>NaN</td>\n",
       "      <td>NaN</td>\n",
       "    </tr>\n",
       "    <tr>\n",
       "      <th>gender</th>\n",
       "      <td>58</td>\n",
       "      <td>4</td>\n",
       "      <td>male</td>\n",
       "      <td>20</td>\n",
       "      <td>NaN</td>\n",
       "      <td>NaN</td>\n",
       "      <td>NaN</td>\n",
       "      <td>NaN</td>\n",
       "      <td>NaN</td>\n",
       "      <td>NaN</td>\n",
       "      <td>NaN</td>\n",
       "    </tr>\n",
       "    <tr>\n",
       "      <th>weight</th>\n",
       "      <td>57.0</td>\n",
       "      <td>NaN</td>\n",
       "      <td>NaN</td>\n",
       "      <td>NaN</td>\n",
       "      <td>111.122807</td>\n",
       "      <td>119.399999</td>\n",
       "      <td>45.0</td>\n",
       "      <td>65.0</td>\n",
       "      <td>75.0</td>\n",
       "      <td>85.0</td>\n",
       "      <td>500.0</td>\n",
       "    </tr>\n",
       "    <tr>\n",
       "      <th>height</th>\n",
       "      <td>49.0</td>\n",
       "      <td>NaN</td>\n",
       "      <td>NaN</td>\n",
       "      <td>NaN</td>\n",
       "      <td>187.469388</td>\n",
       "      <td>44.616468</td>\n",
       "      <td>159.0</td>\n",
       "      <td>165.0</td>\n",
       "      <td>172.0</td>\n",
       "      <td>179.0</td>\n",
       "      <td>300.0</td>\n",
       "    </tr>\n",
       "    <tr>\n",
       "      <th>blood_pressure</th>\n",
       "      <td>54.0</td>\n",
       "      <td>NaN</td>\n",
       "      <td>NaN</td>\n",
       "      <td>NaN</td>\n",
       "      <td>157.777778</td>\n",
       "      <td>119.019844</td>\n",
       "      <td>60.0</td>\n",
       "      <td>80.0</td>\n",
       "      <td>105.0</td>\n",
       "      <td>237.5</td>\n",
       "      <td>500.0</td>\n",
       "    </tr>\n",
       "    <tr>\n",
       "      <th>admission_unit</th>\n",
       "      <td>56</td>\n",
       "      <td>10</td>\n",
       "      <td>Intensive Care U.</td>\n",
       "      <td>8</td>\n",
       "      <td>NaN</td>\n",
       "      <td>NaN</td>\n",
       "      <td>NaN</td>\n",
       "      <td>NaN</td>\n",
       "      <td>NaN</td>\n",
       "      <td>NaN</td>\n",
       "      <td>NaN</td>\n",
       "    </tr>\n",
       "    <tr>\n",
       "      <th>albumin_g_dl</th>\n",
       "      <td>44.0</td>\n",
       "      <td>NaN</td>\n",
       "      <td>NaN</td>\n",
       "      <td>NaN</td>\n",
       "      <td>4.884091</td>\n",
       "      <td>2.227309</td>\n",
       "      <td>1.0</td>\n",
       "      <td>3.5</td>\n",
       "      <td>4.5</td>\n",
       "      <td>5.0</td>\n",
       "      <td>10.0</td>\n",
       "    </tr>\n",
       "  </tbody>\n",
       "</table>\n",
       "</div>"
      ]
     },
     "execution_count": 387,
     "metadata": {},
     "output_type": "execute_result"
    }
   ],
   "execution_count": 387
  },
  {
   "cell_type": "markdown",
   "id": "c6846a17",
   "metadata": {},
   "source": [
    "## 3 Converting columns to correct data types\n",
    "\n",
    "- Numeric columns stored as strings prevent calculations. We use `pd.to_numeric(..., errors='coerce')` to convert values to numbers; invalid parses become NaN (so we can handle them deliberately).\n",
    "- Date columns are converted with `pd.to_datetime(..., errors='coerce')` so we can do date arithmetic.\n",
    "- Categorical variables can be cast to `'category'` dtype to save memory and make operations explicit.\n",
    "\n",
    "We'll convert `age`, `height` to numeric, and attempt to parse admission/discharge dates."
   ]
  },
  {
   "cell_type": "code",
   "id": "585c7170",
   "metadata": {
    "ExecuteTime": {
     "end_time": "2025-09-18T19:51:52.036909Z",
     "start_time": "2025-09-18T19:51:52.031661Z"
    }
   },
   "source": [
    "# Convert 'age' to int64\n",
    "patients['age'] = pd.to_numeric(patients['age'], errors='coerce').astype('Int64')\n",
    "\n",
    "# Convert dates to datetime\n",
    "patients['admission_date'] = pd.to_datetime(patients['admission_date'], errors='coerce')\n",
    "patients['discharge_date'] = pd.to_datetime(patients['discharge_date'], errors='coerce')"
   ],
   "outputs": [],
   "execution_count": 388
  },
  {
   "metadata": {
    "ExecuteTime": {
     "end_time": "2025-09-18T19:51:52.103597Z",
     "start_time": "2025-09-18T19:51:52.100065Z"
    }
   },
   "cell_type": "code",
   "source": [
    "# Show dtypes after conversion\n",
    "patients.dtypes"
   ],
   "id": "cee9e8f8483f7732",
   "outputs": [
    {
     "data": {
      "text/plain": [
       "patient_id                 int64\n",
       "age                        Int64\n",
       "admission_date    datetime64[ns]\n",
       "discharge_date    datetime64[ns]\n",
       "gender                    object\n",
       "weight                   float64\n",
       "height                   float64\n",
       "blood_pressure           float64\n",
       "admission_unit            object\n",
       "albumin_g_dl             float64\n",
       "dtype: object"
      ]
     },
     "execution_count": 389,
     "metadata": {},
     "output_type": "execute_result"
    }
   ],
   "execution_count": 389
  },
  {
   "cell_type": "markdown",
   "id": "1e26790b",
   "metadata": {},
   "source": [
    "## 4 Visualizing distributions\n",
    "\n",
    "- Visualizing numeric columns helps spot outliers and understand distributions.\n",
    "- We can use barplots and boxplots.\n",
    "- We focus on `weight`, `blood_pressure`, and `age` here."
   ]
  },
  {
   "metadata": {
    "ExecuteTime": {
     "end_time": "2025-09-18T19:51:52.407960Z",
     "start_time": "2025-09-18T19:51:52.204947Z"
    }
   },
   "cell_type": "code",
   "source": [
    "# Boxplots for numeric columns to spot outliers for weight, blood_pressure in separate plots\n",
    "plt.figure(figsize=(12,7))\n",
    "plt.subplot(1,3,1)\n",
    "sns.boxplot(y=patients['weight'])\n",
    "plt.title('Weight Distribution')\n",
    "plt.subplot(1,3,2)\n",
    "sns.boxplot(y=patients['blood_pressure'])\n",
    "plt.title('Blood Pressure Distribution')\n",
    "plt.subplot(1,3,3)\n",
    "sns.boxplot(y=patients['age'])\n",
    "plt.title('Age Distribution')\n",
    "plt.tight_layout()\n",
    "plt.show()"
   ],
   "id": "507ed607c0fd8990",
   "outputs": [
    {
     "data": {
      "text/plain": [
       "<Figure size 1200x700 with 3 Axes>"
      ],
      "image/png": "[encoded data removed]"
     },
     "metadata": {},
     "output_type": "display_data"
    }
   ],
   "execution_count": 390
  },
  {
   "cell_type": "markdown",
   "id": "85da71f0",
   "metadata": {},
   "source": [
    "## 5 Handling outliers\n",
    "\n",
    "- Outliers should be inspected: are they data entry mistakes or true extreme clinical cases?\n",
    "- For obvious errors (e.g., weight = 500 kg or height = 300 cm), we may drop or cap them. Here we show a conservative filters example to remove implausible values.\n",
    "- The more data-driven IQR method adapts to the actual distribution. We will apply both methods."
   ]
  },
  {
   "cell_type": "code",
   "id": "66f44428",
   "metadata": {
    "ExecuteTime": {
     "end_time": "2025-09-18T19:51:52.442241Z",
     "start_time": "2025-09-18T19:51:52.440715Z"
    }
   },
   "source": [
    "# Count rows before filtering\n",
    "before = len(patients)"
   ],
   "outputs": [],
   "execution_count": 391
  },
  {
   "metadata": {},
   "cell_type": "markdown",
   "source": [
    "#### Example conservative filtering: remove implausible physiological values\n",
    "\n",
    "- Height: keep between 100 cm and 250 cm\n",
    "- Blood pressure: keep between 40 mmHg and 250 mmHg\n",
    "- We allow NaNs to remain for now (will handle missingness later)"
   ],
   "id": "8ab6f1a4de444032"
  },
  {
   "metadata": {
    "ExecuteTime": {
     "end_time": "2025-09-18T19:51:52.461583Z",
     "start_time": "2025-09-18T19:51:52.458459Z"
    }
   },
   "cell_type": "code",
   "source": [
    "patients = patients[(patients['height'].isna()) | ((patients['height'] > 100) & (patients['height'] < 250))]\n",
    "patients = patients[(patients['blood_pressure'].isna()) | ((patients['blood_pressure'] > 40) & (patients['blood_pressure'] < 250))]"
   ],
   "id": "3d5e785d746007ea",
   "outputs": [],
   "execution_count": 392
  },
  {
   "metadata": {},
   "cell_type": "markdown",
   "source": [
    "#### Example IQR-based filtering for weight\n",
    "\n",
    "- Calculate Q1, Q3, and IQR for weight\n",
    "- Define lower and upper bounds as Q1 - 1.5*IQR and Q3 + 1.5*IQR\n",
    "- Filter rows outside these bounds\n",
    "- This method is more data-driven and adapts to the actual distribution\n",
    "- We allow NaNs to remain for now (will handle missingness later)"
   ],
   "id": "db4720c5a2f0abed"
  },
  {
   "metadata": {
    "ExecuteTime": {
     "end_time": "2025-09-18T19:51:52.486887Z",
     "start_time": "2025-09-18T19:51:52.483580Z"
    }
   },
   "cell_type": "code",
   "source": [
    "Q1 = patients['weight'].quantile(0.25)\n",
    "Q3 = patients['weight'].quantile(0.75)\n",
    "IQR = Q3 - Q1\n",
    "lower_bound = Q1 - 1.5 * IQR\n",
    "upper_bound = Q3 + 1.5 * IQR\n",
    "patients = patients[((patients['weight'] >= lower_bound) & (patients['weight'] <= upper_bound))]"
   ],
   "id": "a67fab0fa9344556",
   "outputs": [],
   "execution_count": 393
  },
  {
   "metadata": {
    "ExecuteTime": {
     "end_time": "2025-09-18T19:51:52.498998Z",
     "start_time": "2025-09-18T19:51:52.496748Z"
    }
   },
   "cell_type": "code",
   "source": [
    "# Count rows after filtering and print both counts\n",
    "after = len(patients)\n",
    "print(f\"Rows before: {before}, after outlier filter: {after}\")"
   ],
   "id": "a5a76e7e17976b1b",
   "outputs": [
    {
     "name": "stdout",
     "output_type": "stream",
     "text": [
      "Rows before: 58, after outlier filter: 33\n"
     ]
    }
   ],
   "execution_count": 394
  },
  {
   "metadata": {},
   "cell_type": "markdown",
   "source": [
    "## 6 Detect missing values\n",
    "\n",
    "Real-world datasets contain often missing values. We count missing values per column to understand the extent of missingness. Afterwards we will handle them appropriately (depending on the analysis, we may drop rows, impute values, or flag missingness)."
   ],
   "id": "3690eda7"
  },
  {
   "metadata": {
    "ExecuteTime": {
     "end_time": "2025-09-18T19:51:52.534250Z",
     "start_time": "2025-09-18T19:51:52.531028Z"
    }
   },
   "cell_type": "code",
   "source": [
    "# Show missing counts per column\n",
    "patients.isna().sum()"
   ],
   "id": "793d1e37",
   "outputs": [
    {
     "data": {
      "text/plain": [
       "patient_id         0\n",
       "age                2\n",
       "admission_date     0\n",
       "discharge_date     0\n",
       "gender             0\n",
       "weight             0\n",
       "height             7\n",
       "blood_pressure     3\n",
       "admission_unit     0\n",
       "albumin_g_dl      12\n",
       "dtype: int64"
      ]
     },
     "execution_count": 395,
     "metadata": {},
     "output_type": "execute_result"
    }
   ],
   "execution_count": 395
  },
  {
   "metadata": {},
   "cell_type": "markdown",
   "source": "#### Method 1: Drop rows with missing values in critical columns (e.g., admission_date, discharge_date)",
   "id": "3e51e146534c67a3"
  },
  {
   "metadata": {
    "ExecuteTime": {
     "end_time": "2025-09-18T19:51:52.586005Z",
     "start_time": "2025-09-18T19:51:52.582957Z"
    }
   },
   "cell_type": "code",
   "source": [
    "# Drop rows missing admission or discharge dates\n",
    "patients = patients.dropna(subset=['admission_date', 'discharge_date', 'height'])"
   ],
   "id": "25b9fddf682fcbb2",
   "outputs": [],
   "execution_count": 396
  },
  {
   "metadata": {},
   "cell_type": "markdown",
   "source": "#### Method 2: Impute missing data (e.g., blood_pressure) with mean",
   "id": "45cd5025adcbd4a8"
  },
  {
   "metadata": {
    "ExecuteTime": {
     "end_time": "2025-09-18T19:51:52.641490Z",
     "start_time": "2025-09-18T19:51:52.638439Z"
    }
   },
   "cell_type": "code",
   "source": [
    "# Impute missing blood_pressure with mean\n",
    "mean_bp = patients['blood_pressure'].mean()\n",
    "patients['blood_pressure'] = patients['blood_pressure'].fillna(mean_bp)\n",
    "\n",
    "# Impute albumin_g_dl with mean\n",
    "mean_albumin = patients['albumin_g_dl'].mean()\n",
    "patients['albumin_g_dl'] = patients['albumin_g_dl'].fillna(mean_albumin)"
   ],
   "id": "58acef3db61eab1e",
   "outputs": [],
   "execution_count": 397
  },
  {
   "metadata": {
    "ExecuteTime": {
     "end_time": "2025-09-18T19:51:52.682725Z",
     "start_time": "2025-09-18T19:51:52.679563Z"
    }
   },
   "cell_type": "code",
   "source": [
    "# Show missing counts per column\n",
    "patients.isna().sum()"
   ],
   "id": "863ad8c0a3cc6304",
   "outputs": [
    {
     "data": {
      "text/plain": [
       "patient_id        0\n",
       "age               2\n",
       "admission_date    0\n",
       "discharge_date    0\n",
       "gender            0\n",
       "weight            0\n",
       "height            0\n",
       "blood_pressure    0\n",
       "admission_unit    0\n",
       "albumin_g_dl      0\n",
       "dtype: int64"
      ]
     },
     "execution_count": 398,
     "metadata": {},
     "output_type": "execute_result"
    }
   ],
   "execution_count": 398
  },
  {
   "metadata": {},
   "cell_type": "markdown",
   "source": [
    "## 7 Detecting and removing duplicates\n",
    "\n",
    "- Duplicates (identical rows) can inflate counts and bias results. Use `df.duplicated()` to detect and `df.drop_duplicates()` to remove.\n",
    "- If duplicates are partial (same patient with different timestamps), domain knowledge is required to deduplicate safely."
   ],
   "id": "7d31b90f"
  },
  {
   "metadata": {
    "ExecuteTime": {
     "end_time": "2025-09-18T19:51:52.731735Z",
     "start_time": "2025-09-18T19:51:52.727096Z"
    }
   },
   "cell_type": "code",
   "source": [
    "# Count duplicate rows (exact duplicates)\n",
    "dup_count = patients.duplicated().sum()\n",
    "print(\"Exact duplicate rows:\", dup_count)\n",
    "\n",
    "# Example: show duplicates if any (first few)\n",
    "if dup_count > 0:\n",
    "    display(patients[patients.duplicated(keep=False)].head())\n",
    "\n",
    "# Remove exact duplicates\n",
    "patients = patients.drop_duplicates()"
   ],
   "id": "989c4138",
   "outputs": [
    {
     "name": "stdout",
     "output_type": "stream",
     "text": [
      "Exact duplicate rows: 0\n"
     ]
    }
   ],
   "execution_count": 399
  },
  {
   "metadata": {},
   "cell_type": "markdown",
   "source": "### Save cleaned dataset",
   "id": "48472813794f9774"
  },
  {
   "metadata": {
    "ExecuteTime": {
     "end_time": "2025-09-18T19:51:52.795622Z",
     "start_time": "2025-09-18T19:51:52.791952Z"
    }
   },
   "cell_type": "code",
   "source": [
    "# Save cleaned data to new CSV\n",
    "patients.to_csv('data/patients_cleaned.csv', index=False)"
   ],
   "id": "b3de9a49ea624217",
   "outputs": [],
   "execution_count": 400
  },
  {
   "cell_type": "markdown",
   "id": "23d8f2c5",
   "metadata": {},
   "source": [
    "## 8 Exercise — Data Cleaning\n",
    "\n",
    "Please complete the following tasks:\n",
    "\n",
    "1. Handle outliers in `age` by setting rows where age is less than 18 and more than 100 to NaN.\n",
    "2. Count how many patients have missing values in `age`.\n",
    "3. Impute missing `age` values with the median age. (use `.median()`)\n",
    "4. Plot the `age` distribution after cleaning and briefly interpret whether values look plausible."
   ]
  },
  {
   "cell_type": "code",
   "id": "b3ce6c6b",
   "metadata": {
    "ExecuteTime": {
     "end_time": "2025-09-18T19:51:52.832637Z",
     "start_time": "2025-09-18T19:51:52.830784Z"
    }
   },
   "source": "",
   "outputs": [],
   "execution_count": null
  }
 ],
 "metadata": {},
 "nbformat": 4,
 "nbformat_minor": 5
}
