{
 "cells": [
  {
   "metadata": {},
   "cell_type": "markdown",
   "source": [
    "# 🐼 Introduction to pandas\n",
    "\n",
    "**pandas** is an open-source Python library for working with and analyzing tabular data (similar to Excel spreadsheets) and time series.\n",
    "It is extremely useful in medical research because it makes it easy to handle patient data, lab results, ICU data, and many other clinical datasets.\n",
    "\n",
    "pandas is built around two main data structures:\n",
    "\n",
    "- **Series** → A one-dimensional array with labels (like a single column in a table).\n",
    "- **DataFrame** → A two-dimensional tabular structure with labeled rows and columns (like a full table).\n",
    "\n",
    "---\n",
    "\n",
    "### Why pandas?\n",
    "\n",
    "- Efficient handling of **messy real-world data** (missing values, duplicates, different formats).\n",
    "- High compatibility with other Python libraries (e.g., `matplotlib`, `seaborn`, `scikit-learn`).\n",
    "- Widely considered the **de facto standard** for tabular data in Python.\n",
    "\n",
    "👉 A great starting point is the official [10-Minute Tutorial](https://pandas.pydata.org/pandas-docs/stable/user_guide/10min.html).\n",
    "\n",
    "---\n",
    "\n",
    "### Alternatives to pandas\n",
    "\n",
    "While pandas is the most common tool, there are alternatives:\n",
    "- **Dask** – for parallel processing of very large datasets (bigger than your computer’s memory). Often used in big data and machine learning pipelines.\n",
    "- **Polars** – a modern, very fast data analysis library with increasing compatibility to pandas-like operations.\n"
   ],
   "id": "eb6fe9d59be526a5"
  },
  {
   "metadata": {},
   "cell_type": "markdown",
   "source": "### Import pandas",
   "id": "6096001e6aa7a4e5"
  },
  {
   "cell_type": "code",
   "id": "initial_id",
   "metadata": {
    "collapsed": true,
    "ExecuteTime": {
     "end_time": "2025-09-18T15:42:15.056635Z",
     "start_time": "2025-09-18T15:42:15.052119Z"
    }
   },
   "source": "import pandas as pd",
   "outputs": [],
   "execution_count": 42
  },
  {
   "metadata": {},
   "cell_type": "markdown",
   "source": "### Creating a DataFrame with a dictionary",
   "id": "8322f37da32c1c71"
  },
  {
   "metadata": {},
   "cell_type": "markdown",
   "source": [
    "We usually work with **DataFrames** in pandas.\n",
    "A DataFrame can be created from many sources:\n",
    "- Python dictionaries\n",
    "- Excel or CSV files\n",
    "- Databases\n",
    "- JSON or APIs\n",
    "\n",
    "Here we create a simple patient dataset as a dictionary and load it into a DataFrame.\n"
   ],
   "id": "cef9d742e1152fc0"
  },
  {
   "metadata": {
    "ExecuteTime": {
     "end_time": "2025-09-18T15:42:15.082062Z",
     "start_time": "2025-09-18T15:42:15.073452Z"
    }
   },
   "cell_type": "code",
   "source": [
    "# Example: Patient data\n",
    "data_dict = {\n",
    "    \"patient_id\": [1, 2, 3],\n",
    "    \"name\": [\"Anna\", \"Ben\", \"Clara\"],\n",
    "    \"age\": [65, 42, 58],\n",
    "    \"gender\": [\"F\", \"M\", \"F\"],\n",
    "    \"admission_date\": [\"2024-12-01\", \"2024-12-15\", \"2024-12-31\"],\n",
    "    \"blood_pressure\": [120, 145, 130]\n",
    "}\n",
    "\n",
    "patients = pd.DataFrame(data=data_dict)\n",
    "\n",
    "patients"
   ],
   "id": "73c350c5a502896",
   "outputs": [
    {
     "data": {
      "text/plain": [
       "   patient_id   name  age gender admission_date  blood_pressure\n",
       "0           1   Anna   65      F     2024-12-01             120\n",
       "1           2    Ben   42      M     2024-12-15             145\n",
       "2           3  Clara   58      F     2024-12-31             130"
      ],
      "text/html": [
       "<div>\n",
       "<style scoped>\n",
       "    .dataframe tbody tr th:only-of-type {\n",
       "        vertical-align: middle;\n",
       "    }\n",
       "\n",
       "    .dataframe tbody tr th {\n",
       "        vertical-align: top;\n",
       "    }\n",
       "\n",
       "    .dataframe thead th {\n",
       "        text-align: right;\n",
       "    }\n",
       "</style>\n",
       "<table border=\"1\" class=\"dataframe\">\n",
       "  <thead>\n",
       "    <tr style=\"text-align: right;\">\n",
       "      <th></th>\n",
       "      <th>patient_id</th>\n",
       "      <th>name</th>\n",
       "      <th>age</th>\n",
       "      <th>gender</th>\n",
       "      <th>admission_date</th>\n",
       "      <th>blood_pressure</th>\n",
       "    </tr>\n",
       "  </thead>\n",
       "  <tbody>\n",
       "    <tr>\n",
       "      <th>0</th>\n",
       "      <td>1</td>\n",
       "      <td>Anna</td>\n",
       "      <td>65</td>\n",
       "      <td>F</td>\n",
       "      <td>2024-12-01</td>\n",
       "      <td>120</td>\n",
       "    </tr>\n",
       "    <tr>\n",
       "      <th>1</th>\n",
       "      <td>2</td>\n",
       "      <td>Ben</td>\n",
       "      <td>42</td>\n",
       "      <td>M</td>\n",
       "      <td>2024-12-15</td>\n",
       "      <td>145</td>\n",
       "    </tr>\n",
       "    <tr>\n",
       "      <th>2</th>\n",
       "      <td>3</td>\n",
       "      <td>Clara</td>\n",
       "      <td>58</td>\n",
       "      <td>F</td>\n",
       "      <td>2024-12-31</td>\n",
       "      <td>130</td>\n",
       "    </tr>\n",
       "  </tbody>\n",
       "</table>\n",
       "</div>"
      ]
     },
     "execution_count": 43,
     "metadata": {},
     "output_type": "execute_result"
    }
   ],
   "execution_count": 43
  },
  {
   "metadata": {},
   "cell_type": "markdown",
   "source": "### Exploring a DataFrame",
   "id": "991d6f0a7017a5c2"
  },
  {
   "metadata": {},
   "cell_type": "markdown",
   "source": [
    "pandas offers many methods to **explore and understand your dataset**.\n",
    "\n",
    "- `.info()` → metadata: number of rows, columns, data types, missing values\n",
    "- `.head(n)` → shows the first `n` rows (default = 5)\n",
    "- `.tail(n)` → shows the last `n` rows\n",
    "- `.describe()` → summary statistics (mean, min, max, standard deviation) for numeric columns\n"
   ],
   "id": "e4921615455b3436"
  },
  {
   "metadata": {
    "ExecuteTime": {
     "end_time": "2025-09-18T15:42:15.125421Z",
     "start_time": "2025-09-18T15:42:15.119437Z"
    }
   },
   "cell_type": "code",
   "source": [
    "# Show metadata\n",
    "patients.info()"
   ],
   "id": "ecb7ecfda28fd2f4",
   "outputs": [
    {
     "name": "stdout",
     "output_type": "stream",
     "text": [
      "<class 'pandas.core.frame.DataFrame'>\n",
      "RangeIndex: 3 entries, 0 to 2\n",
      "Data columns (total 6 columns):\n",
      " #   Column          Non-Null Count  Dtype \n",
      "---  ------          --------------  ----- \n",
      " 0   patient_id      3 non-null      int64 \n",
      " 1   name            3 non-null      object\n",
      " 2   age             3 non-null      int64 \n",
      " 3   gender          3 non-null      object\n",
      " 4   admission_date  3 non-null      object\n",
      " 5   blood_pressure  3 non-null      int64 \n",
      "dtypes: int64(3), object(3)\n",
      "memory usage: 276.0+ bytes\n"
     ]
    }
   ],
   "execution_count": 44
  },
  {
   "metadata": {
    "ExecuteTime": {
     "end_time": "2025-09-18T15:42:15.172137Z",
     "start_time": "2025-09-18T15:42:15.167675Z"
    }
   },
   "cell_type": "code",
   "source": [
    "# Show first 2 rows\n",
    "patients.head(2)"
   ],
   "id": "d5614871855f9fc1",
   "outputs": [
    {
     "data": {
      "text/plain": [
       "   patient_id  name  age gender admission_date  blood_pressure\n",
       "0           1  Anna   65      F     2024-12-01             120\n",
       "1           2   Ben   42      M     2024-12-15             145"
      ],
      "text/html": [
       "<div>\n",
       "<style scoped>\n",
       "    .dataframe tbody tr th:only-of-type {\n",
       "        vertical-align: middle;\n",
       "    }\n",
       "\n",
       "    .dataframe tbody tr th {\n",
       "        vertical-align: top;\n",
       "    }\n",
       "\n",
       "    .dataframe thead th {\n",
       "        text-align: right;\n",
       "    }\n",
       "</style>\n",
       "<table border=\"1\" class=\"dataframe\">\n",
       "  <thead>\n",
       "    <tr style=\"text-align: right;\">\n",
       "      <th></th>\n",
       "      <th>patient_id</th>\n",
       "      <th>name</th>\n",
       "      <th>age</th>\n",
       "      <th>gender</th>\n",
       "      <th>admission_date</th>\n",
       "      <th>blood_pressure</th>\n",
       "    </tr>\n",
       "  </thead>\n",
       "  <tbody>\n",
       "    <tr>\n",
       "      <th>0</th>\n",
       "      <td>1</td>\n",
       "      <td>Anna</td>\n",
       "      <td>65</td>\n",
       "      <td>F</td>\n",
       "      <td>2024-12-01</td>\n",
       "      <td>120</td>\n",
       "    </tr>\n",
       "    <tr>\n",
       "      <th>1</th>\n",
       "      <td>2</td>\n",
       "      <td>Ben</td>\n",
       "      <td>42</td>\n",
       "      <td>M</td>\n",
       "      <td>2024-12-15</td>\n",
       "      <td>145</td>\n",
       "    </tr>\n",
       "  </tbody>\n",
       "</table>\n",
       "</div>"
      ]
     },
     "execution_count": 45,
     "metadata": {},
     "output_type": "execute_result"
    }
   ],
   "execution_count": 45
  },
  {
   "metadata": {
    "ExecuteTime": {
     "end_time": "2025-09-18T15:42:15.257869Z",
     "start_time": "2025-09-18T15:42:15.251487Z"
    }
   },
   "cell_type": "code",
   "source": [
    "# Show last 2 rows\n",
    "patients.tail(2)"
   ],
   "id": "3be1b77579dae63",
   "outputs": [
    {
     "data": {
      "text/plain": [
       "   patient_id   name  age gender admission_date  blood_pressure\n",
       "1           2    Ben   42      M     2024-12-15             145\n",
       "2           3  Clara   58      F     2024-12-31             130"
      ],
      "text/html": [
       "<div>\n",
       "<style scoped>\n",
       "    .dataframe tbody tr th:only-of-type {\n",
       "        vertical-align: middle;\n",
       "    }\n",
       "\n",
       "    .dataframe tbody tr th {\n",
       "        vertical-align: top;\n",
       "    }\n",
       "\n",
       "    .dataframe thead th {\n",
       "        text-align: right;\n",
       "    }\n",
       "</style>\n",
       "<table border=\"1\" class=\"dataframe\">\n",
       "  <thead>\n",
       "    <tr style=\"text-align: right;\">\n",
       "      <th></th>\n",
       "      <th>patient_id</th>\n",
       "      <th>name</th>\n",
       "      <th>age</th>\n",
       "      <th>gender</th>\n",
       "      <th>admission_date</th>\n",
       "      <th>blood_pressure</th>\n",
       "    </tr>\n",
       "  </thead>\n",
       "  <tbody>\n",
       "    <tr>\n",
       "      <th>1</th>\n",
       "      <td>2</td>\n",
       "      <td>Ben</td>\n",
       "      <td>42</td>\n",
       "      <td>M</td>\n",
       "      <td>2024-12-15</td>\n",
       "      <td>145</td>\n",
       "    </tr>\n",
       "    <tr>\n",
       "      <th>2</th>\n",
       "      <td>3</td>\n",
       "      <td>Clara</td>\n",
       "      <td>58</td>\n",
       "      <td>F</td>\n",
       "      <td>2024-12-31</td>\n",
       "      <td>130</td>\n",
       "    </tr>\n",
       "  </tbody>\n",
       "</table>\n",
       "</div>"
      ]
     },
     "execution_count": 46,
     "metadata": {},
     "output_type": "execute_result"
    }
   ],
   "execution_count": 46
  },
  {
   "metadata": {
    "ExecuteTime": {
     "end_time": "2025-09-18T15:42:15.370632Z",
     "start_time": "2025-09-18T15:42:15.356959Z"
    }
   },
   "cell_type": "code",
   "source": [
    "# Summary statistics\n",
    "patients.describe().transpose()"
   ],
   "id": "cfc339f7dcc2249d",
   "outputs": [
    {
     "data": {
      "text/plain": [
       "                count        mean        std    min    25%    50%    75%  \\\n",
       "patient_id        3.0    2.000000   1.000000    1.0    1.5    2.0    2.5   \n",
       "age               3.0   55.000000  11.789826   42.0   50.0   58.0   61.5   \n",
       "blood_pressure    3.0  131.666667  12.583057  120.0  125.0  130.0  137.5   \n",
       "\n",
       "                  max  \n",
       "patient_id        3.0  \n",
       "age              65.0  \n",
       "blood_pressure  145.0  "
      ],
      "text/html": [
       "<div>\n",
       "<style scoped>\n",
       "    .dataframe tbody tr th:only-of-type {\n",
       "        vertical-align: middle;\n",
       "    }\n",
       "\n",
       "    .dataframe tbody tr th {\n",
       "        vertical-align: top;\n",
       "    }\n",
       "\n",
       "    .dataframe thead th {\n",
       "        text-align: right;\n",
       "    }\n",
       "</style>\n",
       "<table border=\"1\" class=\"dataframe\">\n",
       "  <thead>\n",
       "    <tr style=\"text-align: right;\">\n",
       "      <th></th>\n",
       "      <th>count</th>\n",
       "      <th>mean</th>\n",
       "      <th>std</th>\n",
       "      <th>min</th>\n",
       "      <th>25%</th>\n",
       "      <th>50%</th>\n",
       "      <th>75%</th>\n",
       "      <th>max</th>\n",
       "    </tr>\n",
       "  </thead>\n",
       "  <tbody>\n",
       "    <tr>\n",
       "      <th>patient_id</th>\n",
       "      <td>3.0</td>\n",
       "      <td>2.000000</td>\n",
       "      <td>1.000000</td>\n",
       "      <td>1.0</td>\n",
       "      <td>1.5</td>\n",
       "      <td>2.0</td>\n",
       "      <td>2.5</td>\n",
       "      <td>3.0</td>\n",
       "    </tr>\n",
       "    <tr>\n",
       "      <th>age</th>\n",
       "      <td>3.0</td>\n",
       "      <td>55.000000</td>\n",
       "      <td>11.789826</td>\n",
       "      <td>42.0</td>\n",
       "      <td>50.0</td>\n",
       "      <td>58.0</td>\n",
       "      <td>61.5</td>\n",
       "      <td>65.0</td>\n",
       "    </tr>\n",
       "    <tr>\n",
       "      <th>blood_pressure</th>\n",
       "      <td>3.0</td>\n",
       "      <td>131.666667</td>\n",
       "      <td>12.583057</td>\n",
       "      <td>120.0</td>\n",
       "      <td>125.0</td>\n",
       "      <td>130.0</td>\n",
       "      <td>137.5</td>\n",
       "      <td>145.0</td>\n",
       "    </tr>\n",
       "  </tbody>\n",
       "</table>\n",
       "</div>"
      ]
     },
     "execution_count": 47,
     "metadata": {},
     "output_type": "execute_result"
    }
   ],
   "execution_count": 47
  },
  {
   "metadata": {},
   "cell_type": "markdown",
   "source": "### Selecting Columns and Rows",
   "id": "fad07f1ef217ea97"
  },
  {
   "metadata": {},
   "cell_type": "markdown",
   "source": "You can select columns and rows in different ways.",
   "id": "f2664924a107b7ba"
  },
  {
   "metadata": {
    "ExecuteTime": {
     "end_time": "2025-09-18T15:42:15.505754Z",
     "start_time": "2025-09-18T15:42:15.501547Z"
    }
   },
   "cell_type": "code",
   "source": [
    "### Column names\n",
    "patients.columns"
   ],
   "id": "88a3769f718b818a",
   "outputs": [
    {
     "data": {
      "text/plain": [
       "Index(['patient_id', 'name', 'age', 'gender', 'admission_date',\n",
       "       'blood_pressure'],\n",
       "      dtype='object')"
      ]
     },
     "execution_count": 48,
     "metadata": {},
     "output_type": "execute_result"
    }
   ],
   "execution_count": 48
  },
  {
   "metadata": {
    "ExecuteTime": {
     "end_time": "2025-09-18T15:42:15.643277Z",
     "start_time": "2025-09-18T15:42:15.638547Z"
    }
   },
   "cell_type": "code",
   "source": [
    "### Row index\n",
    "patients.index"
   ],
   "id": "d003ec98e18fbd15",
   "outputs": [
    {
     "data": {
      "text/plain": [
       "RangeIndex(start=0, stop=3, step=1)"
      ]
     },
     "execution_count": 49,
     "metadata": {},
     "output_type": "execute_result"
    }
   ],
   "execution_count": 49
  },
  {
   "metadata": {},
   "cell_type": "markdown",
   "source": [
    "By default, pandas assigns a numeric index (0, 1, 2...).\n",
    "We can also use an existing column (like `patient_id`) as the index.\n"
   ],
   "id": "cfcc80dc43b96a40"
  },
  {
   "metadata": {
    "ExecuteTime": {
     "end_time": "2025-09-18T15:42:15.748221Z",
     "start_time": "2025-09-18T15:42:15.742818Z"
    }
   },
   "cell_type": "code",
   "source": [
    "patients_new = patients.set_index(\"patient_id\")\n",
    "patients_new.head()"
   ],
   "id": "bde586e70d5b20f3",
   "outputs": [
    {
     "data": {
      "text/plain": [
       "             name  age gender admission_date  blood_pressure\n",
       "patient_id                                                  \n",
       "1            Anna   65      F     2024-12-01             120\n",
       "2             Ben   42      M     2024-12-15             145\n",
       "3           Clara   58      F     2024-12-31             130"
      ],
      "text/html": [
       "<div>\n",
       "<style scoped>\n",
       "    .dataframe tbody tr th:only-of-type {\n",
       "        vertical-align: middle;\n",
       "    }\n",
       "\n",
       "    .dataframe tbody tr th {\n",
       "        vertical-align: top;\n",
       "    }\n",
       "\n",
       "    .dataframe thead th {\n",
       "        text-align: right;\n",
       "    }\n",
       "</style>\n",
       "<table border=\"1\" class=\"dataframe\">\n",
       "  <thead>\n",
       "    <tr style=\"text-align: right;\">\n",
       "      <th></th>\n",
       "      <th>name</th>\n",
       "      <th>age</th>\n",
       "      <th>gender</th>\n",
       "      <th>admission_date</th>\n",
       "      <th>blood_pressure</th>\n",
       "    </tr>\n",
       "    <tr>\n",
       "      <th>patient_id</th>\n",
       "      <th></th>\n",
       "      <th></th>\n",
       "      <th></th>\n",
       "      <th></th>\n",
       "      <th></th>\n",
       "    </tr>\n",
       "  </thead>\n",
       "  <tbody>\n",
       "    <tr>\n",
       "      <th>1</th>\n",
       "      <td>Anna</td>\n",
       "      <td>65</td>\n",
       "      <td>F</td>\n",
       "      <td>2024-12-01</td>\n",
       "      <td>120</td>\n",
       "    </tr>\n",
       "    <tr>\n",
       "      <th>2</th>\n",
       "      <td>Ben</td>\n",
       "      <td>42</td>\n",
       "      <td>M</td>\n",
       "      <td>2024-12-15</td>\n",
       "      <td>145</td>\n",
       "    </tr>\n",
       "    <tr>\n",
       "      <th>3</th>\n",
       "      <td>Clara</td>\n",
       "      <td>58</td>\n",
       "      <td>F</td>\n",
       "      <td>2024-12-31</td>\n",
       "      <td>130</td>\n",
       "    </tr>\n",
       "  </tbody>\n",
       "</table>\n",
       "</div>"
      ]
     },
     "execution_count": 50,
     "metadata": {},
     "output_type": "execute_result"
    }
   ],
   "execution_count": 50
  },
  {
   "metadata": {},
   "cell_type": "markdown",
   "source": [
    "### Selecting Columns\n",
    "\n",
    "We can select:\n",
    "- A single column → returns a **Series**\n",
    "- Multiple columns → returns a **DataFrame**"
   ],
   "id": "1c5cc085797121b8"
  },
  {
   "metadata": {
    "ExecuteTime": {
     "end_time": "2025-09-18T15:42:15.806921Z",
     "start_time": "2025-09-18T15:42:15.804077Z"
    }
   },
   "cell_type": "code",
   "source": [
    "# One column\n",
    "patients_new[\"age\"]"
   ],
   "id": "52785749137c3732",
   "outputs": [
    {
     "data": {
      "text/plain": [
       "patient_id\n",
       "1    65\n",
       "2    42\n",
       "3    58\n",
       "Name: age, dtype: int64"
      ]
     },
     "execution_count": 51,
     "metadata": {},
     "output_type": "execute_result"
    }
   ],
   "execution_count": 51
  },
  {
   "metadata": {
    "ExecuteTime": {
     "end_time": "2025-09-18T15:42:15.908677Z",
     "start_time": "2025-09-18T15:42:15.903506Z"
    }
   },
   "cell_type": "code",
   "source": [
    "# Multiple columns\n",
    "patients_new[[\"age\", \"blood_pressure\"]]"
   ],
   "id": "64837ae325492059",
   "outputs": [
    {
     "data": {
      "text/plain": [
       "            age  blood_pressure\n",
       "patient_id                     \n",
       "1            65             120\n",
       "2            42             145\n",
       "3            58             130"
      ],
      "text/html": [
       "<div>\n",
       "<style scoped>\n",
       "    .dataframe tbody tr th:only-of-type {\n",
       "        vertical-align: middle;\n",
       "    }\n",
       "\n",
       "    .dataframe tbody tr th {\n",
       "        vertical-align: top;\n",
       "    }\n",
       "\n",
       "    .dataframe thead th {\n",
       "        text-align: right;\n",
       "    }\n",
       "</style>\n",
       "<table border=\"1\" class=\"dataframe\">\n",
       "  <thead>\n",
       "    <tr style=\"text-align: right;\">\n",
       "      <th></th>\n",
       "      <th>age</th>\n",
       "      <th>blood_pressure</th>\n",
       "    </tr>\n",
       "    <tr>\n",
       "      <th>patient_id</th>\n",
       "      <th></th>\n",
       "      <th></th>\n",
       "    </tr>\n",
       "  </thead>\n",
       "  <tbody>\n",
       "    <tr>\n",
       "      <th>1</th>\n",
       "      <td>65</td>\n",
       "      <td>120</td>\n",
       "    </tr>\n",
       "    <tr>\n",
       "      <th>2</th>\n",
       "      <td>42</td>\n",
       "      <td>145</td>\n",
       "    </tr>\n",
       "    <tr>\n",
       "      <th>3</th>\n",
       "      <td>58</td>\n",
       "      <td>130</td>\n",
       "    </tr>\n",
       "  </tbody>\n",
       "</table>\n",
       "</div>"
      ]
     },
     "execution_count": 52,
     "metadata": {},
     "output_type": "execute_result"
    }
   ],
   "execution_count": 52
  },
  {
   "metadata": {},
   "cell_type": "markdown",
   "source": [
    "### Row Selection (Label-based with loc)\n",
    "\n",
    "With `.loc[]`, we can select rows by their **labels** (patient_id in this case)."
   ],
   "id": "3ac86323e990a3eb"
  },
  {
   "metadata": {
    "ExecuteTime": {
     "end_time": "2025-09-18T15:42:16.023268Z",
     "start_time": "2025-09-18T15:42:16.019576Z"
    }
   },
   "cell_type": "code",
   "source": [
    "# Select patient with ID 1\n",
    "patients_new.loc[1]"
   ],
   "id": "2a5b0e9275a2484a",
   "outputs": [
    {
     "data": {
      "text/plain": [
       "name                    Anna\n",
       "age                       65\n",
       "gender                     F\n",
       "admission_date    2024-12-01\n",
       "blood_pressure           120\n",
       "Name: 1, dtype: object"
      ]
     },
     "execution_count": 53,
     "metadata": {},
     "output_type": "execute_result"
    }
   ],
   "execution_count": 53
  },
  {
   "metadata": {
    "ExecuteTime": {
     "end_time": "2025-09-18T15:42:16.260961Z",
     "start_time": "2025-09-18T15:42:16.252299Z"
    }
   },
   "cell_type": "code",
   "source": [
    "# Select multiple patients\n",
    "patients_new.loc[[1, 3]]"
   ],
   "id": "4891094065a15518",
   "outputs": [
    {
     "data": {
      "text/plain": [
       "             name  age gender admission_date  blood_pressure\n",
       "patient_id                                                  \n",
       "1            Anna   65      F     2024-12-01             120\n",
       "3           Clara   58      F     2024-12-31             130"
      ],
      "text/html": [
       "<div>\n",
       "<style scoped>\n",
       "    .dataframe tbody tr th:only-of-type {\n",
       "        vertical-align: middle;\n",
       "    }\n",
       "\n",
       "    .dataframe tbody tr th {\n",
       "        vertical-align: top;\n",
       "    }\n",
       "\n",
       "    .dataframe thead th {\n",
       "        text-align: right;\n",
       "    }\n",
       "</style>\n",
       "<table border=\"1\" class=\"dataframe\">\n",
       "  <thead>\n",
       "    <tr style=\"text-align: right;\">\n",
       "      <th></th>\n",
       "      <th>name</th>\n",
       "      <th>age</th>\n",
       "      <th>gender</th>\n",
       "      <th>admission_date</th>\n",
       "      <th>blood_pressure</th>\n",
       "    </tr>\n",
       "    <tr>\n",
       "      <th>patient_id</th>\n",
       "      <th></th>\n",
       "      <th></th>\n",
       "      <th></th>\n",
       "      <th></th>\n",
       "      <th></th>\n",
       "    </tr>\n",
       "  </thead>\n",
       "  <tbody>\n",
       "    <tr>\n",
       "      <th>1</th>\n",
       "      <td>Anna</td>\n",
       "      <td>65</td>\n",
       "      <td>F</td>\n",
       "      <td>2024-12-01</td>\n",
       "      <td>120</td>\n",
       "    </tr>\n",
       "    <tr>\n",
       "      <th>3</th>\n",
       "      <td>Clara</td>\n",
       "      <td>58</td>\n",
       "      <td>F</td>\n",
       "      <td>2024-12-31</td>\n",
       "      <td>130</td>\n",
       "    </tr>\n",
       "  </tbody>\n",
       "</table>\n",
       "</div>"
      ]
     },
     "execution_count": 54,
     "metadata": {},
     "output_type": "execute_result"
    }
   ],
   "execution_count": 54
  },
  {
   "metadata": {
    "ExecuteTime": {
     "end_time": "2025-09-18T15:42:16.388094Z",
     "start_time": "2025-09-18T15:42:16.381545Z"
    }
   },
   "cell_type": "code",
   "source": [
    "# Select rows + specific columns\n",
    "patients_new.loc[[1,2], [\"age\", \"blood_pressure\"]]"
   ],
   "id": "22703bee9fdadb55",
   "outputs": [
    {
     "data": {
      "text/plain": [
       "            age  blood_pressure\n",
       "patient_id                     \n",
       "1            65             120\n",
       "2            42             145"
      ],
      "text/html": [
       "<div>\n",
       "<style scoped>\n",
       "    .dataframe tbody tr th:only-of-type {\n",
       "        vertical-align: middle;\n",
       "    }\n",
       "\n",
       "    .dataframe tbody tr th {\n",
       "        vertical-align: top;\n",
       "    }\n",
       "\n",
       "    .dataframe thead th {\n",
       "        text-align: right;\n",
       "    }\n",
       "</style>\n",
       "<table border=\"1\" class=\"dataframe\">\n",
       "  <thead>\n",
       "    <tr style=\"text-align: right;\">\n",
       "      <th></th>\n",
       "      <th>age</th>\n",
       "      <th>blood_pressure</th>\n",
       "    </tr>\n",
       "    <tr>\n",
       "      <th>patient_id</th>\n",
       "      <th></th>\n",
       "      <th></th>\n",
       "    </tr>\n",
       "  </thead>\n",
       "  <tbody>\n",
       "    <tr>\n",
       "      <th>1</th>\n",
       "      <td>65</td>\n",
       "      <td>120</td>\n",
       "    </tr>\n",
       "    <tr>\n",
       "      <th>2</th>\n",
       "      <td>42</td>\n",
       "      <td>145</td>\n",
       "    </tr>\n",
       "  </tbody>\n",
       "</table>\n",
       "</div>"
      ]
     },
     "execution_count": 55,
     "metadata": {},
     "output_type": "execute_result"
    }
   ],
   "execution_count": 55
  },
  {
   "metadata": {},
   "cell_type": "markdown",
   "source": [
    "### Row Selection (Integer-based with iloc)\n",
    "\n",
    "With `.iloc[]`, we select rows and columns by their **integer positions**."
   ],
   "id": "22811e6335aba32"
  },
  {
   "metadata": {
    "ExecuteTime": {
     "end_time": "2025-09-18T15:42:16.520435Z",
     "start_time": "2025-09-18T15:42:16.515841Z"
    }
   },
   "cell_type": "code",
   "source": [
    "# First row (position 0)\n",
    "patients_new.iloc[0]"
   ],
   "id": "fa4c734ae5cbd10c",
   "outputs": [
    {
     "data": {
      "text/plain": [
       "name                    Anna\n",
       "age                       65\n",
       "gender                     F\n",
       "admission_date    2024-12-01\n",
       "blood_pressure           120\n",
       "Name: 1, dtype: object"
      ]
     },
     "execution_count": 56,
     "metadata": {},
     "output_type": "execute_result"
    }
   ],
   "execution_count": 56
  },
  {
   "metadata": {
    "ExecuteTime": {
     "end_time": "2025-09-18T15:42:16.660790Z",
     "start_time": "2025-09-18T15:42:16.655717Z"
    }
   },
   "cell_type": "code",
   "source": [
    "# First and third row, first two columns\n",
    "patients_new.iloc[[0, 2], :2]"
   ],
   "id": "f26986ebe837787e",
   "outputs": [
    {
     "data": {
      "text/plain": [
       "             name  age\n",
       "patient_id            \n",
       "1            Anna   65\n",
       "3           Clara   58"
      ],
      "text/html": [
       "<div>\n",
       "<style scoped>\n",
       "    .dataframe tbody tr th:only-of-type {\n",
       "        vertical-align: middle;\n",
       "    }\n",
       "\n",
       "    .dataframe tbody tr th {\n",
       "        vertical-align: top;\n",
       "    }\n",
       "\n",
       "    .dataframe thead th {\n",
       "        text-align: right;\n",
       "    }\n",
       "</style>\n",
       "<table border=\"1\" class=\"dataframe\">\n",
       "  <thead>\n",
       "    <tr style=\"text-align: right;\">\n",
       "      <th></th>\n",
       "      <th>name</th>\n",
       "      <th>age</th>\n",
       "    </tr>\n",
       "    <tr>\n",
       "      <th>patient_id</th>\n",
       "      <th></th>\n",
       "      <th></th>\n",
       "    </tr>\n",
       "  </thead>\n",
       "  <tbody>\n",
       "    <tr>\n",
       "      <th>1</th>\n",
       "      <td>Anna</td>\n",
       "      <td>65</td>\n",
       "    </tr>\n",
       "    <tr>\n",
       "      <th>3</th>\n",
       "      <td>Clara</td>\n",
       "      <td>58</td>\n",
       "    </tr>\n",
       "  </tbody>\n",
       "</table>\n",
       "</div>"
      ]
     },
     "execution_count": 57,
     "metadata": {},
     "output_type": "execute_result"
    }
   ],
   "execution_count": 57
  },
  {
   "metadata": {},
   "cell_type": "markdown",
   "source": [
    "### Boolean Indexing (Filtering Rows)\n",
    "\n",
    "Boolean indexing allows us to filter rows based on conditions."
   ],
   "id": "42c2248bc074a9ce"
  },
  {
   "metadata": {
    "ExecuteTime": {
     "end_time": "2025-09-18T15:42:16.858660Z",
     "start_time": "2025-09-18T15:42:16.851667Z"
    }
   },
   "cell_type": "code",
   "source": [
    "# All female patients\n",
    "patients_new[patients_new[\"gender\"] == \"F\"]"
   ],
   "id": "dd8d57c5e7f0bde8",
   "outputs": [
    {
     "data": {
      "text/plain": [
       "             name  age gender admission_date  blood_pressure\n",
       "patient_id                                                  \n",
       "1            Anna   65      F     2024-12-01             120\n",
       "3           Clara   58      F     2024-12-31             130"
      ],
      "text/html": [
       "<div>\n",
       "<style scoped>\n",
       "    .dataframe tbody tr th:only-of-type {\n",
       "        vertical-align: middle;\n",
       "    }\n",
       "\n",
       "    .dataframe tbody tr th {\n",
       "        vertical-align: top;\n",
       "    }\n",
       "\n",
       "    .dataframe thead th {\n",
       "        text-align: right;\n",
       "    }\n",
       "</style>\n",
       "<table border=\"1\" class=\"dataframe\">\n",
       "  <thead>\n",
       "    <tr style=\"text-align: right;\">\n",
       "      <th></th>\n",
       "      <th>name</th>\n",
       "      <th>age</th>\n",
       "      <th>gender</th>\n",
       "      <th>admission_date</th>\n",
       "      <th>blood_pressure</th>\n",
       "    </tr>\n",
       "    <tr>\n",
       "      <th>patient_id</th>\n",
       "      <th></th>\n",
       "      <th></th>\n",
       "      <th></th>\n",
       "      <th></th>\n",
       "      <th></th>\n",
       "    </tr>\n",
       "  </thead>\n",
       "  <tbody>\n",
       "    <tr>\n",
       "      <th>1</th>\n",
       "      <td>Anna</td>\n",
       "      <td>65</td>\n",
       "      <td>F</td>\n",
       "      <td>2024-12-01</td>\n",
       "      <td>120</td>\n",
       "    </tr>\n",
       "    <tr>\n",
       "      <th>3</th>\n",
       "      <td>Clara</td>\n",
       "      <td>58</td>\n",
       "      <td>F</td>\n",
       "      <td>2024-12-31</td>\n",
       "      <td>130</td>\n",
       "    </tr>\n",
       "  </tbody>\n",
       "</table>\n",
       "</div>"
      ]
     },
     "execution_count": 58,
     "metadata": {},
     "output_type": "execute_result"
    }
   ],
   "execution_count": 58
  },
  {
   "metadata": {
    "ExecuteTime": {
     "end_time": "2025-09-18T15:42:17.156452Z",
     "start_time": "2025-09-18T15:42:17.147038Z"
    }
   },
   "cell_type": "code",
   "source": [
    "# Patients older than 50\n",
    "patients_new[patients_new[\"age\"] > 50]"
   ],
   "id": "3e2af514a3c572aa",
   "outputs": [
    {
     "data": {
      "text/plain": [
       "             name  age gender admission_date  blood_pressure\n",
       "patient_id                                                  \n",
       "1            Anna   65      F     2024-12-01             120\n",
       "3           Clara   58      F     2024-12-31             130"
      ],
      "text/html": [
       "<div>\n",
       "<style scoped>\n",
       "    .dataframe tbody tr th:only-of-type {\n",
       "        vertical-align: middle;\n",
       "    }\n",
       "\n",
       "    .dataframe tbody tr th {\n",
       "        vertical-align: top;\n",
       "    }\n",
       "\n",
       "    .dataframe thead th {\n",
       "        text-align: right;\n",
       "    }\n",
       "</style>\n",
       "<table border=\"1\" class=\"dataframe\">\n",
       "  <thead>\n",
       "    <tr style=\"text-align: right;\">\n",
       "      <th></th>\n",
       "      <th>name</th>\n",
       "      <th>age</th>\n",
       "      <th>gender</th>\n",
       "      <th>admission_date</th>\n",
       "      <th>blood_pressure</th>\n",
       "    </tr>\n",
       "    <tr>\n",
       "      <th>patient_id</th>\n",
       "      <th></th>\n",
       "      <th></th>\n",
       "      <th></th>\n",
       "      <th></th>\n",
       "      <th></th>\n",
       "    </tr>\n",
       "  </thead>\n",
       "  <tbody>\n",
       "    <tr>\n",
       "      <th>1</th>\n",
       "      <td>Anna</td>\n",
       "      <td>65</td>\n",
       "      <td>F</td>\n",
       "      <td>2024-12-01</td>\n",
       "      <td>120</td>\n",
       "    </tr>\n",
       "    <tr>\n",
       "      <th>3</th>\n",
       "      <td>Clara</td>\n",
       "      <td>58</td>\n",
       "      <td>F</td>\n",
       "      <td>2024-12-31</td>\n",
       "      <td>130</td>\n",
       "    </tr>\n",
       "  </tbody>\n",
       "</table>\n",
       "</div>"
      ]
     },
     "execution_count": 59,
     "metadata": {},
     "output_type": "execute_result"
    }
   ],
   "execution_count": 59
  },
  {
   "metadata": {
    "ExecuteTime": {
     "end_time": "2025-09-18T15:42:17.275816Z",
     "start_time": "2025-09-18T15:42:17.269637Z"
    }
   },
   "cell_type": "code",
   "source": [
    "# Combine conditions: female patients older than 50\n",
    "patients_new[(patients_new[\"gender\"] == \"F\") & (patients_new[\"age\"] > 50)]"
   ],
   "id": "ea7c9d4413126caf",
   "outputs": [
    {
     "data": {
      "text/plain": [
       "             name  age gender admission_date  blood_pressure\n",
       "patient_id                                                  \n",
       "1            Anna   65      F     2024-12-01             120\n",
       "3           Clara   58      F     2024-12-31             130"
      ],
      "text/html": [
       "<div>\n",
       "<style scoped>\n",
       "    .dataframe tbody tr th:only-of-type {\n",
       "        vertical-align: middle;\n",
       "    }\n",
       "\n",
       "    .dataframe tbody tr th {\n",
       "        vertical-align: top;\n",
       "    }\n",
       "\n",
       "    .dataframe thead th {\n",
       "        text-align: right;\n",
       "    }\n",
       "</style>\n",
       "<table border=\"1\" class=\"dataframe\">\n",
       "  <thead>\n",
       "    <tr style=\"text-align: right;\">\n",
       "      <th></th>\n",
       "      <th>name</th>\n",
       "      <th>age</th>\n",
       "      <th>gender</th>\n",
       "      <th>admission_date</th>\n",
       "      <th>blood_pressure</th>\n",
       "    </tr>\n",
       "    <tr>\n",
       "      <th>patient_id</th>\n",
       "      <th></th>\n",
       "      <th></th>\n",
       "      <th></th>\n",
       "      <th></th>\n",
       "      <th></th>\n",
       "    </tr>\n",
       "  </thead>\n",
       "  <tbody>\n",
       "    <tr>\n",
       "      <th>1</th>\n",
       "      <td>Anna</td>\n",
       "      <td>65</td>\n",
       "      <td>F</td>\n",
       "      <td>2024-12-01</td>\n",
       "      <td>120</td>\n",
       "    </tr>\n",
       "    <tr>\n",
       "      <th>3</th>\n",
       "      <td>Clara</td>\n",
       "      <td>58</td>\n",
       "      <td>F</td>\n",
       "      <td>2024-12-31</td>\n",
       "      <td>130</td>\n",
       "    </tr>\n",
       "  </tbody>\n",
       "</table>\n",
       "</div>"
      ]
     },
     "execution_count": 60,
     "metadata": {},
     "output_type": "execute_result"
    }
   ],
   "execution_count": 60
  },
  {
   "metadata": {},
   "cell_type": "markdown",
   "source": [
    "## Exercise\n",
    "\n",
    "1. Select all patients older than 50.\n",
    "2. Show only the `name` and `blood_pressure` columns for patients with blood pressure > 130.\n",
    "3. Use `.iloc` to return the **first two rows** and the **last two columns**."
   ],
   "id": "466d9bcf20efd5aa"
  },
  {
   "metadata": {},
   "cell_type": "code",
   "outputs": [],
   "execution_count": null,
   "source": "",
   "id": "56c5b5b4aec2ba0"
  }
 ],
 "metadata": {
  "kernelspec": {
   "display_name": "Python 3",
   "language": "python",
   "name": "python3"
  },
  "language_info": {
   "codemirror_mode": {
    "name": "ipython",
    "version": 2
   },
   "file_extension": ".py",
   "mimetype": "text/x-python",
   "name": "python",
   "nbconvert_exporter": "python",
   "pygments_lexer": "ipython2",
   "version": "2.7.6"
  }
 },
 "nbformat": 4,
 "nbformat_minor": 5
}
