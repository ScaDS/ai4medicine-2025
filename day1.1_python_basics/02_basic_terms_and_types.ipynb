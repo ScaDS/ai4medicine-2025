{
 "cells": [
  {
   "cell_type": "markdown",
   "id": "1f169c42c06f00db",
   "metadata": {},
   "source": [
    "# Basics terms and types for Python\n",
    "For clarification and later use, let's first define some terms again and explain the basic data types for the Python programming language.\n",
    "\n",
    "## Terms\n",
    "* **Variables** are containers for storing data in memory. They have a _name_ we can refer to and a _value_ which is assigned via `=`, e.g. `x = 5`.\n",
    "* **Objects** are more complex variables, which bundle data and methods to operate on the data. In Python, everything is an object.\n",
    "* **Methods** are blocks of code tied to an object (\"**m**ethod is **m**ine\") and used to perform operations on the objects' data. They are used via dot-annotation, e.g., `object.method()`.\n",
    "* **Functions** are blocks of reusable code to perform specific tasks and which are independent (\"**f**unction is **f**ree\").\n",
    "* **Modules** are files containing Python code (with, e.g., objects, functions) providing additional functionalities. They can be imported into other Python code.\n",
    "\n",
    "See also\n",
    "* [Built-in types in Python](https://docs.python.org/3/library/stdtypes.html)\n",
    "* [Basic types in Python](https://realpython.com/python-data-types/)\n",
    "* [Built-in functions in Python](https://docs.python.org/3/library/functions.html#built-in-functions)"
   ]
  },
  {
   "cell_type": "markdown",
   "id": "a744db8d84f1c432",
   "metadata": {},
   "source": [
    "## Basic types\n",
    "Variables (which are objects) in Python can hold different types of data - such as boolean values, numbers, text or more complex things.\n",
    "\n",
    "To check the type and content of such a variable, we can use the built-in functions [`type()`](https://docs.python.org/3/library/functions.html#type) and [`print()`](https://docs.python.org/3/library/functions.html#print)."
   ]
  },
  {
   "cell_type": "markdown",
   "id": "9ccda9e7dd2f3134",
   "metadata": {},
   "source": [
    "### Booleans\n"
   ]
  },
  {
   "cell_type": "code",
   "execution_count": 1,
   "id": "a96dad438a443d80",
   "metadata": {
    "ExecuteTime": {
     "end_time": "2024-04-11T10:41:15.740031Z",
     "start_time": "2024-04-11T10:41:15.735671Z"
    }
   },
   "outputs": [],
   "source": [
    "t = True"
   ]
  },
  {
   "cell_type": "code",
   "execution_count": 2,
   "id": "f2a139c08f5318b1",
   "metadata": {
    "ExecuteTime": {
     "end_time": "2024-04-11T10:41:15.792512Z",
     "start_time": "2024-04-11T10:41:15.788806Z"
    }
   },
   "outputs": [
    {
     "data": {
      "text/plain": [
       "bool"
      ]
     },
     "execution_count": 2,
     "metadata": {},
     "output_type": "execute_result"
    }
   ],
   "source": [
    "type(t)"
   ]
  },
  {
   "cell_type": "code",
   "execution_count": 3,
   "id": "337929eb456d13b",
   "metadata": {
    "ExecuteTime": {
     "end_time": "2024-04-11T10:41:15.802661Z",
     "start_time": "2024-04-11T10:41:15.800885Z"
    }
   },
   "outputs": [],
   "source": [
    "tf = True & False"
   ]
  },
  {
   "cell_type": "code",
   "execution_count": 4,
   "id": "cb836d088a582a0f",
   "metadata": {
    "ExecuteTime": {
     "end_time": "2024-04-11T10:41:15.806345Z",
     "start_time": "2024-04-11T10:41:15.804393Z"
    }
   },
   "outputs": [
    {
     "data": {
      "text/plain": [
       "bool"
      ]
     },
     "execution_count": 4,
     "metadata": {},
     "output_type": "execute_result"
    }
   ],
   "source": [
    "type(tf)"
   ]
  },
  {
   "cell_type": "code",
   "execution_count": 5,
   "id": "9bf6c71b4353b1e1",
   "metadata": {
    "ExecuteTime": {
     "end_time": "2024-04-11T10:41:15.817155Z",
     "start_time": "2024-04-11T10:41:15.815446Z"
    }
   },
   "outputs": [
    {
     "name": "stdout",
     "output_type": "stream",
     "text": [
      "False\n"
     ]
    }
   ],
   "source": [
    "print(tf)"
   ]
  },
  {
   "cell_type": "markdown",
   "id": "6cdd51cc4d3e292f",
   "metadata": {},
   "source": [
    "### Numbers\n",
    "This is an integer number:"
   ]
  },
  {
   "cell_type": "code",
   "execution_count": 6,
   "id": "2709671632b59b12",
   "metadata": {
    "ExecuteTime": {
     "end_time": "2024-04-11T10:41:15.852057Z",
     "start_time": "2024-04-11T10:41:15.850294Z"
    }
   },
   "outputs": [],
   "source": [
    "a = 5"
   ]
  },
  {
   "cell_type": "code",
   "execution_count": 7,
   "id": "95afd2dccd7c815",
   "metadata": {
    "ExecuteTime": {
     "end_time": "2024-04-11T10:41:15.855759Z",
     "start_time": "2024-04-11T10:41:15.853703Z"
    }
   },
   "outputs": [
    {
     "data": {
      "text/plain": [
       "int"
      ]
     },
     "execution_count": 7,
     "metadata": {},
     "output_type": "execute_result"
    }
   ],
   "source": [
    "type(a)"
   ]
  },
  {
   "cell_type": "markdown",
   "id": "b282af07f9da876f",
   "metadata": {},
   "source": [
    "This is a floating point number:"
   ]
  },
  {
   "cell_type": "code",
   "execution_count": 8,
   "id": "d40c4acf667b6ff0",
   "metadata": {
    "ExecuteTime": {
     "end_time": "2024-04-11T10:41:15.865524Z",
     "start_time": "2024-04-11T10:41:15.864028Z"
    }
   },
   "outputs": [],
   "source": [
    "b = 3.5"
   ]
  },
  {
   "cell_type": "code",
   "execution_count": 9,
   "id": "596aae2127a4bf79",
   "metadata": {
    "ExecuteTime": {
     "end_time": "2024-04-11T10:41:15.869331Z",
     "start_time": "2024-04-11T10:41:15.867484Z"
    }
   },
   "outputs": [
    {
     "data": {
      "text/plain": [
       "float"
      ]
     },
     "execution_count": 9,
     "metadata": {},
     "output_type": "execute_result"
    }
   ],
   "source": [
    "type(b)"
   ]
  },
  {
   "cell_type": "markdown",
   "id": "641999b4579ccd25",
   "metadata": {},
   "source": [
    "When combining variables of different types, Python makes a decision which type the new variable should have"
   ]
  },
  {
   "cell_type": "code",
   "execution_count": 10,
   "id": "b7adfa829cd65c7e",
   "metadata": {
    "ExecuteTime": {
     "end_time": "2024-04-11T10:41:15.876905Z",
     "start_time": "2024-04-11T10:41:15.875503Z"
    }
   },
   "outputs": [],
   "source": [
    "c = a + b"
   ]
  },
  {
   "cell_type": "code",
   "execution_count": 11,
   "id": "9b0ca2531b8bf0a0",
   "metadata": {
    "ExecuteTime": {
     "end_time": "2024-04-11T10:41:15.904226Z",
     "start_time": "2024-04-11T10:41:15.901944Z"
    }
   },
   "outputs": [
    {
     "data": {
      "text/plain": [
       "float"
      ]
     },
     "execution_count": 11,
     "metadata": {},
     "output_type": "execute_result"
    }
   ],
   "source": [
    "type(c)"
   ]
  },
  {
   "cell_type": "code",
   "execution_count": 12,
   "id": "b5da621e32f9c696",
   "metadata": {
    "ExecuteTime": {
     "end_time": "2024-04-11T10:41:15.911477Z",
     "start_time": "2024-04-11T10:41:15.909916Z"
    }
   },
   "outputs": [
    {
     "name": "stdout",
     "output_type": "stream",
     "text": [
      "8.5\n"
     ]
    }
   ],
   "source": [
    "print(c)"
   ]
  },
  {
   "cell_type": "markdown",
   "id": "4258ecb663bd7000",
   "metadata": {},
   "source": [
    "### Text\n",
    "Variables can also hold text which internally is stored as a so-called sequence.\n",
    "\n",
    "We call them a \"string\" in this case, and define them by surrounding the value with either single quotes ' ' or double quotes \" \"."
   ]
  },
  {
   "cell_type": "code",
   "execution_count": 13,
   "id": "df483439d95f344c",
   "metadata": {
    "ExecuteTime": {
     "end_time": "2024-04-11T10:41:15.914505Z",
     "start_time": "2024-04-11T10:41:15.912975Z"
    }
   },
   "outputs": [],
   "source": [
    "first_name = \"Matthias\"\n",
    "last_name = 'Täschner'"
   ]
  },
  {
   "cell_type": "code",
   "execution_count": 14,
   "id": "353bb115e089a729",
   "metadata": {
    "ExecuteTime": {
     "end_time": "2024-04-11T10:41:15.918028Z",
     "start_time": "2024-04-11T10:41:15.916106Z"
    }
   },
   "outputs": [
    {
     "data": {
      "text/plain": [
       "str"
      ]
     },
     "execution_count": 14,
     "metadata": {},
     "output_type": "execute_result"
    }
   ],
   "source": [
    "type(first_name)"
   ]
  },
  {
   "cell_type": "markdown",
   "id": "64f9caf35f6d0bf7",
   "metadata": {},
   "source": [
    "We can work with string in various ways. One is to concatenate them with the `+` operator:"
   ]
  },
  {
   "cell_type": "code",
   "execution_count": 15,
   "id": "a49b44684b5b9839",
   "metadata": {
    "ExecuteTime": {
     "end_time": "2024-04-11T10:41:15.921522Z",
     "start_time": "2024-04-11T10:41:15.919578Z"
    }
   },
   "outputs": [
    {
     "data": {
      "text/plain": [
       "'Matthias Täschner'"
      ]
     },
     "execution_count": 15,
     "metadata": {},
     "output_type": "execute_result"
    }
   ],
   "source": [
    "first_name + \" \" + last_name"
   ]
  },
  {
   "cell_type": "markdown",
   "id": "2ae306dd67942128",
   "metadata": {},
   "source": [
    "If we want to have single and double quotation marks within our text, we can put them in like this:"
   ]
  },
  {
   "cell_type": "code",
   "execution_count": 16,
   "id": "860afe5e71e29cec",
   "metadata": {
    "ExecuteTime": {
     "end_time": "2024-04-11T10:41:15.928210Z",
     "start_time": "2024-04-11T10:41:15.926473Z"
    }
   },
   "outputs": [
    {
     "name": "stdout",
     "output_type": "stream",
     "text": [
      "She said 'Hi'.\n"
     ]
    }
   ],
   "source": [
    "text = \"She said 'Hi'.\"\n",
    "print(text)"
   ]
  },
  {
   "cell_type": "code",
   "execution_count": 17,
   "id": "9c488d8744b55a3e",
   "metadata": {
    "ExecuteTime": {
     "end_time": "2024-04-11T10:41:15.970358Z",
     "start_time": "2024-04-11T10:41:15.968416Z"
    }
   },
   "outputs": [
    {
     "name": "stdout",
     "output_type": "stream",
     "text": [
      "She said \"How are you?\".\n"
     ]
    }
   ],
   "source": [
    "text = 'She said \"How are you?\".'\n",
    "print(text)"
   ]
  },
  {
   "cell_type": "markdown",
   "id": "62b30cabe05cadf7",
   "metadata": {},
   "source": [
    "### Combining different data types"
   ]
  },
  {
   "cell_type": "markdown",
   "id": "ba68f66cecb81b06",
   "metadata": {},
   "source": [
    "What happens if we want to combine strings and numbers?"
   ]
  },
  {
   "cell_type": "code",
   "execution_count": 18,
   "id": "d2d39603aa6a1172",
   "metadata": {
    "ExecuteTime": {
     "end_time": "2024-04-11T10:41:16.090060Z",
     "start_time": "2024-04-11T10:41:15.977638Z"
    }
   },
   "outputs": [
    {
     "ename": "TypeError",
     "evalue": "can only concatenate str (not \"int\") to str",
     "output_type": "error",
     "traceback": [
      "\u001b[31m---------------------------------------------------------------------------\u001b[39m",
      "\u001b[31mTypeError\u001b[39m                                 Traceback (most recent call last)",
      "\u001b[36mCell\u001b[39m\u001b[36m \u001b[39m\u001b[32mIn[18]\u001b[39m\u001b[32m, line 1\u001b[39m\n\u001b[32m----> \u001b[39m\u001b[32m1\u001b[39m \u001b[43mfirst_name\u001b[49m\u001b[43m \u001b[49m\u001b[43m+\u001b[49m\u001b[43m \u001b[49m\u001b[43ma\u001b[49m\n",
      "\u001b[31mTypeError\u001b[39m: can only concatenate str (not \"int\") to str"
     ]
    }
   ],
   "source": [
    "first_name + a"
   ]
  },
  {
   "cell_type": "markdown",
   "id": "3c6bd2703d05e3ba",
   "metadata": {},
   "source": [
    "For this, a type conversion from numeric to string is necessary, which can be done via the `str()` function:"
   ]
  },
  {
   "cell_type": "code",
   "execution_count": 19,
   "id": "a667efcdec7058b5",
   "metadata": {
    "ExecuteTime": {
     "end_time": "2024-04-11T10:41:21.478641Z",
     "start_time": "2024-04-11T10:41:21.475318Z"
    }
   },
   "outputs": [
    {
     "data": {
      "text/plain": [
       "'Matthias5'"
      ]
     },
     "execution_count": 19,
     "metadata": {},
     "output_type": "execute_result"
    }
   ],
   "source": [
    "first_name + str(a)"
   ]
  },
  {
   "cell_type": "markdown",
   "id": "b9dcfb8e9967b592",
   "metadata": {},
   "source": [
    "We can also convert strings to numbers in case they contain numbers only:"
   ]
  },
  {
   "cell_type": "code",
   "execution_count": 20,
   "id": "f56b4816d79425af",
   "metadata": {
    "ExecuteTime": {
     "end_time": "2024-04-11T10:41:22.175696Z",
     "start_time": "2024-04-11T10:41:22.173972Z"
    }
   },
   "outputs": [],
   "source": [
    "d = \"25\""
   ]
  },
  {
   "cell_type": "code",
   "execution_count": 21,
   "id": "d7cc90399018f7c2",
   "metadata": {
    "ExecuteTime": {
     "end_time": "2024-04-11T10:41:22.537838Z",
     "start_time": "2024-04-11T10:41:22.535231Z"
    }
   },
   "outputs": [
    {
     "data": {
      "text/plain": [
       "25"
      ]
     },
     "execution_count": 21,
     "metadata": {},
     "output_type": "execute_result"
    }
   ],
   "source": [
    "int(d)"
   ]
  },
  {
   "cell_type": "code",
   "execution_count": 22,
   "id": "44006d05225cbd47",
   "metadata": {
    "ExecuteTime": {
     "end_time": "2024-04-11T10:41:22.946540Z",
     "start_time": "2024-04-11T10:41:22.943641Z"
    }
   },
   "outputs": [
    {
     "data": {
      "text/plain": [
       "30"
      ]
     },
     "execution_count": 22,
     "metadata": {},
     "output_type": "execute_result"
    }
   ],
   "source": [
    "a + int(d)"
   ]
  },
  {
   "cell_type": "markdown",
   "id": "1eb47f80fdbdb427",
   "metadata": {},
   "source": [
    "If the string contains non-numerical characters, an error message is shown:"
   ]
  },
  {
   "cell_type": "code",
   "execution_count": 23,
   "id": "9a5156429cdc2715",
   "metadata": {
    "ExecuteTime": {
     "end_time": "2024-04-11T10:41:23.700175Z",
     "start_time": "2024-04-11T10:41:23.689215Z"
    }
   },
   "outputs": [
    {
     "ename": "ValueError",
     "evalue": "invalid literal for int() with base 10: 'hello1'",
     "output_type": "error",
     "traceback": [
      "\u001b[31m---------------------------------------------------------------------------\u001b[39m",
      "\u001b[31mValueError\u001b[39m                                Traceback (most recent call last)",
      "\u001b[36mCell\u001b[39m\u001b[36m \u001b[39m\u001b[32mIn[23]\u001b[39m\u001b[32m, line 1\u001b[39m\n\u001b[32m----> \u001b[39m\u001b[32m1\u001b[39m \u001b[38;5;28;43mint\u001b[39;49m\u001b[43m(\u001b[49m\u001b[33;43m\"\u001b[39;49m\u001b[33;43mhello1\u001b[39;49m\u001b[33;43m\"\u001b[39;49m\u001b[43m)\u001b[49m\n",
      "\u001b[31mValueError\u001b[39m: invalid literal for int() with base 10: 'hello1'"
     ]
    }
   ],
   "source": [
    "int(\"hello1\")"
   ]
  },
  {
   "cell_type": "markdown",
   "id": "f2a5a69f0a6c8517",
   "metadata": {},
   "source": [
    "**What happens if we combine the other types? Give it a try...**"
   ]
  },
  {
   "cell_type": "code",
   "execution_count": null,
   "id": "f57c473434d08892",
   "metadata": {
    "ExecuteTime": {
     "end_time": "2024-04-11T10:41:24.771580Z",
     "start_time": "2024-04-11T10:41:24.769157Z"
    }
   },
   "outputs": [],
   "source": []
  },
  {
   "cell_type": "markdown",
   "id": "24cb84a75c0f1076",
   "metadata": {},
   "source": [
    "### f-strings\n",
    "\n",
    "Instead of having to manually convert numbers to strings to assemble them with other strings, we can resort to f-strings ([formatted string literals](https://docs.python.org/3/tutorial/inputoutput.html#tut-f-strings)) which are defined by simply adding an f before the opening quote of a regular string:"
   ]
  },
  {
   "cell_type": "code",
   "execution_count": 24,
   "id": "2fcf9d213bfbee3b",
   "metadata": {
    "ExecuteTime": {
     "end_time": "2024-04-11T10:41:25.359279Z",
     "start_time": "2024-04-11T10:41:25.355736Z"
    }
   },
   "outputs": [
    {
     "data": {
      "text/plain": [
       "'This is an f-string'"
      ]
     },
     "execution_count": 24,
     "metadata": {},
     "output_type": "execute_result"
    }
   ],
   "source": [
    "f\"This is an f-string\""
   ]
  },
  {
   "cell_type": "markdown",
   "id": "b2f12be0be38844b",
   "metadata": {},
   "source": [
    "We can now add variables directly in this text by surrounding them with curly brackets:"
   ]
  },
  {
   "cell_type": "code",
   "execution_count": 25,
   "id": "40289bf93f9691ab",
   "metadata": {
    "ExecuteTime": {
     "end_time": "2024-04-11T10:41:26.202468Z",
     "start_time": "2024-04-11T10:41:26.200088Z"
    }
   },
   "outputs": [
    {
     "data": {
      "text/plain": [
       "\"a's value is 5. Doubling the value of a gives 10.\""
      ]
     },
     "execution_count": 25,
     "metadata": {},
     "output_type": "execute_result"
    }
   ],
   "source": [
    "f\"a's value is {a}. Doubling the value of a gives {2*a}.\""
   ]
  },
  {
   "cell_type": "markdown",
   "id": "b954a0163c037be8",
   "metadata": {},
   "source": [
    "As you can see above, f-strings can contain as many variables as needed, and curly brackets can contain more than just a variable.  \n",
    "We can even execute code inside them, i.e., methods on string objects:"
   ]
  },
  {
   "cell_type": "code",
   "execution_count": 26,
   "id": "e09341f85ba92d02",
   "metadata": {
    "ExecuteTime": {
     "end_time": "2024-04-11T10:41:27.235117Z",
     "start_time": "2024-04-11T10:41:27.232627Z"
    }
   },
   "outputs": [
    {
     "data": {
      "text/plain": [
       "\"The first_name variable 'Matthias' contains 2 t letters.\""
      ]
     },
     "execution_count": 26,
     "metadata": {},
     "output_type": "execute_result"
    }
   ],
   "source": [
    "f\"The first_name variable '{first_name}' contains {first_name.lower().count('t')} t letters.\""
   ]
  },
  {
   "cell_type": "markdown",
   "id": "90ed4bd756c2f8b4",
   "metadata": {},
   "source": [
    "## Exercise\n",
    "\n",
    "[Marie Curie](https://en.wikipedia.org/wiki/Marie_Curie)'s name and birthdate are stored in variables. Concatenate them in one string variable and print it out. The output should be \"Marie Curie, * 7 November 1867\""
   ]
  },
  {
   "cell_type": "code",
   "execution_count": null,
   "id": "8ed54ae05d8642",
   "metadata": {
    "ExecuteTime": {
     "end_time": "2024-04-11T10:41:29.235866Z",
     "start_time": "2024-04-11T10:41:29.232561Z"
    }
   },
   "outputs": [],
   "source": [
    "first_name = \"Marie\"\n",
    "last_name = \"Curie\"\n",
    "\n",
    "birthday_day = 7\n",
    "birthday_month = \"November\"\n",
    "birthday_year = 1867"
   ]
  }
 ],
 "metadata": {
  "kernelspec": {
   "display_name": "Python 3 (ipykernel)",
   "language": "python",
   "name": "python3"
  },
  "language_info": {
   "codemirror_mode": {
    "name": "ipython",
    "version": 3
   },
   "file_extension": ".py",
   "mimetype": "text/x-python",
   "name": "python",
   "nbconvert_exporter": "python",
   "pygments_lexer": "ipython3",
   "version": "3.12.11"
  }
 },
 "nbformat": 4,
 "nbformat_minor": 5
}
