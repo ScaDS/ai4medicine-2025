{
 "cells": [
  {
   "cell_type": "markdown",
   "id": "6421d04c5816bbbb",
   "metadata": {},
   "source": [
    "# Dictionaries\n",
    "Dictionaries are data structures that hold key-value pairs, written as `key:value`.\n",
    "\n",
    "See also\n",
    "* [Python docs for dict](https://docs.python.org/3/library/stdtypes.html#mapping-types-dict)\n",
    "* [Dictionaries in Python](https://www.w3schools.com/python/python_dictionaries.asp)\n",
    "* [Dictionary keys as list](https://stackoverflow.com/questions/16819222/how-do-i-return-dictionary-keys-as-a-list-in-python)\n",
    "\n",
    "You can define a dictionary like this:"
   ]
  },
  {
   "cell_type": "code",
   "execution_count": 1,
   "id": "8dfd7c6cbec0ca4a",
   "metadata": {
    "ExecuteTime": {
     "end_time": "2024-04-11T10:43:31.846440Z",
     "start_time": "2024-04-11T10:43:31.842364Z"
    }
   },
   "outputs": [],
   "source": [
    "german_english_dictionary = {'Vorlesung':'Lecture', 'Gleichung':'Equation'}"
   ]
  },
  {
   "cell_type": "markdown",
   "id": "33508ecc29691724",
   "metadata": {},
   "source": [
    "For readability reasons, consider writing it like this:"
   ]
  },
  {
   "cell_type": "code",
   "execution_count": 2,
   "id": "727f5ce3f4a344f4",
   "metadata": {
    "ExecuteTime": {
     "end_time": "2024-04-11T10:43:31.849021Z",
     "start_time": "2024-04-11T10:43:31.847552Z"
    }
   },
   "outputs": [],
   "source": [
    "german_english_dictionary = {\n",
    "    'Vorlesung':'Lecture', \n",
    "    'Gleichung':'Equation'\n",
    "}"
   ]
  },
  {
   "cell_type": "code",
   "execution_count": 3,
   "id": "a2af201b31adeb06",
   "metadata": {
    "ExecuteTime": {
     "end_time": "2024-04-11T10:43:31.852810Z",
     "start_time": "2024-04-11T10:43:31.849597Z"
    }
   },
   "outputs": [
    {
     "data": {
      "text/plain": [
       "{'Vorlesung': 'Lecture', 'Gleichung': 'Equation'}"
      ]
     },
     "execution_count": 3,
     "metadata": {},
     "output_type": "execute_result"
    }
   ],
   "source": [
    "german_english_dictionary"
   ]
  },
  {
   "cell_type": "markdown",
   "id": "2100be6f9bac42f2",
   "metadata": {},
   "source": [
    "If you want to access a given entry in the dictionary, you can address it using square brackets `[]` and the key:"
   ]
  },
  {
   "cell_type": "code",
   "execution_count": 4,
   "id": "b7b8ddb2f3ca3dfa",
   "metadata": {
    "ExecuteTime": {
     "end_time": "2024-04-11T10:43:31.855488Z",
     "start_time": "2024-04-11T10:43:31.853585Z"
    }
   },
   "outputs": [
    {
     "data": {
      "text/plain": [
       "'Lecture'"
      ]
     },
     "execution_count": 4,
     "metadata": {},
     "output_type": "execute_result"
    }
   ],
   "source": [
    "german_english_dictionary['Vorlesung']"
   ]
  },
  {
   "cell_type": "markdown",
   "id": "85992541fe98d800",
   "metadata": {},
   "source": [
    "You can add elements to the dictionary:"
   ]
  },
  {
   "cell_type": "code",
   "execution_count": 5,
   "id": "507d2327d4ddc90e",
   "metadata": {
    "ExecuteTime": {
     "end_time": "2024-04-11T10:43:31.858472Z",
     "start_time": "2024-04-11T10:43:31.856910Z"
    }
   },
   "outputs": [],
   "source": [
    "german_english_dictionary['Tag'] = 'Day'"
   ]
  },
  {
   "cell_type": "code",
   "execution_count": 6,
   "id": "3c2d6791c531ff2a",
   "metadata": {
    "ExecuteTime": {
     "end_time": "2024-04-11T10:43:31.861342Z",
     "start_time": "2024-04-11T10:43:31.859074Z"
    }
   },
   "outputs": [
    {
     "data": {
      "text/plain": [
       "{'Vorlesung': 'Lecture', 'Gleichung': 'Equation', 'Tag': 'Day'}"
      ]
     },
     "execution_count": 6,
     "metadata": {},
     "output_type": "execute_result"
    }
   ],
   "source": [
    "german_english_dictionary"
   ]
  },
  {
   "cell_type": "markdown",
   "id": "b48782373eab3750",
   "metadata": {},
   "source": [
    "You can retrieve all keys from the dictionary as a list:"
   ]
  },
  {
   "cell_type": "code",
   "execution_count": 7,
   "id": "b2e999987fcb9067",
   "metadata": {
    "ExecuteTime": {
     "end_time": "2024-04-11T10:43:31.868610Z",
     "start_time": "2024-04-11T10:43:31.867127Z"
    }
   },
   "outputs": [],
   "source": [
    "keys = list(german_english_dictionary.keys())"
   ]
  },
  {
   "cell_type": "code",
   "execution_count": 8,
   "id": "fc01c143f91f73da",
   "metadata": {
    "ExecuteTime": {
     "end_time": "2024-04-11T10:43:31.871082Z",
     "start_time": "2024-04-11T10:43:31.869046Z"
    }
   },
   "outputs": [
    {
     "data": {
      "text/plain": [
       "['Vorlesung', 'Gleichung', 'Tag']"
      ]
     },
     "execution_count": 8,
     "metadata": {},
     "output_type": "execute_result"
    }
   ],
   "source": [
    "keys"
   ]
  },
  {
   "cell_type": "code",
   "execution_count": 9,
   "id": "c46f8cdcb8963de",
   "metadata": {
    "ExecuteTime": {
     "end_time": "2024-04-11T10:43:31.873379Z",
     "start_time": "2024-04-11T10:43:31.871644Z"
    }
   },
   "outputs": [
    {
     "data": {
      "text/plain": [
       "'Gleichung'"
      ]
     },
     "execution_count": 9,
     "metadata": {},
     "output_type": "execute_result"
    }
   ],
   "source": [
    "keys[1]"
   ]
  },
  {
   "cell_type": "markdown",
   "id": "e86e6dbfa277ba7e",
   "metadata": {},
   "source": [
    "You can retrieve all values from the dictionary as a list:"
   ]
  },
  {
   "cell_type": "code",
   "execution_count": 10,
   "id": "1a6c5c627cf6a4a3",
   "metadata": {
    "ExecuteTime": {
     "end_time": "2024-04-11T10:43:31.875140Z",
     "start_time": "2024-04-11T10:43:31.873908Z"
    }
   },
   "outputs": [],
   "source": [
    "values = list(german_english_dictionary.values())"
   ]
  },
  {
   "cell_type": "code",
   "execution_count": 11,
   "id": "45fe7f017a351d4e",
   "metadata": {
    "ExecuteTime": {
     "end_time": "2024-04-11T10:43:31.877505Z",
     "start_time": "2024-04-11T10:43:31.875722Z"
    }
   },
   "outputs": [
    {
     "data": {
      "text/plain": [
       "['Lecture', 'Equation', 'Day']"
      ]
     },
     "execution_count": 11,
     "metadata": {},
     "output_type": "execute_result"
    }
   ],
   "source": [
    "values"
   ]
  },
  {
   "cell_type": "markdown",
   "id": "517f6deb6e860436",
   "metadata": {},
   "source": [
    "# Tables\n",
    "We can use dictionaries to build table-like structures. Here, the value of a `key:value` pair is not a single value but a list of values, i.e., a column."
   ]
  },
  {
   "cell_type": "code",
   "execution_count": 12,
   "id": "e07a5480bcf6003c",
   "metadata": {
    "ExecuteTime": {
     "end_time": "2024-04-11T10:43:31.881482Z",
     "start_time": "2024-04-11T10:43:31.879669Z"
    }
   },
   "outputs": [],
   "source": [
    "measurements_week = {\n",
    "    'Monday':   [2.3, 3.1, 5.6],\n",
    "    'Tuesday':  [1.8, 7.0, 4.3],\n",
    "    'Wednesday':[4.5, 1.5, 3.2],\n",
    "    'Thursday': [1.9, 2.0, 6.4],\n",
    "    'Friday':   [4.4, 2.3, 5.4]\n",
    "}"
   ]
  },
  {
   "cell_type": "code",
   "execution_count": 13,
   "id": "c2d783c97852436",
   "metadata": {
    "ExecuteTime": {
     "end_time": "2024-04-11T10:43:31.883911Z",
     "start_time": "2024-04-11T10:43:31.882069Z"
    }
   },
   "outputs": [
    {
     "data": {
      "text/plain": [
       "{'Monday': [2.3, 3.1, 5.6],\n",
       " 'Tuesday': [1.8, 7.0, 4.3],\n",
       " 'Wednesday': [4.5, 1.5, 3.2],\n",
       " 'Thursday': [1.9, 2.0, 6.4],\n",
       " 'Friday': [4.4, 2.3, 5.4]}"
      ]
     },
     "execution_count": 13,
     "metadata": {},
     "output_type": "execute_result"
    }
   ],
   "source": [
    "measurements_week"
   ]
  },
  {
   "cell_type": "code",
   "execution_count": 14,
   "id": "1add8ca8396c4f93",
   "metadata": {
    "ExecuteTime": {
     "end_time": "2024-04-11T10:43:31.886368Z",
     "start_time": "2024-04-11T10:43:31.884401Z"
    }
   },
   "outputs": [
    {
     "data": {
      "text/plain": [
       "[2.3, 3.1, 5.6]"
      ]
     },
     "execution_count": 14,
     "metadata": {},
     "output_type": "execute_result"
    }
   ],
   "source": [
    "measurements_week['Monday']"
   ]
  },
  {
   "cell_type": "markdown",
   "id": "402386f3592f09ac",
   "metadata": {},
   "source": [
    "We can also store variables in such tables:"
   ]
  },
  {
   "cell_type": "code",
   "execution_count": 15,
   "id": "6cc9e6778ad5f8fe",
   "metadata": {
    "ExecuteTime": {
     "end_time": "2024-04-11T10:43:31.889102Z",
     "start_time": "2024-04-11T10:43:31.887111Z"
    }
   },
   "outputs": [],
   "source": [
    "w1 = 5\n",
    "h1 = 3\n",
    "area1 = w1 * h1\n",
    "\n",
    "w2 = 2\n",
    "h2 = 4\n",
    "area2 = w2 * h2\n",
    "\n",
    "rectangles = {\n",
    "    \"width\": [w1, w2],\n",
    "    \"height\": [h1, h2],\n",
    "    \"area\": [area1, area2]\n",
    "}"
   ]
  },
  {
   "cell_type": "code",
   "execution_count": 16,
   "id": "53377d5223a7550b",
   "metadata": {
    "ExecuteTime": {
     "end_time": "2024-04-11T10:43:31.891947Z",
     "start_time": "2024-04-11T10:43:31.889755Z"
    }
   },
   "outputs": [
    {
     "data": {
      "text/plain": [
       "{'width': [5, 2], 'height': [3, 4], 'area': [15, 8]}"
      ]
     },
     "execution_count": 16,
     "metadata": {},
     "output_type": "execute_result"
    }
   ],
   "source": [
    "rectangles"
   ]
  },
  {
   "cell_type": "markdown",
   "id": "4ecd511695d068f5",
   "metadata": {},
   "source": [
    "## Exercise\n",
    "You just measured the radius of three circles. Write them into a table and add a column with corresponding circle area measurements."
   ]
  },
  {
   "cell_type": "code",
   "execution_count": 17,
   "id": "62288b354f39182e",
   "metadata": {
    "ExecuteTime": {
     "end_time": "2024-04-11T10:43:31.894025Z",
     "start_time": "2024-04-11T10:43:31.892569Z"
    }
   },
   "outputs": [],
   "source": [
    "r1 = 12\n",
    "r2 = 8\n",
    "r3 = 15"
   ]
  }
 ],
 "metadata": {
  "kernelspec": {
   "display_name": "Python 3 (ipykernel)",
   "language": "python",
   "name": "python3"
  },
  "language_info": {
   "codemirror_mode": {
    "name": "ipython",
    "version": 3
   },
   "file_extension": ".py",
   "mimetype": "text/x-python",
   "name": "python",
   "nbconvert_exporter": "python",
   "pygments_lexer": "ipython3",
   "version": "3.12.11"
  }
 },
 "nbformat": 4,
 "nbformat_minor": 5
}
