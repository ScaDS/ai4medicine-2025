{
 "cells": [
  {
   "cell_type": "markdown",
   "id": "e456198d5d4d92d9",
   "metadata": {},
   "source": [
    "# Conditions\n",
    "\n",
    "The [`if`](https://docs.python.org/3/tutorial/controlflow.html#if-statements) statement (a control flow tool), followed by an expression, can be used to execute code conditionally.\n",
    "\n",
    "That means only if that expression evaluates to `True`. For such expressions, logical operators from mathematics can be used.\n",
    "\n",
    "See also:\n",
    "* [if…elif…else in Python](https://www.w3schools.com/python/python_conditions.asp)\n",
    "* [Control Flow Tools](https://docs.python.org/3/tutorial/controlflow.html)\n",
    "\n",
    "Let's take a look at some expressions first:"
   ]
  },
  {
   "cell_type": "code",
   "execution_count": 1,
   "id": "fead1aa191091a4d",
   "metadata": {
    "ExecuteTime": {
     "end_time": "2024-04-11T10:43:41.819135Z",
     "start_time": "2024-04-11T10:43:41.814946Z"
    }
   },
   "outputs": [],
   "source": [
    "a = 3\n",
    "b = 4"
   ]
  },
  {
   "cell_type": "code",
   "execution_count": 2,
   "id": "a26714477290f025",
   "metadata": {
    "ExecuteTime": {
     "end_time": "2024-04-11T10:43:41.823367Z",
     "start_time": "2024-04-11T10:43:41.820254Z"
    }
   },
   "outputs": [
    {
     "data": {
      "text/plain": [
       "False"
      ]
     },
     "execution_count": 2,
     "metadata": {},
     "output_type": "execute_result"
    }
   ],
   "source": [
    "# equal\n",
    "a == b"
   ]
  },
  {
   "cell_type": "code",
   "execution_count": 3,
   "id": "246c70df03438fbe",
   "metadata": {
    "ExecuteTime": {
     "end_time": "2024-04-11T10:43:41.826257Z",
     "start_time": "2024-04-11T10:43:41.824103Z"
    }
   },
   "outputs": [
    {
     "data": {
      "text/plain": [
       "True"
      ]
     },
     "execution_count": 3,
     "metadata": {},
     "output_type": "execute_result"
    }
   ],
   "source": [
    "# not equal\n",
    "a != b"
   ]
  },
  {
   "cell_type": "code",
   "execution_count": 4,
   "id": "3c45f221717af60d",
   "metadata": {
    "ExecuteTime": {
     "end_time": "2024-04-11T10:43:41.828736Z",
     "start_time": "2024-04-11T10:43:41.826905Z"
    }
   },
   "outputs": [
    {
     "data": {
      "text/plain": [
       "False"
      ]
     },
     "execution_count": 4,
     "metadata": {},
     "output_type": "execute_result"
    }
   ],
   "source": [
    "# greater\n",
    "a > b"
   ]
  },
  {
   "cell_type": "code",
   "execution_count": 5,
   "id": "507f089aacb5528d",
   "metadata": {
    "ExecuteTime": {
     "end_time": "2024-04-11T10:43:41.832112Z",
     "start_time": "2024-04-11T10:43:41.830174Z"
    }
   },
   "outputs": [
    {
     "data": {
      "text/plain": [
       "True"
      ]
     },
     "execution_count": 5,
     "metadata": {},
     "output_type": "execute_result"
    }
   ],
   "source": [
    "# less\n",
    "a < b"
   ]
  },
  {
   "cell_type": "code",
   "execution_count": 6,
   "id": "c131954bb073a3c1",
   "metadata": {
    "ExecuteTime": {
     "end_time": "2024-04-11T10:43:41.834280Z",
     "start_time": "2024-04-11T10:43:41.832529Z"
    }
   },
   "outputs": [
    {
     "data": {
      "text/plain": [
       "False"
      ]
     },
     "execution_count": 6,
     "metadata": {},
     "output_type": "execute_result"
    }
   ],
   "source": [
    "# greater equal\n",
    "a >= b"
   ]
  },
  {
   "cell_type": "code",
   "execution_count": 7,
   "id": "9d43b113a06700ac",
   "metadata": {
    "ExecuteTime": {
     "end_time": "2024-04-11T10:43:41.836545Z",
     "start_time": "2024-04-11T10:43:41.834857Z"
    }
   },
   "outputs": [
    {
     "data": {
      "text/plain": [
       "True"
      ]
     },
     "execution_count": 7,
     "metadata": {},
     "output_type": "execute_result"
    }
   ],
   "source": [
    "# less equal\n",
    "a <= b"
   ]
  },
  {
   "cell_type": "markdown",
   "id": "ff0cad91ea30b97",
   "metadata": {},
   "source": [
    "## The `if` statement\n",
    "\n",
    "After using `if` in combination with an expression, you need to put a colon `:`. The following code for execution must be indented:"
   ]
  },
  {
   "cell_type": "code",
   "execution_count": 8,
   "id": "93166e4171c9781d",
   "metadata": {
    "ExecuteTime": {
     "end_time": "2024-04-11T10:43:41.838757Z",
     "start_time": "2024-04-11T10:43:41.837123Z"
    }
   },
   "outputs": [
    {
     "name": "stdout",
     "output_type": "stream",
     "text": [
      "Math is great.\n"
     ]
    }
   ],
   "source": [
    "if 3 < 4:\n",
    "    print(\"Math is great.\")"
   ]
  },
  {
   "cell_type": "code",
   "execution_count": 9,
   "id": "1588d198e2903c50",
   "metadata": {
    "ExecuteTime": {
     "end_time": "2024-04-11T10:43:41.840675Z",
     "start_time": "2024-04-11T10:43:41.839317Z"
    }
   },
   "outputs": [],
   "source": [
    "if 3 > 4:\n",
    "    print(\"Math is broken.\")"
   ]
  },
  {
   "cell_type": "markdown",
   "id": "fac0af8b5f454c74",
   "metadata": {},
   "source": [
    "You can also write more sophisticated expressions using `and` and `or`:"
   ]
  },
  {
   "cell_type": "code",
   "execution_count": 10,
   "id": "5602616047ad32e",
   "metadata": {
    "ExecuteTime": {
     "end_time": "2024-04-11T10:43:41.842814Z",
     "start_time": "2024-04-11T10:43:41.841264Z"
    }
   },
   "outputs": [
    {
     "name": "stdout",
     "output_type": "stream",
     "text": [
      "C is between 4 and 20.\n"
     ]
    }
   ],
   "source": [
    "c = 10\n",
    "\n",
    "if (c > 4) and (c < 20):\n",
    "    print(\"C is between 4 and 20.\")"
   ]
  },
  {
   "cell_type": "markdown",
   "id": "39c0802b47e9061a",
   "metadata": {},
   "source": [
    "If you want to check if an element is in an array, do it like this:"
   ]
  },
  {
   "cell_type": "code",
   "execution_count": 11,
   "id": "b1ca87b46accb330",
   "metadata": {
    "ExecuteTime": {
     "end_time": "2024-04-11T10:43:41.844724Z",
     "start_time": "2024-04-11T10:43:41.843277Z"
    }
   },
   "outputs": [
    {
     "name": "stdout",
     "output_type": "stream",
     "text": [
      "Our list of animals contains a cat\n"
     ]
    }
   ],
   "source": [
    "animals = ['cat', 'dog', 'mouse']\n",
    "\n",
    "if 'cat' in animals:\n",
    "    print('Our list of animals contains a cat')"
   ]
  },
  {
   "cell_type": "markdown",
   "id": "ba99f6371edbc5ce",
   "metadata": {},
   "source": [
    "You can also analyse strings. For example, check if they start or end with certain characters:"
   ]
  },
  {
   "cell_type": "code",
   "execution_count": 12,
   "id": "f295076376182578",
   "metadata": {
    "ExecuteTime": {
     "end_time": "2024-04-11T10:43:41.846738Z",
     "start_time": "2024-04-11T10:43:41.845314Z"
    }
   },
   "outputs": [
    {
     "name": "stdout",
     "output_type": "stream",
     "text": [
      "The file is an image!\n"
     ]
    }
   ],
   "source": [
    "filename = \"cells.tif\"\n",
    "\n",
    "if filename.endswith(\"tif\"):\n",
    "    print(\"The file is an image!\")"
   ]
  },
  {
   "cell_type": "markdown",
   "id": "48b6c51a19b88907",
   "metadata": {},
   "source": [
    "## The `if-else` statement\n",
    "If you have two different blocks of code that should be executed alternatively, use `if-else`:"
   ]
  },
  {
   "cell_type": "code",
   "execution_count": 13,
   "id": "f816a04a9f40ef1e",
   "metadata": {
    "ExecuteTime": {
     "end_time": "2024-04-11T10:43:41.849013Z",
     "start_time": "2024-04-11T10:43:41.847319Z"
    }
   },
   "outputs": [
    {
     "name": "stdout",
     "output_type": "stream",
     "text": [
      "We need to improve our quality.\n"
     ]
    }
   ],
   "source": [
    "quality_in_percent = 89\n",
    "\n",
    "if quality_in_percent > 90:    \n",
    "    print(\"Our quality is high enough.\")\n",
    "else:\n",
    "    print(\"We need to improve our quality.\")"
   ]
  },
  {
   "cell_type": "markdown",
   "id": "761b744bb43d21eb",
   "metadata": {},
   "source": [
    "## The `elif` statement\n",
    "\n",
    "For executing code depending on multiple conditions, use the elif-statement:"
   ]
  },
  {
   "cell_type": "code",
   "execution_count": 14,
   "id": "69a84640af8a5a3",
   "metadata": {
    "ExecuteTime": {
     "end_time": "2024-04-11T10:43:41.853316Z",
     "start_time": "2024-04-11T10:43:41.851201Z"
    }
   },
   "outputs": [
    {
     "name": "stdout",
     "output_type": "stream",
     "text": [
      "Our quality is high enough.\n"
     ]
    }
   ],
   "source": [
    "quality_in_percent = 100\n",
    "\n",
    "if quality_in_percent > 90:    \n",
    "    print(\"Our quality is high enough.\")\n",
    "elif quality_in_percent > 60:\n",
    "    print(\"Our quality is medium.\")\n",
    "else:\n",
    "    print(\"We need to improve our quality.\")"
   ]
  },
  {
   "cell_type": "markdown",
   "id": "ca27022aa19dd63f",
   "metadata": {},
   "source": [
    "## Exercise\n",
    "\n",
    "Write python code that prints out the daytime, e.g. \"morning\", \"noon\", \"afternoon\", \"evening\", and \"night\" depending on a given time."
   ]
  },
  {
   "cell_type": "code",
   "execution_count": 15,
   "id": "43ceb5798723dfc5",
   "metadata": {
    "ExecuteTime": {
     "end_time": "2024-04-11T10:43:41.855292Z",
     "start_time": "2024-04-11T10:43:41.853916Z"
    }
   },
   "outputs": [],
   "source": [
    "# it's 12:15\n",
    "time_hours = 12\n",
    "time_minutes = 15"
   ]
  }
 ],
 "metadata": {
  "kernelspec": {
   "display_name": "Python 3 (ipykernel)",
   "language": "python",
   "name": "python3"
  },
  "language_info": {
   "codemirror_mode": {
    "name": "ipython",
    "version": 3
   },
   "file_extension": ".py",
   "mimetype": "text/x-python",
   "name": "python",
   "nbconvert_exporter": "python",
   "pygments_lexer": "ipython3",
   "version": "3.12.11"
  }
 },
 "nbformat": 4,
 "nbformat_minor": 5
}
