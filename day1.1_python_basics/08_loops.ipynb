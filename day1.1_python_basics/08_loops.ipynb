{
 "cells": [
  {
   "cell_type": "markdown",
   "id": "e858ef6bffaaf846",
   "metadata": {},
   "source": [
    "# Loops\n",
    "Often, code blocks need to be executed repeatedly. In notebooks, we just may execute a code cell at the desired times.\n",
    "\n",
    "But often it's better to use loops, also part of the control flow tools.\n",
    "\n",
    "See also:\n",
    "* [Control Flow Tools](https://docs.python.org/3/tutorial/controlflow.html)\n",
    "* [Python For Loops](https://www.w3schools.com/python/python_for_loops.asp)\n",
    "* [Python While Loops](https://www.w3schools.com/python/python_while_loops.asp)"
   ]
  },
  {
   "cell_type": "markdown",
   "id": "a9e5b49d57de0774",
   "metadata": {},
   "source": [
    "\n",
    "## For loops\n",
    "\n",
    "For looping over a range of numbers, we can use a simple `for` loop and the `range` function.\n",
    "\n",
    "The `range` function helps to easily define the number of loop executions.\n",
    "\n",
    "In the following cell, the `print(i)` command will be executed a couple of times for different values of `i` - we _iterate_ over a range of values.\n",
    "\n",
    "Like for the `if` statement, the to-be executed code block needs to be intended. Also remember that the defined end in a range is not inclusive:"
   ]
  },
  {
   "cell_type": "code",
   "execution_count": 1,
   "id": "8278a0035365d78",
   "metadata": {
    "ExecuteTime": {
     "end_time": "2024-04-11T10:43:58.452463Z",
     "start_time": "2024-04-11T10:43:58.447491Z"
    }
   },
   "outputs": [
    {
     "name": "stdout",
     "output_type": "stream",
     "text": [
      "0\n",
      "1\n",
      "2\n",
      "3\n",
      "4\n"
     ]
    }
   ],
   "source": [
    "for i in range(0, 5):\n",
    "    print(i)"
   ]
  },
  {
   "cell_type": "markdown",
   "id": "1dd86b008d8a3905",
   "metadata": {},
   "source": [
    "You can also loop over a range of numbers with a defined step, for example, step 3:"
   ]
  },
  {
   "cell_type": "code",
   "execution_count": 2,
   "id": "fe177f0456b6d7ca",
   "metadata": {
    "ExecuteTime": {
     "end_time": "2024-04-11T10:43:58.471884Z",
     "start_time": "2024-04-11T10:43:58.469786Z"
    }
   },
   "outputs": [
    {
     "name": "stdout",
     "output_type": "stream",
     "text": [
      "0\n",
      "3\n",
      "6\n",
      "9\n"
     ]
    }
   ],
   "source": [
    "for i in range(0, 10, 3):\n",
    "    print(i)"
   ]
  },
  {
   "cell_type": "markdown",
   "id": "71d46c3b46ec907d",
   "metadata": {},
   "source": [
    "Iterating over arrays allows you to do something with all array elements:"
   ]
  },
  {
   "cell_type": "code",
   "execution_count": 3,
   "id": "39df3387dd4139ac",
   "metadata": {
    "ExecuteTime": {
     "end_time": "2024-04-11T10:43:58.474486Z",
     "start_time": "2024-04-11T10:43:58.472778Z"
    }
   },
   "outputs": [
    {
     "name": "stdout",
     "output_type": "stream",
     "text": [
      "Dog\n",
      "Cat\n",
      "Mouse\n"
     ]
    }
   ],
   "source": [
    "for animal in [\"Dog\", \"Cat\", \"Mouse\"]:\n",
    "    print(animal)"
   ]
  },
  {
   "cell_type": "markdown",
   "id": "89137de147d8338f",
   "metadata": {},
   "source": [
    "Using the built-in [`zip`](https://docs.python.org/3/library/functions.html#zip) function, we can iterate over two arrays in parallel, pair-wise like this:"
   ]
  },
  {
   "cell_type": "code",
   "execution_count": 4,
   "id": "bd00789e1c93f1fc",
   "metadata": {
    "ExecuteTime": {
     "end_time": "2024-04-11T10:43:58.477554Z",
     "start_time": "2024-04-11T10:43:58.475360Z"
    }
   },
   "outputs": [
    {
     "name": "stdout",
     "output_type": "stream",
     "text": [
      "Paired measurements: 1 and 4\n",
      "Paired measurements: 9 and 5\n",
      "Paired measurements: 7 and 5\n",
      "Paired measurements: 1 and 7\n",
      "Paired measurements: 2 and 4\n",
      "Paired measurements: 8 and 5\n",
      "Paired measurements: 9 and 4\n",
      "Paired measurements: 2 and 6\n",
      "Paired measurements: 1 and 6\n",
      "Paired measurements: 7 and 5\n",
      "Paired measurements: 8 and 4\n"
     ]
    }
   ],
   "source": [
    "# going through arrays pair-wise\n",
    "measurement_1 = [1, 9, 7, 1, 2, 8, 9, 2, 1, 7, 8]\n",
    "measurement_2 = [4, 5, 5, 7, 4, 5, 4, 6, 6, 5, 4]\n",
    "\n",
    "for m_1, m_2 in zip(measurement_1, measurement_2):\n",
    "    print(\"Paired measurements: \" + str(m_1) + \" and \" + str(m_2))"
   ]
  },
  {
   "cell_type": "markdown",
   "id": "329fe1c82013dd80",
   "metadata": {},
   "source": [
    "If we want to know the index of the element in the list as well, the built-in [`enumerate`](https://docs.python.org/3/library/functions.html#enumerate) function comes in handy:"
   ]
  },
  {
   "cell_type": "code",
   "execution_count": 5,
   "id": "bc034ab7c0e9d3c2",
   "metadata": {
    "ExecuteTime": {
     "end_time": "2024-04-11T10:43:58.479864Z",
     "start_time": "2024-04-11T10:43:58.478163Z"
    }
   },
   "outputs": [
    {
     "name": "stdout",
     "output_type": "stream",
     "text": [
      "The animal number 0 in the list is Dog\n",
      "The animal number 1 in the list is Cat\n",
      "The animal number 2 in the list is Mouse\n"
     ]
    }
   ],
   "source": [
    "# numbering and iterating through collections\n",
    "for index, animal in enumerate([\"Dog\", \"Cat\", \"Mouse\"]):\n",
    "    print(f\"The animal number {index} in the list is {animal}\")\n"
   ]
  },
  {
   "cell_type": "markdown",
   "id": "8307b2fcf99b14c9",
   "metadata": {},
   "source": [
    "## Generating lists in loops\n",
    "\n",
    "We can generate lists using for loops. The conventional way of doing this involves multiple lines of code:"
   ]
  },
  {
   "cell_type": "code",
   "execution_count": 6,
   "id": "9da75a0f097aa30f",
   "metadata": {
    "ExecuteTime": {
     "end_time": "2024-04-11T10:43:58.482902Z",
     "start_time": "2024-04-11T10:43:58.480928Z"
    }
   },
   "outputs": [
    {
     "name": "stdout",
     "output_type": "stream",
     "text": [
      "[0, 2, 4, 6, 8]\n"
     ]
    }
   ],
   "source": [
    "# we start with an empty list\n",
    "numbers = []\n",
    "\n",
    "# and add elements\n",
    "for i in range(0, 5):\n",
    "    numbers.append(i * 2)\n",
    "    \n",
    "print(numbers)"
   ]
  },
  {
   "cell_type": "markdown",
   "id": "dc9e030b65a14f90",
   "metadata": {},
   "source": [
    "One can also write that shorter. The underlying concept is called [`generators`](https://docs.python.org/3/tutorial/classes.html#generators).\n",
    "\n",
    "This is also part of what the community calls \"_The Pythonic Way_\" - making use of available classes and concepts to write short, clean, and understandable code."
   ]
  },
  {
   "cell_type": "code",
   "execution_count": 7,
   "id": "488fcd981853dda7",
   "metadata": {
    "ExecuteTime": {
     "end_time": "2024-04-11T10:43:58.485469Z",
     "start_time": "2024-04-11T10:43:58.483645Z"
    }
   },
   "outputs": [
    {
     "name": "stdout",
     "output_type": "stream",
     "text": [
      "[0, 2, 4, 6, 8]\n"
     ]
    }
   ],
   "source": [
    "numbers = [i * 2 for i in range(0, 5)]\n",
    "\n",
    "print(numbers)"
   ]
  },
  {
   "cell_type": "markdown",
   "id": "343604787f25bf9f",
   "metadata": {},
   "source": [
    "The conventional way to combine this with an if-statement looks like this:"
   ]
  },
  {
   "cell_type": "code",
   "execution_count": 8,
   "id": "6cccb19ab7a5d457",
   "metadata": {
    "ExecuteTime": {
     "end_time": "2024-04-11T10:43:58.488837Z",
     "start_time": "2024-04-11T10:43:58.487010Z"
    }
   },
   "outputs": [
    {
     "name": "stdout",
     "output_type": "stream",
     "text": [
      "[2, 6]\n"
     ]
    }
   ],
   "source": [
    "# we start with an empty list\n",
    "numbers = []\n",
    "\n",
    "# and add elements\n",
    "for i in range(0, 5):\n",
    "    # check if the number is odd\n",
    "    if i % 2:\n",
    "        numbers.append(i * 2)\n",
    "    \n",
    "print(numbers)"
   ]
  },
  {
   "cell_type": "markdown",
   "id": "a9a8f956495f19a8",
   "metadata": {},
   "source": [
    "And the \"_Pythonic Way_\" like this:"
   ]
  },
  {
   "cell_type": "code",
   "execution_count": 9,
   "id": "6e6ad5d522f2638d",
   "metadata": {
    "ExecuteTime": {
     "end_time": "2024-04-11T10:43:58.491795Z",
     "start_time": "2024-04-11T10:43:58.490264Z"
    }
   },
   "outputs": [
    {
     "name": "stdout",
     "output_type": "stream",
     "text": [
      "[2, 6]\n"
     ]
    }
   ],
   "source": [
    "numbers = [i * 2 for i in range(0, 5) if i % 2]\n",
    "\n",
    "print(numbers)"
   ]
  },
  {
   "cell_type": "markdown",
   "id": "ce598600564da90f",
   "metadata": {},
   "source": [
    "## While loops\n",
    "\n",
    "Another way of looping is using the `while` loop. It checks a condition before each iteration, similar to the if statement. It will interrupt execution as soon as the condition is no longer true:"
   ]
  },
  {
   "cell_type": "code",
   "execution_count": 10,
   "id": "cf088e3267997361",
   "metadata": {
    "ExecuteTime": {
     "end_time": "2024-04-11T10:43:58.500965Z",
     "start_time": "2024-04-11T10:43:58.499192Z"
    }
   },
   "outputs": [
    {
     "name": "stdout",
     "output_type": "stream",
     "text": [
      "512.0\n",
      "256.0\n",
      "128.0\n",
      "64.0\n",
      "32.0\n",
      "16.0\n",
      "8.0\n",
      "4.0\n",
      "2.0\n",
      "1.0\n"
     ]
    }
   ],
   "source": [
    "number = 1024\n",
    "\n",
    "while (number > 1):\n",
    "    number = number / 2\n",
    "    print(number)"
   ]
  },
  {
   "cell_type": "markdown",
   "id": "3e5102f329b9794c",
   "metadata": {},
   "source": [
    "## Interrupting loops\n",
    "\n",
    "You can interrupt loops at specific points in your code using the [`break`](https://docs.python.org/3/tutorial/controlflow.html#break-and-continue-statements) command:"
   ]
  },
  {
   "cell_type": "code",
   "execution_count": 11,
   "id": "2649ea8a5f31b059",
   "metadata": {
    "ExecuteTime": {
     "end_time": "2024-04-11T10:43:58.525890Z",
     "start_time": "2024-04-11T10:43:58.524219Z"
    }
   },
   "outputs": [
    {
     "name": "stdout",
     "output_type": "stream",
     "text": [
      "0\n",
      "1\n",
      "2\n",
      "3\n",
      "4\n",
      "5\n",
      "6\n"
     ]
    }
   ],
   "source": [
    "for i in range(10):\n",
    "    print(i)\n",
    "    if i > 5:\n",
    "        break"
   ]
  },
  {
   "cell_type": "code",
   "execution_count": 12,
   "id": "7fa6572615fd5e1b",
   "metadata": {
    "ExecuteTime": {
     "end_time": "2024-04-11T10:43:58.529172Z",
     "start_time": "2024-04-11T10:43:58.527441Z"
    }
   },
   "outputs": [
    {
     "name": "stdout",
     "output_type": "stream",
     "text": [
      "512.0\n",
      "256.0\n",
      "128.0\n",
      "64.0\n",
      "32.0\n",
      "16.0\n",
      "8.0\n",
      "4.0\n",
      "2.0\n",
      "1.0\n",
      "0.5\n"
     ]
    }
   ],
   "source": [
    "number = 1024\n",
    "\n",
    "while (True):\n",
    "    number = number / 2\n",
    "    print(number)\n",
    "    \n",
    "    if number < 1:\n",
    "        break"
   ]
  },
  {
   "cell_type": "markdown",
   "id": "1ad8d25ae8ba5ae3",
   "metadata": {},
   "source": [
    "## Skipping iterations in loops\n",
    "\n",
    "If you want to skip iterations, you can use the [`continue`](https://docs.python.org/3/tutorial/controlflow.html#break-and-continue-statements) statement. That often makes sense in combination with an if:"
   ]
  },
  {
   "cell_type": "code",
   "execution_count": 13,
   "id": "4622722c1e6417d3",
   "metadata": {
    "ExecuteTime": {
     "end_time": "2024-04-11T10:43:58.536335Z",
     "start_time": "2024-04-11T10:43:58.534502Z"
    }
   },
   "outputs": [
    {
     "name": "stdout",
     "output_type": "stream",
     "text": [
      "0\n",
      "1\n",
      "2\n",
      "7\n",
      "8\n",
      "9\n"
     ]
    }
   ],
   "source": [
    "for i in range(0, 10):\n",
    "    if (i >= 3) and (i <= 6):\n",
    "        continue\n",
    "    print(i)"
   ]
  },
  {
   "cell_type": "markdown",
   "id": "daf964593a158df6",
   "metadata": {},
   "source": [
    "## Exercise\n",
    "\n",
    "Assume you have a list of filenames, and you want to do something with them, for example, print them out.  \n",
    "Write a for loop which prints out all file names that end with \"tif\"."
   ]
  },
  {
   "cell_type": "code",
   "execution_count": 14,
   "id": "abaa719b9c3fb9c5",
   "metadata": {
    "ExecuteTime": {
     "end_time": "2024-04-11T10:43:58.538626Z",
     "start_time": "2024-04-11T10:43:58.537143Z"
    }
   },
   "outputs": [],
   "source": [
    "file_names = ['dataset1.tif', 'dataset2.tif', 'summary.csv', 'readme.md', 'blobs.tif']"
   ]
  }
 ],
 "metadata": {
  "kernelspec": {
   "display_name": "Python 3 (ipykernel)",
   "language": "python",
   "name": "python3"
  },
  "language_info": {
   "codemirror_mode": {
    "name": "ipython",
    "version": 3
   },
   "file_extension": ".py",
   "mimetype": "text/x-python",
   "name": "python",
   "nbconvert_exporter": "python",
   "pygments_lexer": "ipython3",
   "version": "3.12.11"
  }
 },
 "nbformat": 4,
 "nbformat_minor": 5
}
