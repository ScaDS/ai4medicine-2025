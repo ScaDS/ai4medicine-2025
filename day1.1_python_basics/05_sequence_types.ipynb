{
 "cells": [
  {
   "cell_type": "markdown",
   "id": "cd1ed08c89703893",
   "metadata": {},
   "source": [
    "# Sequences in Python\n",
    "Variables can contain multiple values, those are called sequences. One example we already introduced is a string-typed variable, containing an immutable ordered collection of Unicode items.\n",
    "\n",
    "The other three basic sequence types are: \n",
    "* [Lists](https://docs.python.org/3/library/stdtypes.html#lists)\n",
    "* [Tuples](https://docs.python.org/3/library/stdtypes.html#tuples)\n",
    "* [Ranges](https://docs.python.org/3/library/stdtypes.html#ranges)"
   ]
  },
  {
   "cell_type": "markdown",
   "id": "f13b56f3c35d138f",
   "metadata": {},
   "source": [
    "## Lists\n",
    "Lists are _mutable_ collections of heterogeneous values, which means they can be changed. They are also called vectors or arrays."
   ]
  },
  {
   "cell_type": "code",
   "execution_count": 1,
   "id": "c81716cfc1f31cdf",
   "metadata": {
    "ExecuteTime": {
     "end_time": "2024-04-11T10:42:25.898690Z",
     "start_time": "2024-04-11T10:42:25.893092Z"
    }
   },
   "outputs": [
    {
     "data": {
      "text/plain": [
       "list"
      ]
     },
     "execution_count": 1,
     "metadata": {},
     "output_type": "execute_result"
    }
   ],
   "source": [
    "measurements = [3.5, 1.5, 4.6, 5.7, 2.4]\n",
    "type(measurements)"
   ]
  },
  {
   "cell_type": "markdown",
   "id": "95a924768257d48a",
   "metadata": {},
   "source": [
    "### Access via index\n",
    "Entries can be accessed by their index in the collection via the bracket operator `[]`.\n",
    "\n",
    "Indices in such collections start at `0`:"
   ]
  },
  {
   "cell_type": "code",
   "execution_count": 2,
   "id": "d96fc0dd2b2e5f97",
   "metadata": {
    "ExecuteTime": {
     "end_time": "2024-04-11T10:42:25.902174Z",
     "start_time": "2024-04-11T10:42:25.899894Z"
    }
   },
   "outputs": [
    {
     "data": {
      "text/plain": [
       "3.5"
      ]
     },
     "execution_count": 2,
     "metadata": {},
     "output_type": "execute_result"
    }
   ],
   "source": [
    "measurements[0]"
   ]
  },
  {
   "cell_type": "code",
   "execution_count": 3,
   "id": "27fb7f287637acf7",
   "metadata": {
    "ExecuteTime": {
     "end_time": "2024-04-11T10:42:25.904914Z",
     "start_time": "2024-04-11T10:42:25.902840Z"
    }
   },
   "outputs": [
    {
     "data": {
      "text/plain": [
       "1.5"
      ]
     },
     "execution_count": 3,
     "metadata": {},
     "output_type": "execute_result"
    }
   ],
   "source": [
    "measurements[1]"
   ]
  },
  {
   "cell_type": "markdown",
   "id": "454d5c9d0a427c76",
   "metadata": {},
   "source": [
    "Entries can be changed (lists are mutable) by assigning a new value to an index:"
   ]
  },
  {
   "cell_type": "code",
   "execution_count": 4,
   "id": "1bd71df69880ba74",
   "metadata": {
    "ExecuteTime": {
     "end_time": "2024-04-11T10:42:25.906960Z",
     "start_time": "2024-04-11T10:42:25.905535Z"
    }
   },
   "outputs": [],
   "source": [
    "measurements[1] = 8.5"
   ]
  },
  {
   "cell_type": "code",
   "execution_count": 5,
   "id": "cac177e5efd9a73",
   "metadata": {
    "ExecuteTime": {
     "end_time": "2024-04-11T10:42:25.910288Z",
     "start_time": "2024-04-11T10:42:25.908387Z"
    }
   },
   "outputs": [
    {
     "data": {
      "text/plain": [
       "8.5"
      ]
     },
     "execution_count": 5,
     "metadata": {},
     "output_type": "execute_result"
    }
   ],
   "source": [
    "measurements[1]"
   ]
  },
  {
   "cell_type": "markdown",
   "id": "84762e46638971a",
   "metadata": {},
   "source": [
    "### List methods and operations\n",
    "The list object provides several methods to work with the underlying data\n",
    "\n",
    "We can append entries to lists:"
   ]
  },
  {
   "cell_type": "code",
   "execution_count": 6,
   "id": "e978c9ee68191c01",
   "metadata": {
    "ExecuteTime": {
     "end_time": "2024-04-11T10:42:25.912463Z",
     "start_time": "2024-04-11T10:42:25.910865Z"
    }
   },
   "outputs": [],
   "source": [
    "measurements.append(10.2)"
   ]
  },
  {
   "cell_type": "markdown",
   "id": "177c1f90b0360650",
   "metadata": {},
   "source": [
    "We can reverse lists:"
   ]
  },
  {
   "cell_type": "code",
   "execution_count": 7,
   "id": "d7a291026e6ec4ea",
   "metadata": {
    "ExecuteTime": {
     "end_time": "2024-04-11T10:42:25.915075Z",
     "start_time": "2024-04-11T10:42:25.912990Z"
    }
   },
   "outputs": [
    {
     "data": {
      "text/plain": [
       "[10.2, 2.4, 5.7, 4.6, 8.5, 3.5]"
      ]
     },
     "execution_count": 7,
     "metadata": {},
     "output_type": "execute_result"
    }
   ],
   "source": [
    "measurements.reverse()\n",
    "measurements"
   ]
  },
  {
   "cell_type": "markdown",
   "id": "4f438a5620bbd6c8",
   "metadata": {},
   "source": [
    "And we can sort lists:"
   ]
  },
  {
   "cell_type": "code",
   "execution_count": 8,
   "id": "8c97993caf51af67",
   "metadata": {
    "ExecuteTime": {
     "end_time": "2024-04-11T10:42:25.917355Z",
     "start_time": "2024-04-11T10:42:25.915637Z"
    }
   },
   "outputs": [
    {
     "data": {
      "text/plain": [
       "[2.4, 3.5, 4.6, 5.7, 8.5, 10.2]"
      ]
     },
     "execution_count": 8,
     "metadata": {},
     "output_type": "execute_result"
    }
   ],
   "source": [
    "measurements.sort()\n",
    "measurements"
   ]
  },
  {
   "cell_type": "markdown",
   "id": "61cf1f8c785066",
   "metadata": {},
   "source": [
    "Like strings, we can also concatenate lists:"
   ]
  },
  {
   "cell_type": "code",
   "execution_count": 9,
   "id": "543be14cef8d340e",
   "metadata": {
    "ExecuteTime": {
     "end_time": "2024-04-11T10:42:25.919287Z",
     "start_time": "2024-04-11T10:42:25.917848Z"
    }
   },
   "outputs": [],
   "source": [
    "more_measurements = [6.1, 8.9, 1.3]"
   ]
  },
  {
   "cell_type": "code",
   "execution_count": 10,
   "id": "847d1e7990a5add3",
   "metadata": {
    "ExecuteTime": {
     "end_time": "2024-04-11T10:42:25.921899Z",
     "start_time": "2024-04-11T10:42:25.919944Z"
    }
   },
   "outputs": [
    {
     "data": {
      "text/plain": [
       "[2.4, 3.5, 4.6, 5.7, 8.5, 10.2, 6.1, 8.9, 1.3]"
      ]
     },
     "execution_count": 10,
     "metadata": {},
     "output_type": "execute_result"
    }
   ],
   "source": [
    "measurements + more_measurements"
   ]
  },
  {
   "cell_type": "markdown",
   "id": "793c3189fe21d4e6",
   "metadata": {},
   "source": [
    "When working with numeric lists, you can use some of python's [built-in functions](https://docs.python.org/3/library/functions.html) to do basic statistics on your measurements:"
   ]
  },
  {
   "cell_type": "code",
   "execution_count": 11,
   "id": "c4f6897531c6041f",
   "metadata": {
    "ExecuteTime": {
     "end_time": "2024-04-11T10:42:25.925340Z",
     "start_time": "2024-04-11T10:42:25.923461Z"
    }
   },
   "outputs": [
    {
     "data": {
      "text/plain": [
       "2.4"
      ]
     },
     "execution_count": 11,
     "metadata": {},
     "output_type": "execute_result"
    }
   ],
   "source": [
    "# minimum value in the list\n",
    "min(measurements)"
   ]
  },
  {
   "cell_type": "code",
   "execution_count": 12,
   "id": "17a435adfc08afab",
   "metadata": {
    "ExecuteTime": {
     "end_time": "2024-04-11T10:42:25.927971Z",
     "start_time": "2024-04-11T10:42:25.925947Z"
    }
   },
   "outputs": [
    {
     "data": {
      "text/plain": [
       "10.2"
      ]
     },
     "execution_count": 12,
     "metadata": {},
     "output_type": "execute_result"
    }
   ],
   "source": [
    "# maximum value in the list\n",
    "max(measurements)"
   ]
  },
  {
   "cell_type": "code",
   "execution_count": 13,
   "id": "ff9e40256777075",
   "metadata": {
    "ExecuteTime": {
     "end_time": "2024-04-11T10:42:25.942329Z",
     "start_time": "2024-04-11T10:42:25.940169Z"
    }
   },
   "outputs": [
    {
     "data": {
      "text/plain": [
       "34.9"
      ]
     },
     "execution_count": 13,
     "metadata": {},
     "output_type": "execute_result"
    }
   ],
   "source": [
    "# sum of all elements in the list\n",
    "sum(measurements)"
   ]
  },
  {
   "cell_type": "code",
   "execution_count": 14,
   "id": "9c411be35da3062",
   "metadata": {
    "ExecuteTime": {
     "end_time": "2024-04-11T10:42:25.953096Z",
     "start_time": "2024-04-11T10:42:25.951091Z"
    }
   },
   "outputs": [
    {
     "data": {
      "text/plain": [
       "6"
      ]
     },
     "execution_count": 14,
     "metadata": {},
     "output_type": "execute_result"
    }
   ],
   "source": [
    "# number of elements in the list\n",
    "len(measurements)"
   ]
  },
  {
   "cell_type": "code",
   "execution_count": 15,
   "id": "949da848f2a5e81b",
   "metadata": {
    "ExecuteTime": {
     "end_time": "2024-04-11T10:42:25.970607Z",
     "start_time": "2024-04-11T10:42:25.968506Z"
    }
   },
   "outputs": [
    {
     "data": {
      "text/plain": [
       "5.816666666666666"
      ]
     },
     "execution_count": 15,
     "metadata": {},
     "output_type": "execute_result"
    }
   ],
   "source": [
    "# average of all elements in the list\n",
    "sum(measurements) / len(measurements)"
   ]
  },
  {
   "cell_type": "markdown",
   "id": "d8d350020fe0e9d5",
   "metadata": {},
   "source": [
    "### Lists of mixed types\n",
    "We can also store values of different types in a list"
   ]
  },
  {
   "cell_type": "code",
   "execution_count": 16,
   "id": "b5058aadf1aa9d73",
   "metadata": {
    "ExecuteTime": {
     "end_time": "2024-04-11T10:42:25.994561Z",
     "start_time": "2024-04-11T10:42:25.992813Z"
    }
   },
   "outputs": [],
   "source": [
    "mixed_list = [22, 5.6, \"Cat\", 'Dog']"
   ]
  },
  {
   "cell_type": "code",
   "execution_count": 17,
   "id": "490695f49859385c",
   "metadata": {
    "ExecuteTime": {
     "end_time": "2024-04-11T10:42:26.001904Z",
     "start_time": "2024-04-11T10:42:25.999964Z"
    }
   },
   "outputs": [
    {
     "data": {
      "text/plain": [
       "22"
      ]
     },
     "execution_count": 17,
     "metadata": {},
     "output_type": "execute_result"
    }
   ],
   "source": [
    "mixed_list[0]"
   ]
  },
  {
   "cell_type": "code",
   "execution_count": 18,
   "id": "2d543d12acf0efa7",
   "metadata": {
    "ExecuteTime": {
     "end_time": "2024-04-11T10:42:26.005141Z",
     "start_time": "2024-04-11T10:42:26.003287Z"
    }
   },
   "outputs": [
    {
     "data": {
      "text/plain": [
       "'Dog'"
      ]
     },
     "execution_count": 18,
     "metadata": {},
     "output_type": "execute_result"
    }
   ],
   "source": [
    "mixed_list[3]"
   ]
  },
  {
   "cell_type": "code",
   "execution_count": 19,
   "id": "41faf1a866594bf3",
   "metadata": {
    "ExecuteTime": {
     "end_time": "2024-04-11T10:42:26.008379Z",
     "start_time": "2024-04-11T10:42:26.006455Z"
    }
   },
   "outputs": [
    {
     "data": {
      "text/plain": [
       "str"
      ]
     },
     "execution_count": 19,
     "metadata": {},
     "output_type": "execute_result"
    }
   ],
   "source": [
    "type(mixed_list[3])"
   ]
  },
  {
   "cell_type": "markdown",
   "id": "4f6b5df6544533b2",
   "metadata": {},
   "source": [
    "## Tuples\n",
    "Tuples are _immutable_ collections of heterogeneous values, which means once assigned the values cannot be changed."
   ]
  },
  {
   "cell_type": "code",
   "execution_count": 20,
   "id": "881884629110c868",
   "metadata": {
    "ExecuteTime": {
     "end_time": "2024-04-11T10:42:26.014378Z",
     "start_time": "2024-04-11T10:42:26.012397Z"
    }
   },
   "outputs": [
    {
     "data": {
      "text/plain": [
       "tuple"
      ]
     },
     "execution_count": 20,
     "metadata": {},
     "output_type": "execute_result"
    }
   ],
   "source": [
    "immutable = (4, 3, 2 ,1, \"Dog\")\n",
    "type(immutable)"
   ]
  },
  {
   "cell_type": "code",
   "execution_count": 21,
   "id": "83e776155b6f4ae0",
   "metadata": {
    "ExecuteTime": {
     "end_time": "2024-04-11T10:42:26.028274Z",
     "start_time": "2024-04-11T10:42:26.026321Z"
    }
   },
   "outputs": [
    {
     "data": {
      "text/plain": [
       "4"
      ]
     },
     "execution_count": 21,
     "metadata": {},
     "output_type": "execute_result"
    }
   ],
   "source": [
    "immutable[0]"
   ]
  },
  {
   "cell_type": "code",
   "execution_count": 22,
   "id": "cf2bd2cc98716f64",
   "metadata": {
    "ExecuteTime": {
     "end_time": "2024-04-11T10:42:26.151092Z",
     "start_time": "2024-04-11T10:42:26.040793Z"
    }
   },
   "outputs": [
    {
     "ename": "TypeError",
     "evalue": "'tuple' object does not support item assignment",
     "output_type": "error",
     "traceback": [
      "\u001b[31m---------------------------------------------------------------------------\u001b[39m",
      "\u001b[31mTypeError\u001b[39m                                 Traceback (most recent call last)",
      "\u001b[36mCell\u001b[39m\u001b[36m \u001b[39m\u001b[32mIn[22]\u001b[39m\u001b[32m, line 1\u001b[39m\n\u001b[32m----> \u001b[39m\u001b[32m1\u001b[39m \u001b[43mimmutable\u001b[49m\u001b[43m[\u001b[49m\u001b[32;43m0\u001b[39;49m\u001b[43m]\u001b[49m = \u001b[32m5\u001b[39m\n",
      "\u001b[31mTypeError\u001b[39m: 'tuple' object does not support item assignment"
     ]
    }
   ],
   "source": [
    "immutable[0] = 5"
   ]
  },
  {
   "cell_type": "markdown",
   "id": "6b9555886131cebf",
   "metadata": {},
   "source": [
    "You can convert tuples to lists and vice versa:"
   ]
  },
  {
   "cell_type": "code",
   "execution_count": 23,
   "id": "6e179e2e203f35a3",
   "metadata": {
    "ExecuteTime": {
     "end_time": "2024-04-11T10:42:34.725600Z",
     "start_time": "2024-04-11T10:42:34.722561Z"
    }
   },
   "outputs": [
    {
     "data": {
      "text/plain": [
       "list"
      ]
     },
     "execution_count": 23,
     "metadata": {},
     "output_type": "execute_result"
    }
   ],
   "source": [
    "mutable = list(immutable)\n",
    "type(mutable)"
   ]
  },
  {
   "cell_type": "code",
   "execution_count": 24,
   "id": "818305b898a68046",
   "metadata": {
    "ExecuteTime": {
     "end_time": "2024-04-11T10:42:35.246956Z",
     "start_time": "2024-04-11T10:42:35.244048Z"
    }
   },
   "outputs": [
    {
     "data": {
      "text/plain": [
       "tuple"
      ]
     },
     "execution_count": 24,
     "metadata": {},
     "output_type": "execute_result"
    }
   ],
   "source": [
    "immutable_again = tuple(mutable)\n",
    "type(immutable_again)"
   ]
  },
  {
   "cell_type": "markdown",
   "id": "c57a11ae5c577fb4",
   "metadata": {},
   "source": [
    "## Ranges\n",
    "Ranges are _immutable_ collections of numbers, commonly used for counting in loops (later more).\n",
    "\n",
    "Ranges can be constructed via [`range(start:stop:step)`](https://docs.python.org/3/library/functions.html#func-range), where `stop` is not inclusive, and `step` is an optional parameter."
   ]
  },
  {
   "cell_type": "code",
   "execution_count": 25,
   "id": "8072c36a1e6ca128",
   "metadata": {
    "ExecuteTime": {
     "end_time": "2024-04-11T10:42:36.820153Z",
     "start_time": "2024-04-11T10:42:36.815795Z"
    }
   },
   "outputs": [
    {
     "data": {
      "text/plain": [
       "range"
      ]
     },
     "execution_count": 25,
     "metadata": {},
     "output_type": "execute_result"
    }
   ],
   "source": [
    "numbers = range(1, 11)\n",
    "type(numbers)"
   ]
  },
  {
   "cell_type": "code",
   "execution_count": 26,
   "id": "4be8a2a7c48c6f",
   "metadata": {
    "ExecuteTime": {
     "end_time": "2024-04-11T10:42:37.268454Z",
     "start_time": "2024-04-11T10:42:37.264466Z"
    }
   },
   "outputs": [
    {
     "data": {
      "text/plain": [
       "1"
      ]
     },
     "execution_count": 26,
     "metadata": {},
     "output_type": "execute_result"
    }
   ],
   "source": [
    "numbers[0]"
   ]
  },
  {
   "cell_type": "code",
   "execution_count": 27,
   "id": "b00ab70146482434",
   "metadata": {
    "ExecuteTime": {
     "end_time": "2024-04-11T10:42:37.645846Z",
     "start_time": "2024-04-11T10:42:37.643136Z"
    }
   },
   "outputs": [
    {
     "data": {
      "text/plain": [
       "[1, 2, 3, 4, 5, 6, 7, 8, 9, 10]"
      ]
     },
     "execution_count": 27,
     "metadata": {},
     "output_type": "execute_result"
    }
   ],
   "source": [
    "list(numbers)"
   ]
  },
  {
   "cell_type": "markdown",
   "id": "8e9071953d88addc",
   "metadata": {},
   "source": [
    "## Exercise\n",
    "Assume we have measurements on multiple days. Please compute the average measurement of this week."
   ]
  },
  {
   "cell_type": "code",
   "execution_count": null,
   "id": "d73a8a874ebd09be",
   "metadata": {
    "ExecuteTime": {
     "end_time": "2024-04-11T10:42:44.591792Z",
     "start_time": "2024-04-11T10:42:44.588737Z"
    }
   },
   "outputs": [],
   "source": [
    "measurements_monday = [2.3, 3.1, 5.6]\n",
    "measurements_tuesday = [1.8, 7.0]\n",
    "measurements_wednesday = [4.5, 1.5, 6.4, 3.2]\n",
    "measurements_thursday = [1.9, 2.0]\n",
    "measurements_friday = [4.4]"
   ]
  }
 ],
 "metadata": {
  "kernelspec": {
   "display_name": "Python 3 (ipykernel)",
   "language": "python",
   "name": "python3"
  },
  "language_info": {
   "codemirror_mode": {
    "name": "ipython",
    "version": 3
   },
   "file_extension": ".py",
   "mimetype": "text/x-python",
   "name": "python",
   "nbconvert_exporter": "python",
   "pygments_lexer": "ipython3",
   "version": "3.12.11"
  }
 },
 "nbformat": 4,
 "nbformat_minor": 5
}
