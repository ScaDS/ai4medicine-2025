{
 "cells": [
  {
   "cell_type": "markdown",
   "id": "7aa009f07caefc6c",
   "metadata": {},
   "source": [
    "# Indexing and slicing of sequences\n",
    "A common task in Python is to crop out parts of lists or tuples, for example, to access specific elements.\n",
    "\n",
    "For this, we can use two approaches called _indexing_ and _slicing_.\n",
    "\n",
    "Let's define a small list again:"
   ]
  },
  {
   "cell_type": "code",
   "execution_count": 1,
   "id": "9fab427a7b541bee",
   "metadata": {
    "ExecuteTime": {
     "end_time": "2024-04-11T10:42:56.037659Z",
     "start_time": "2024-04-11T10:42:56.033443Z"
    }
   },
   "outputs": [],
   "source": [
    "data = [34, 0, 65, 23, 51, 9, 50, 78, 34, 100]"
   ]
  },
  {
   "cell_type": "markdown",
   "id": "dbcc8dab19f0e020",
   "metadata": {},
   "source": [
    "We can determine how many elements there are:"
   ]
  },
  {
   "cell_type": "code",
   "execution_count": 2,
   "id": "f2320ae09485fa3e",
   "metadata": {
    "ExecuteTime": {
     "end_time": "2024-04-11T10:42:56.041859Z",
     "start_time": "2024-04-11T10:42:56.038614Z"
    }
   },
   "outputs": [
    {
     "data": {
      "text/plain": [
       "10"
      ]
     },
     "execution_count": 2,
     "metadata": {},
     "output_type": "execute_result"
    }
   ],
   "source": [
    "len(data)"
   ]
  },
  {
   "cell_type": "markdown",
   "id": "8aaa10f8daa14db8",
   "metadata": {},
   "source": [
    "## Select an element via indexing\n",
    "As shown earlier, we can access specific elements by passing an index. Counting the element-index starts at 0."
   ]
  },
  {
   "cell_type": "code",
   "execution_count": 3,
   "id": "e75a3aca6fcd95bb",
   "metadata": {
    "ExecuteTime": {
     "end_time": "2024-04-11T10:42:56.044712Z",
     "start_time": "2024-04-11T10:42:56.042576Z"
    }
   },
   "outputs": [
    {
     "data": {
      "text/plain": [
       "34"
      ]
     },
     "execution_count": 3,
     "metadata": {},
     "output_type": "execute_result"
    }
   ],
   "source": [
    "data[0]"
   ]
  },
  {
   "cell_type": "code",
   "execution_count": 4,
   "id": "ee4bd7bb40add5c1",
   "metadata": {
    "ExecuteTime": {
     "end_time": "2024-04-11T10:42:56.047437Z",
     "start_time": "2024-04-11T10:42:56.045427Z"
    }
   },
   "outputs": [
    {
     "data": {
      "text/plain": [
       "9"
      ]
     },
     "execution_count": 4,
     "metadata": {},
     "output_type": "execute_result"
    }
   ],
   "source": [
    "data[5]"
   ]
  },
  {
   "cell_type": "markdown",
   "id": "ecc454c0ee7bb594",
   "metadata": {},
   "source": [
    "We can also pass negative indices. This will access elements from the end of the list. The last element has index -1."
   ]
  },
  {
   "cell_type": "code",
   "execution_count": 5,
   "id": "b424c86fef8da701",
   "metadata": {
    "ExecuteTime": {
     "end_time": "2024-04-11T10:42:56.050961Z",
     "start_time": "2024-04-11T10:42:56.048980Z"
    }
   },
   "outputs": [
    {
     "data": {
      "text/plain": [
       "100"
      ]
     },
     "execution_count": 5,
     "metadata": {},
     "output_type": "execute_result"
    }
   ],
   "source": [
    "data[-1]"
   ]
  },
  {
   "cell_type": "code",
   "execution_count": 6,
   "id": "3e50f7e9e32007e7",
   "metadata": {
    "ExecuteTime": {
     "end_time": "2024-04-11T10:42:56.053585Z",
     "start_time": "2024-04-11T10:42:56.051443Z"
    }
   },
   "outputs": [
    {
     "data": {
      "text/plain": [
       "34"
      ]
     },
     "execution_count": 6,
     "metadata": {},
     "output_type": "execute_result"
    }
   ],
   "source": [
    "data[-2]"
   ]
  },
  {
   "cell_type": "markdown",
   "id": "73a7e0daa9610bb8",
   "metadata": {},
   "source": [
    "## Select a range via slicing\n",
    "We can also generate a slice of the list containing a certain number of elements by introducing the `:` operator.\n",
    "\n",
    "With this, we pass a range in form `[start:stop:step]`, where `step` is an optional parameter.\n",
    "\n",
    "Be aware, that the provided index at `stop` is not inclusive."
   ]
  },
  {
   "cell_type": "code",
   "execution_count": 7,
   "id": "69b36e32985527a9",
   "metadata": {
    "ExecuteTime": {
     "end_time": "2024-04-11T10:42:56.056321Z",
     "start_time": "2024-04-11T10:42:56.054338Z"
    }
   },
   "outputs": [
    {
     "data": {
      "text/plain": [
       "[34, 0, 65, 23, 51, 9, 50, 78, 34, 100]"
      ]
     },
     "execution_count": 7,
     "metadata": {},
     "output_type": "execute_result"
    }
   ],
   "source": [
    "data"
   ]
  },
  {
   "cell_type": "code",
   "execution_count": 8,
   "id": "2c12934ddaf825a0",
   "metadata": {
    "ExecuteTime": {
     "end_time": "2024-04-11T10:42:56.058905Z",
     "start_time": "2024-04-11T10:42:56.056910Z"
    }
   },
   "outputs": [
    {
     "data": {
      "text/plain": [
       "[0, 65, 23, 51, 9]"
      ]
     },
     "execution_count": 8,
     "metadata": {},
     "output_type": "execute_result"
    }
   ],
   "source": [
    "# Slice with elements from index 1 to 5\n",
    "data[1:6]"
   ]
  },
  {
   "cell_type": "code",
   "execution_count": 9,
   "id": "5e45f21acc6d929e",
   "metadata": {
    "ExecuteTime": {
     "end_time": "2024-04-11T10:42:56.061570Z",
     "start_time": "2024-04-11T10:42:56.059446Z"
    }
   },
   "outputs": [
    {
     "data": {
      "text/plain": [
       "[34, 0, 65]"
      ]
     },
     "execution_count": 9,
     "metadata": {},
     "output_type": "execute_result"
    }
   ],
   "source": [
    "# slice with the first 3 elements\n",
    "data[:3]"
   ]
  },
  {
   "cell_type": "code",
   "execution_count": 10,
   "id": "177b469820e22733",
   "metadata": {
    "ExecuteTime": {
     "end_time": "2024-04-11T10:42:56.064239Z",
     "start_time": "2024-04-11T10:42:56.062130Z"
    }
   },
   "outputs": [
    {
     "data": {
      "text/plain": [
       "[34, 65, 51, 50, 34]"
      ]
     },
     "execution_count": 10,
     "metadata": {},
     "output_type": "execute_result"
    }
   ],
   "source": [
    "# slice with every second element, starting with the first one\n",
    "data[::2]"
   ]
  },
  {
   "cell_type": "markdown",
   "id": "c2226be8",
   "metadata": {},
   "source": [
    "Indexing and slicing work the same way with the other sequence types, e.g. strings."
   ]
  },
  {
   "cell_type": "code",
   "execution_count": 11,
   "id": "c247cf26db6df2e2",
   "metadata": {
    "ExecuteTime": {
     "end_time": "2024-04-11T10:42:56.071611Z",
     "start_time": "2024-04-11T10:42:56.069781Z"
    }
   },
   "outputs": [
    {
     "data": {
      "text/plain": [
       "'hello world'"
      ]
     },
     "execution_count": 11,
     "metadata": {},
     "output_type": "execute_result"
    }
   ],
   "source": [
    "hello = \"hello world\"\n",
    "hello"
   ]
  },
  {
   "cell_type": "code",
   "execution_count": 12,
   "id": "a3566ed93bb02889",
   "metadata": {
    "ExecuteTime": {
     "end_time": "2024-04-11T10:42:56.075809Z",
     "start_time": "2024-04-11T10:42:56.073858Z"
    }
   },
   "outputs": [
    {
     "data": {
      "text/plain": [
       "'hello'"
      ]
     },
     "execution_count": 12,
     "metadata": {},
     "output_type": "execute_result"
    }
   ],
   "source": [
    "hello[:5]"
   ]
  },
  {
   "cell_type": "markdown",
   "id": "2c9cdadc6c71fd96",
   "metadata": {},
   "source": [
    "## Exercise\n",
    "Please select the three numbers 23, 9 and 78 from `data` using a single python command similar to the commands shown above.\n",
    "\n",
    "Also, please select the word `world` from the variable `hello`."
   ]
  }
 ],
 "metadata": {
  "kernelspec": {
   "display_name": "Python 3 (ipykernel)",
   "language": "python",
   "name": "python3"
  },
  "language_info": {
   "codemirror_mode": {
    "name": "ipython",
    "version": 3
   },
   "file_extension": ".py",
   "mimetype": "text/x-python",
   "name": "python",
   "nbconvert_exporter": "python",
   "pygments_lexer": "ipython3",
   "version": "3.12.11"
  }
 },
 "nbformat": 4,
 "nbformat_minor": 5
}
