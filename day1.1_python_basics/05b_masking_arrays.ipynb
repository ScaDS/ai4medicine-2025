{
 "cells": [
  {
   "cell_type": "markdown",
   "id": "e3616f102d7eeb28",
   "metadata": {},
   "source": [
    "# Masking NumPy arrays\n",
    "Masking is a term used for selecting entries in arrays via conditional / logical queries on the data. To do this, we need to use [numpy arrays](https://numpy.org/doc/stable/user/basics.creation.html).\n",
    "\n",
    "NumPy is a package for scientific computing and efficient numerical operations in Python.\n",
    "\n",
    "NumPy arrays (multidimensional, homogeneous arrays of fixed-size items) are the basic data structure.\n",
    "\n",
    "Per definition, they contain [numerical data types](https://numpy.org/doc/stable/user/basics.types.html) only.\n",
    "\n",
    "To use NumPy, we need to [import](https://docs.python.org/3/reference/simple_stmts.html#import) it first, then we can define a NumPy array:"
   ]
  },
  {
   "cell_type": "code",
   "execution_count": 1,
   "id": "1e53c3f9c283de61",
   "metadata": {
    "ExecuteTime": {
     "end_time": "2024-04-11T10:43:12.141731Z",
     "start_time": "2024-04-11T10:43:11.945123Z"
    }
   },
   "outputs": [
    {
     "data": {
      "text/plain": [
       "array([ 1, 17, 25,  3,  5, 25, 12])"
      ]
     },
     "execution_count": 1,
     "metadata": {},
     "output_type": "execute_result"
    }
   ],
   "source": [
    "import numpy\n",
    "measurements = numpy.asarray([1, 17, 25, 3, 5, 25, 12])\n",
    "measurements"
   ]
  },
  {
   "cell_type": "code",
   "execution_count": 2,
   "id": "7d0360a2aade1cb5",
   "metadata": {
    "ExecuteTime": {
     "end_time": "2024-04-11T10:43:12.145019Z",
     "start_time": "2024-04-11T10:43:12.142752Z"
    }
   },
   "outputs": [
    {
     "data": {
      "text/plain": [
       "numpy.ndarray"
      ]
     },
     "execution_count": 2,
     "metadata": {},
     "output_type": "execute_result"
    }
   ],
   "source": [
    "type(measurements)"
   ]
  },
  {
   "cell_type": "code",
   "execution_count": 3,
   "id": "59c35741a76b2e3d",
   "metadata": {
    "ExecuteTime": {
     "end_time": "2024-04-11T10:43:12.148083Z",
     "start_time": "2024-04-11T10:43:12.145872Z"
    }
   },
   "outputs": [
    {
     "data": {
      "text/plain": [
       "dtype('int64')"
      ]
     },
     "execution_count": 3,
     "metadata": {},
     "output_type": "execute_result"
    }
   ],
   "source": [
    "measurements.dtype"
   ]
  },
  {
   "cell_type": "markdown",
   "id": "824fc716cfb0240b",
   "metadata": {},
   "source": [
    "Next, we create the mask, e.g., the condition for all measurements that are above a given threshold:"
   ]
  },
  {
   "cell_type": "code",
   "execution_count": 4,
   "id": "f2850a961f09f26f",
   "metadata": {
    "ExecuteTime": {
     "end_time": "2024-04-11T10:43:12.151182Z",
     "start_time": "2024-04-11T10:43:12.148781Z"
    }
   },
   "outputs": [
    {
     "data": {
      "text/plain": [
       "array([False,  True,  True, False, False,  True,  True])"
      ]
     },
     "execution_count": 4,
     "metadata": {},
     "output_type": "execute_result"
    }
   ],
   "source": [
    "mask = measurements > 10\n",
    "mask"
   ]
  },
  {
   "cell_type": "markdown",
   "id": "2edc256f1607ea77",
   "metadata": {},
   "source": [
    "We can now apply that mask via `[]`operator to our data to retrieve a new array that only contains masked values."
   ]
  },
  {
   "cell_type": "code",
   "execution_count": 5,
   "id": "38c1d16ae1450b30",
   "metadata": {
    "ExecuteTime": {
     "end_time": "2024-04-11T10:43:12.154605Z",
     "start_time": "2024-04-11T10:43:12.152479Z"
    }
   },
   "outputs": [
    {
     "data": {
      "text/plain": [
       "array([17, 25, 25, 12])"
      ]
     },
     "execution_count": 5,
     "metadata": {},
     "output_type": "execute_result"
    }
   ],
   "source": [
    "measurements[mask]"
   ]
  },
  {
   "cell_type": "markdown",
   "id": "80c1e42f418fa53a",
   "metadata": {},
   "source": [
    "All this can also be done in one line. In addition, more complex conditions can be defined with logical operators like `&` (and) or `|` (or), where combined conditions must be separated by parentheses `()`. "
   ]
  },
  {
   "cell_type": "code",
   "execution_count": 6,
   "id": "3bbdc908ee9a0275",
   "metadata": {
    "ExecuteTime": {
     "end_time": "2024-04-11T10:43:12.157510Z",
     "start_time": "2024-04-11T10:43:12.155237Z"
    }
   },
   "outputs": [
    {
     "data": {
      "text/plain": [
       "array([17, 12])"
      ]
     },
     "execution_count": 6,
     "metadata": {},
     "output_type": "execute_result"
    }
   ],
   "source": [
    "measurements[(measurements > 10) & (measurements < 20)]"
   ]
  },
  {
   "cell_type": "markdown",
   "id": "b530e01ce28058f0",
   "metadata": {},
   "source": [
    "## Exercises\n",
    "Use masking to select all measurements equal 25"
   ]
  },
  {
   "cell_type": "code",
   "execution_count": null,
   "id": "d249d16d238350fe",
   "metadata": {
    "ExecuteTime": {
     "end_time": "2024-04-11T10:43:12.159263Z",
     "start_time": "2024-04-11T10:43:12.158110Z"
    }
   },
   "outputs": [],
   "source": []
  },
  {
   "cell_type": "markdown",
   "id": "156a53529fc091f3",
   "metadata": {},
   "source": [
    "\n",
    "\n",
    "Use masking to select all measurements equal and below 5 or above 20"
   ]
  },
  {
   "cell_type": "code",
   "execution_count": null,
   "id": "115fb17fbdaf4b1",
   "metadata": {
    "ExecuteTime": {
     "end_time": "2024-04-11T10:43:12.161178Z",
     "start_time": "2024-04-11T10:43:12.159891Z"
    }
   },
   "outputs": [],
   "source": []
  }
 ],
 "metadata": {
  "kernelspec": {
   "display_name": "Python 3 (ipykernel)",
   "language": "python",
   "name": "python3"
  },
  "language_info": {
   "codemirror_mode": {
    "name": "ipython",
    "version": 3
   },
   "file_extension": ".py",
   "mimetype": "text/x-python",
   "name": "python",
   "nbconvert_exporter": "python",
   "pygments_lexer": "ipython3",
   "version": "3.12.11"
  }
 },
 "nbformat": 4,
 "nbformat_minor": 5
}
