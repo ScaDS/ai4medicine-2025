{
 "cells": [
  {
   "cell_type": "markdown",
   "id": "1a7c2b673d8a06b",
   "metadata": {},
   "source": [
    "# Pitfalls when working with Jupyter notebooks\n",
    "You can execute the same cell in Jupyter notebooks multiple times. This may lead to notebooks which make no sense to the reader."
   ]
  },
  {
   "cell_type": "code",
   "execution_count": 1,
   "id": "516e9c51fbf0ad4",
   "metadata": {
    "ExecuteTime": {
     "end_time": "2024-04-11T10:41:37.738028Z",
     "start_time": "2024-04-11T10:41:37.733257Z"
    }
   },
   "outputs": [],
   "source": [
    "a = 5\n",
    "b = 5"
   ]
  },
  {
   "cell_type": "code",
   "execution_count": 11,
   "id": "6e6658524f137bc4",
   "metadata": {
    "ExecuteTime": {
     "end_time": "2024-04-11T10:41:54.455184Z",
     "start_time": "2024-04-11T10:41:54.452440Z"
    }
   },
   "outputs": [],
   "source": [
    "a = a + 1"
   ]
  },
  {
   "cell_type": "code",
   "execution_count": 12,
   "id": "7ad442edb5dd050c",
   "metadata": {
    "ExecuteTime": {
     "end_time": "2024-04-11T10:41:55.888102Z",
     "start_time": "2024-04-11T10:41:55.884064Z"
    }
   },
   "outputs": [
    {
     "data": {
      "text/plain": [
       "16"
      ]
     },
     "execution_count": 12,
     "metadata": {},
     "output_type": "execute_result"
    }
   ],
   "source": [
    "a + b"
   ]
  },
  {
   "cell_type": "markdown",
   "id": "1650d061793262d2",
   "metadata": {},
   "source": [
    "You can execute them in the wrong order or overwrite variables, which leads to the same effect."
   ]
  },
  {
   "cell_type": "code",
   "execution_count": 13,
   "id": "60c3052ef891a6e3",
   "metadata": {
    "ExecuteTime": {
     "end_time": "2024-04-11T10:42:07.797458Z",
     "start_time": "2024-04-11T10:42:07.794501Z"
    }
   },
   "outputs": [],
   "source": [
    "d = 5"
   ]
  },
  {
   "cell_type": "code",
   "execution_count": 5,
   "id": "14d2dd5636cdd77b",
   "metadata": {
    "ExecuteTime": {
     "end_time": "2024-04-11T10:41:37.749673Z",
     "start_time": "2024-04-11T10:41:37.748069Z"
    }
   },
   "outputs": [],
   "source": [
    "d = 10"
   ]
  },
  {
   "cell_type": "code",
   "execution_count": 14,
   "id": "5d251aa9ea88a0d3",
   "metadata": {
    "ExecuteTime": {
     "end_time": "2024-04-11T10:42:09.332514Z",
     "start_time": "2024-04-11T10:42:09.327890Z"
    }
   },
   "outputs": [
    {
     "data": {
      "text/plain": [
       "5"
      ]
     },
     "execution_count": 14,
     "metadata": {},
     "output_type": "execute_result"
    }
   ],
   "source": [
    "d"
   ]
  },
  {
   "cell_type": "markdown",
   "id": "4b54c88431da0ae4",
   "metadata": {},
   "source": [
    "You can see that cells were executed in the wrong order, repeatedly or not subsequently, by reading the number `[?]` left to the cell."
   ]
  },
  {
   "cell_type": "markdown",
   "id": "bcd0aefa0ec96d2",
   "metadata": {},
   "source": [
    "![](cell_execution_number.png)"
   ]
  },
  {
   "cell_type": "markdown",
   "id": "776e26ddfb7803f5",
   "metadata": {},
   "source": [
    "Tip: When your notebook is ready, click on menu `Kernel > Restart & Run all` to make sure all cells in the notebook are executed in the right order."
   ]
  }
 ],
 "metadata": {
  "kernelspec": {
   "display_name": "Python 3 (ipykernel)",
   "language": "python",
   "name": "python3"
  },
  "language_info": {
   "codemirror_mode": {
    "name": "ipython",
    "version": 3
   },
   "file_extension": ".py",
   "mimetype": "text/x-python",
   "name": "python",
   "nbconvert_exporter": "python",
   "pygments_lexer": "ipython3",
   "version": "3.12.11"
  }
 },
 "nbformat": 4,
 "nbformat_minor": 5
}
