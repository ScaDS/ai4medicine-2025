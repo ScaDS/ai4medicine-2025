{
 "cells": [
  {
   "cell_type": "markdown",
   "id": "a26e9fca-1288-4a6c-a33e-ab6eba18e2da",
   "metadata": {},
   "source": [
    "# Interactive processing of image files\n",
    "\n",
    "In the medical field, there are lots of particular image formats incoorporating image sequences, metadata, and more. For example, n-dimensional TIFF files or DICOM files.\n",
    "\n",
    "The Python ecosystem provides several libraries to handle, process and visualize such file formats. See, for example:\n",
    "* [ImageIO](https://imageio.readthedocs.io/en/stable/index.html)\n",
    "* [StackView](https://github.com/haesleinhuepf/stackview)\n",
    "* [pydicom](https://pydicom.github.io/pydicom/stable/index.html)\n",
    "* [SimpleITK](https://simpleitk.readthedocs.io/en/latest/about.html) with [Example Notebooks](https://insightsoftwareconsortium.github.io/SimpleITK-Notebooks/)\n",
    "* and many more\n",
    "\n",
    "This notebook uses data from the Kaggle dataset \"dlwpt-volumetric-dicom-lung\":\n",
    "* Available at \"https://www.kaggle.com/datasets/dmisky/dlwptvolumetricdicomlung\n",
    "* Licensed under the Open Data Commons Open Database License (ODbL) v1.0."
   ]
  },
  {
   "cell_type": "code",
   "execution_count": 1,
   "id": "347df14d",
   "metadata": {},
   "outputs": [],
   "source": [
    "import os\n",
    "import numpy as np\n",
    "\n",
    "# We use imageio to automatically load and handle n-dimensional TIF images \n",
    "import imageio.v3 as iio\n",
    "# We use pydicom to load and process DICOM files\n",
    "import pydicom\n",
    "# We use stackview for the interactive visualization of the images and its slices\n",
    "import stackview"
   ]
  },
  {
   "cell_type": "markdown",
   "id": "540eb1ce-ea80-4b9d-be1e-42308301ac98",
   "metadata": {},
   "source": [
    "## Load and process TIF with sequential imagery "
   ]
  },
  {
   "cell_type": "code",
   "execution_count": 2,
   "id": "027cff83-2ad2-4e08-8871-df4006fea5c4",
   "metadata": {},
   "outputs": [],
   "source": [
    "# Read the image\n",
    "image = iio.imread('data_mrt/Haase_MRT_tfl3d1.tif')\n",
    "# Read metadata for the image\n",
    "meta = iio.immeta('data_mrt/Haase_MRT_tfl3d1.tif')"
   ]
  },
  {
   "cell_type": "code",
   "execution_count": 3,
   "id": "2cb9367c-24ed-42d9-9913-4ef6048a4d68",
   "metadata": {},
   "outputs": [
    {
     "name": "stdout",
     "output_type": "stream",
     "text": [
      "dict_keys(['byteorder', 'is_indica', 'is_fluoview', 'is_tvips', 'is_philips', 'is_vista', 'is_micromanager', 'is_astrotiff', 'is_scanimage', 'is_imagej', 'ImageJ', 'images', 'slices', 'unit', 'loop', 'Info', 'is_virtual', 'is_tiffep', 'is_nuvu', 'is_shaped', 'is_sis', 'is_nih', 'is_lsm', 'is_epics', 'is_volumetric', 'is_subifd', 'is_mrc', 'is_eer', 'is_fei', 'is_streak', 'is_svs', 'is_frame', 'is_mdgel', 'is_mediacy', 'is_pilatus', 'is_qpi', 'is_multipage', 'is_uniform', 'is_agilent', 'is_stk', 'is_ome', 'is_scn', 'is_andor', 'is_mmstack', 'is_ndtiff', 'is_metaseries', 'is_gdal', 'is_sem', 'is_ndpi', 'is_avs', 'is_dng', 'is_bif', 'is_geotiff'])\n"
     ]
    }
   ],
   "source": [
    "# Inspect the available keys for the metadata\n",
    "print(meta.keys())"
   ]
  },
  {
   "cell_type": "code",
   "execution_count": 4,
   "id": "ac8d18a9",
   "metadata": {},
   "outputs": [
    {
     "name": "stdout",
     "output_type": "stream",
     "text": [
      "NRRD0004\n",
      "# Complete NRRD file format specification at:\n",
      "# http://teem.sourceforge.net/nrrd/format.html\n",
      "type: float\n",
      "dimension: 3\n",
      "space: left-posterior-superior\n",
      "sizes: 320 320 240\n",
      "space directions: (1,0,0) (0,1,0) (0,0,1)\n",
      "kinds: domain domain domain\n",
      "endian: little\n",
      "encoding: raw\n",
      "space origin: (0,0,0)\n",
      "\n"
     ]
    }
   ],
   "source": [
    "# Inspect selected content of the metadata\n",
    "print(meta['Info'])"
   ]
  },
  {
   "cell_type": "markdown",
   "id": "00176231",
   "metadata": {},
   "source": [
    "Interactive vizualisation of the n-dimensional TIF image.\n",
    "\n",
    "**Note**: This view will not render on the course website. You need to run the code locally or on the Jupyter-Hub of your institute"
   ]
  },
  {
   "cell_type": "code",
   "execution_count": 5,
   "id": "24bdc0f1-9869-4193-acbc-214c52adbf0f",
   "metadata": {},
   "outputs": [
    {
     "data": {
      "application/vnd.jupyter.widget-view+json": {
       "model_id": "922c08a61d2f4d22a0514e50c3d9870b",
       "version_major": 2,
       "version_minor": 0
      },
      "text/plain": [
       "HBox(children=(VBox(children=(VBox(children=(HBox(children=(VBox(children=(ImageWidget(height=256, width=256),…"
      ]
     },
     "execution_count": 5,
     "metadata": {},
     "output_type": "execute_result"
    }
   ],
   "source": [
    "stackview.slice(image, continuous_update=True)"
   ]
  },
  {
   "cell_type": "markdown",
   "id": "aa5aeb75-4e49-404e-84e3-cae12370399e",
   "metadata": {},
   "source": [
    "## Load and process a DICOM series"
   ]
  },
  {
   "cell_type": "code",
   "execution_count": 6,
   "id": "d1719e0a-8e7e-4363-9866-610b53369731",
   "metadata": {},
   "outputs": [
    {
     "name": "stdout",
     "output_type": "stream",
     "text": [
      "Found 99 DICOM files in the series\n"
     ]
    }
   ],
   "source": [
    "datasets = []\n",
    "\n",
    "# Load the DICOM files with pydicom into pydicom DataSets\n",
    "with os.scandir(\"data_dicom/series1\") as entries:\n",
    "    for entry in entries:\n",
    "        if entry.is_file() and entry.name.endswith(\".dcm\"):\n",
    "            datasets.append(pydicom.dcmread(entry.path))\n",
    "\n",
    "print(f\"Found {len(datasets)} DICOM files in the series\")"
   ]
  },
  {
   "cell_type": "markdown",
   "id": "a9f24e15-229b-482f-ba1e-611b82a47a4f",
   "metadata": {},
   "source": [
    "You can examine the available DICOM metadata elements for such a file in datasets by simply printing it:"
   ]
  },
  {
   "cell_type": "code",
   "execution_count": null,
   "id": "4a0c2a92-eb09-4752-b5aa-7364f86ad278",
   "metadata": {},
   "outputs": [],
   "source": [
    "print(datasets[0])"
   ]
  },
  {
   "cell_type": "markdown",
   "id": "37534464-239b-4df7-a660-69dff78ecbfb",
   "metadata": {},
   "source": [
    "Let's examine some the metadata for a couple of the DICOM files"
   ]
  },
  {
   "cell_type": "code",
   "execution_count": 8,
   "id": "45a1ea7b-e0d4-4ea6-84fb-9d3d68a129ca",
   "metadata": {},
   "outputs": [
    {
     "name": "stdout",
     "output_type": "stream",
     "text": [
      "\n",
      "Patient: C3N-00247\n",
      "Modality: CT\n",
      "Study Date: 20100227\n",
      "InstanceNumber: 95\n",
      "\n",
      "Patient: C3N-00247\n",
      "Modality: CT\n",
      "Study Date: 20100227\n",
      "InstanceNumber: 96\n",
      "\n",
      "Patient: C3N-00247\n",
      "Modality: CT\n",
      "Study Date: 20100227\n",
      "InstanceNumber: 25\n"
     ]
    }
   ],
   "source": [
    "for file in datasets[:3]:\n",
    "    print(\"\\nPatient:\", file.PatientName)\n",
    "    print(\"Modality:\", file.Modality)\n",
    "    print(\"Study Date:\", file.StudyDate)\n",
    "    print(\"InstanceNumber:\", file.InstanceNumber)"
   ]
  },
  {
   "cell_type": "markdown",
   "id": "9396c4de-4b3d-4328-a66e-80a4eab4fd8b",
   "metadata": {},
   "source": [
    "As we can see by the InstanceNumber, the DICOM files are unsorted. What we want to do now is:\n",
    "* Sort the list datasets of pydicoms DICOM files, sort them based on their InstanceNumber\n",
    "* Stack the [pixel array](https://pydicom.github.io/pydicom/1.1/working_with_pixel_data.html#pixel-array) of the DICOM files into a 3D NumPy array\n",
    "* Visualize the stacked array with stackview\n",
    "\n",
    "And since we already know how to make use of our AI assistant, let's aks bob to provide us with according code!"
   ]
  },
  {
   "cell_type": "code",
   "execution_count": 9,
   "id": "ee09b81d-9d9d-425e-afe5-f2ad29d1e63b",
   "metadata": {},
   "outputs": [
    {
     "data": {
      "text/html": [
       "\n",
       "            <div style=\"font-size:7pt\">\n",
       "            This notebook may contain text, code and images generated by artificial intelligence.\n",
       "            Used model: alias-code, vision model: None, endpoint: https://helmholtz-blablador.fz-juelich.de:8000/v1, bia-bob version: 0.34.3.. Do not enter sensitive or private information and verify generated contents according to good scientific practice. Read more: <a href=\"https://github.com/haesleinhuepf/bia-bob#disclaimer\">https://github.com/haesleinhuepf/bia-bob#disclaimer</a>\n",
       "            </div>\n",
       "            "
      ],
      "text/plain": [
       "<IPython.core.display.HTML object>"
      ]
     },
     "metadata": {},
     "output_type": "display_data"
    }
   ],
   "source": [
    "# Import bia-bob as bob\n",
    "from bia_bob import bob\n",
    "# Initialize bia-bob with Blablador and API key from environment variable\n",
    "bob.initialize(endpoint='blablador', model='alias-code')"
   ]
  },
  {
   "cell_type": "code",
   "execution_count": null,
   "id": "e6d9c3cb-aebb-4fa3-ba2b-9e6c1cc84967",
   "metadata": {},
   "outputs": [],
   "source": [
    "%%bob\n",
    "TODO"
   ]
  },
  {
   "cell_type": "code",
   "execution_count": null,
   "id": "677db2bf-d1ea-42a8-8ed5-894a24106f9a",
   "metadata": {},
   "outputs": [],
   "source": []
  }
 ],
 "metadata": {
  "kernelspec": {
   "display_name": "ai4medicine-env",
   "language": "python",
   "name": "python3"
  },
  "language_info": {
   "codemirror_mode": {
    "name": "ipython",
    "version": 3
   },
   "file_extension": ".py",
   "mimetype": "text/x-python",
   "name": "python",
   "nbconvert_exporter": "python",
   "pygments_lexer": "ipython3",
   "version": "3.12.11"
  }
 },
 "nbformat": 4,
 "nbformat_minor": 5
}
